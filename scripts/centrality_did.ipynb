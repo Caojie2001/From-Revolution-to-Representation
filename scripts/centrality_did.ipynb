{
 "cells": [
  {
   "cell_type": "code",
   "execution_count": null,
   "metadata": {},
   "outputs": [],
   "source": [
    "import os\n",
    "import pandas as pd\n",
    "from tqdm import tqdm\n",
    "import matplotlib.pyplot as plt\n",
    "import networkx as nx\n",
    "import pickle\n",
    "import statsmodels.formula.api as smf\n",
    "import numpy as np"
   ]
  },
  {
   "cell_type": "code",
   "execution_count": null,
   "metadata": {},
   "outputs": [],
   "source": [
    "def compute_centralities(G, output_file):\n",
    "    '''\n",
    "    Compute centrality measures for a graph and save them to a CSV file.\n",
    "    '''\n",
    "    degree_centrality = nx.degree_centrality(G)\n",
    "    closeness_centrality = nx.closeness_centrality(G)\n",
    "    betweenness_centrality = nx.betweenness_centrality(G)\n",
    "    eigenvector_centrality = nx.eigenvector_centrality(G, max_iter=1000)\n",
    "    \n",
    "    centralities_df = pd.DataFrame({\n",
    "        \"Node\": list(G.nodes()),\n",
    "        \"Degree Centrality\": [degree_centrality[node] for node in G.nodes()],\n",
    "        \"Closeness Centrality\": [closeness_centrality[node] for node in G.nodes()],\n",
    "        \"Betweenness Centrality\": [betweenness_centrality[node] for node in G.nodes()],\n",
    "        \"Eigenvector Centrality\": [eigenvector_centrality[node] for node in G.nodes()],\n",
    "    })\n",
    "    \n",
    "    centralities_long_df = centralities_df.melt(\n",
    "        id_vars=\"Node\", \n",
    "        var_name=\"Centrality Type\", \n",
    "        value_name=\"Score\"\n",
    "    )\n",
    "    \n",
    "    centralities_long_df.to_csv(output_file, index=False)\n",
    "    print(f\"Centralities for graph saved to {output_file}\")\n",
    "    return centralities_long_df"
   ]
  },
  {
   "cell_type": "code",
   "execution_count": null,
   "metadata": {},
   "outputs": [
    {
     "name": "stderr",
     "output_type": "stream",
     "text": [
      "Processing Graph Files:   0%|          | 1/691 [01:28<16:53:34, 88.14s/it]"
     ]
    },
    {
     "name": "stdout",
     "output_type": "stream",
     "text": [
      "Centralities for graph saved to monthly_centralities_csv_new/centralities_1994-12.csv\n"
     ]
    },
    {
     "name": "stderr",
     "output_type": "stream",
     "text": [
      "Processing Graph Files:   0%|          | 2/691 [02:59<17:13:16, 89.98s/it]"
     ]
    },
    {
     "name": "stdout",
     "output_type": "stream",
     "text": [
      "Centralities for graph saved to monthly_centralities_csv_new/centralities_1994-06.csv\n"
     ]
    },
    {
     "name": "stderr",
     "output_type": "stream",
     "text": [
      "Processing Graph Files:   0%|          | 3/691 [04:08<15:23:52, 80.57s/it]"
     ]
    },
    {
     "name": "stdout",
     "output_type": "stream",
     "text": [
      "Centralities for graph saved to monthly_centralities_csv_new/centralities_1962-09.csv\n"
     ]
    },
    {
     "name": "stderr",
     "output_type": "stream",
     "text": [
      "Processing Graph Files:   1%|          | 4/691 [05:29<15:22:11, 80.54s/it]"
     ]
    },
    {
     "name": "stdout",
     "output_type": "stream",
     "text": [
      "Centralities for graph saved to monthly_centralities_csv_new/centralities_1953-01.csv\n"
     ]
    },
    {
     "name": "stderr",
     "output_type": "stream",
     "text": [
      "Processing Graph Files:   1%|          | 5/691 [07:19<17:21:27, 91.09s/it]"
     ]
    },
    {
     "name": "stdout",
     "output_type": "stream",
     "text": [
      "Centralities for graph saved to monthly_centralities_csv_new/centralities_2000-11.csv\n"
     ]
    },
    {
     "name": "stderr",
     "output_type": "stream",
     "text": [
      "Processing Graph Files:   1%|          | 6/691 [08:41<16:45:59, 88.12s/it]"
     ]
    },
    {
     "name": "stdout",
     "output_type": "stream",
     "text": [
      "Centralities for graph saved to monthly_centralities_csv_new/centralities_1954-08.csv\n"
     ]
    },
    {
     "name": "stderr",
     "output_type": "stream",
     "text": [
      "Processing Graph Files:   1%|          | 7/691 [10:25<17:45:33, 93.47s/it]"
     ]
    },
    {
     "name": "stdout",
     "output_type": "stream",
     "text": [
      "Centralities for graph saved to monthly_centralities_csv_new/centralities_2000-05.csv\n"
     ]
    },
    {
     "name": "stderr",
     "output_type": "stream",
     "text": [
      "Processing Graph Files:   1%|          | 8/691 [12:03<17:58:07, 94.71s/it]"
     ]
    },
    {
     "name": "stdout",
     "output_type": "stream",
     "text": [
      "Centralities for graph saved to monthly_centralities_csv_new/centralities_1984-03.csv\n"
     ]
    },
    {
     "name": "stderr",
     "output_type": "stream",
     "text": [
      "Processing Graph Files:   1%|▏         | 9/691 [13:06<16:03:47, 84.79s/it]"
     ]
    },
    {
     "name": "stdout",
     "output_type": "stream",
     "text": [
      "Centralities for graph saved to monthly_centralities_csv_new/centralities_1975-05.csv\n"
     ]
    },
    {
     "name": "stderr",
     "output_type": "stream",
     "text": [
      "Processing Graph Files:   1%|▏         | 10/691 [14:12<14:56:44, 79.01s/it]"
     ]
    },
    {
     "name": "stdout",
     "output_type": "stream",
     "text": [
      "Centralities for graph saved to monthly_centralities_csv_new/centralities_1975-11.csv\n"
     ]
    },
    {
     "name": "stderr",
     "output_type": "stream",
     "text": [
      "Processing Graph Files:   2%|▏         | 11/691 [15:26<14:38:24, 77.51s/it]"
     ]
    },
    {
     "name": "stdout",
     "output_type": "stream",
     "text": [
      "Centralities for graph saved to monthly_centralities_csv_new/centralities_1951-04.csv\n"
     ]
    },
    {
     "name": "stderr",
     "output_type": "stream",
     "text": [
      "Processing Graph Files:   2%|▏         | 12/691 [17:06<15:54:26, 84.34s/it]"
     ]
    },
    {
     "name": "stdout",
     "output_type": "stream",
     "text": [
      "Centralities for graph saved to monthly_centralities_csv_new/centralities_1988-03.csv\n"
     ]
    },
    {
     "name": "stderr",
     "output_type": "stream",
     "text": [
      "Processing Graph Files:   2%|▏         | 13/691 [18:21<15:20:50, 81.49s/it]"
     ]
    },
    {
     "name": "stdout",
     "output_type": "stream",
     "text": [
      "Centralities for graph saved to monthly_centralities_csv_new/centralities_1951-10.csv\n"
     ]
    },
    {
     "name": "stderr",
     "output_type": "stream",
     "text": [
      "Processing Graph Files:   2%|▏         | 14/691 [19:57<16:10:57, 86.05s/it]"
     ]
    },
    {
     "name": "stdout",
     "output_type": "stream",
     "text": [
      "Centralities for graph saved to monthly_centralities_csv_new/centralities_1986-06.csv\n"
     ]
    },
    {
     "name": "stderr",
     "output_type": "stream",
     "text": [
      "Processing Graph Files:   2%|▏         | 15/691 [21:35<16:47:22, 89.41s/it]"
     ]
    },
    {
     "name": "stdout",
     "output_type": "stream",
     "text": [
      "Centralities for graph saved to monthly_centralities_csv_new/centralities_1986-12.csv\n"
     ]
    },
    {
     "name": "stderr",
     "output_type": "stream",
     "text": [
      "Processing Graph Files:   2%|▏         | 16/691 [23:26<18:00:45, 96.07s/it]"
     ]
    },
    {
     "name": "stdout",
     "output_type": "stream",
     "text": [
      "Centralities for graph saved to monthly_centralities_csv_new/centralities_1958-08.csv\n"
     ]
    },
    {
     "name": "stderr",
     "output_type": "stream",
     "text": [
      "Processing Graph Files:   2%|▏         | 17/691 [24:21<15:40:03, 83.68s/it]"
     ]
    },
    {
     "name": "stdout",
     "output_type": "stream",
     "text": [
      "Centralities for graph saved to monthly_centralities_csv_new/centralities_1970-09.csv\n"
     ]
    },
    {
     "name": "stderr",
     "output_type": "stream",
     "text": [
      "Processing Graph Files:   3%|▎         | 18/691 [25:40<15:23:02, 82.29s/it]"
     ]
    },
    {
     "name": "stdout",
     "output_type": "stream",
     "text": [
      "Centralities for graph saved to monthly_centralities_csv_new/centralities_1979-11.csv\n"
     ]
    },
    {
     "name": "stderr",
     "output_type": "stream",
     "text": [
      "Processing Graph Files:   3%|▎         | 19/691 [27:04<15:25:36, 82.64s/it]"
     ]
    },
    {
     "name": "stdout",
     "output_type": "stream",
     "text": [
      "Centralities for graph saved to monthly_centralities_csv_new/centralities_1979-05.csv\n"
     ]
    },
    {
     "name": "stderr",
     "output_type": "stream",
     "text": [
      "Processing Graph Files:   3%|▎         | 20/691 [28:49<16:42:12, 89.62s/it]"
     ]
    },
    {
     "name": "stdout",
     "output_type": "stream",
     "text": [
      "Centralities for graph saved to monthly_centralities_csv_new/centralities_1998-06.csv\n"
     ]
    },
    {
     "name": "stderr",
     "output_type": "stream",
     "text": [
      "Processing Graph Files:   3%|▎         | 21/691 [29:14<13:02:17, 70.06s/it]"
     ]
    },
    {
     "name": "stdout",
     "output_type": "stream",
     "text": [
      "Centralities for graph saved to monthly_centralities_csv_new/centralities_1946-08.csv\n"
     ]
    },
    {
     "name": "stderr",
     "output_type": "stream",
     "text": [
      "Processing Graph Files:   3%|▎         | 22/691 [31:04<15:16:45, 82.22s/it]"
     ]
    },
    {
     "name": "stdout",
     "output_type": "stream",
     "text": [
      "Centralities for graph saved to monthly_centralities_csv_new/centralities_1998-12.csv\n"
     ]
    },
    {
     "name": "stderr",
     "output_type": "stream",
     "text": [
      "Processing Graph Files:   3%|▎         | 23/691 [32:55<16:49:19, 90.66s/it]"
     ]
    },
    {
     "name": "stdout",
     "output_type": "stream",
     "text": [
      "Centralities for graph saved to monthly_centralities_csv_new/centralities_1996-03.csv\n"
     ]
    },
    {
     "name": "stderr",
     "output_type": "stream",
     "text": [
      "Processing Graph Files:   3%|▎         | 24/691 [33:46<14:36:30, 78.85s/it]"
     ]
    },
    {
     "name": "stdout",
     "output_type": "stream",
     "text": [
      "Centralities for graph saved to monthly_centralities_csv_new/centralities_1967-11.csv\n"
     ]
    },
    {
     "name": "stderr",
     "output_type": "stream",
     "text": [
      "Processing Graph Files:   4%|▎         | 25/691 [34:37<13:00:41, 70.33s/it]"
     ]
    },
    {
     "name": "stdout",
     "output_type": "stream",
     "text": [
      "Centralities for graph saved to monthly_centralities_csv_new/centralities_1967-05.csv\n"
     ]
    },
    {
     "name": "stderr",
     "output_type": "stream",
     "text": [
      "Processing Graph Files:   4%|▍         | 26/691 [35:27<11:54:17, 64.45s/it]"
     ]
    },
    {
     "name": "stdout",
     "output_type": "stream",
     "text": [
      "Centralities for graph saved to monthly_centralities_csv_new/centralities_1969-01.csv\n"
     ]
    },
    {
     "name": "stderr",
     "output_type": "stream",
     "text": [
      "Processing Graph Files:   4%|▍         | 27/691 [36:14<10:53:11, 59.02s/it]"
     ]
    },
    {
     "name": "stdout",
     "output_type": "stream",
     "text": [
      "Centralities for graph saved to monthly_centralities_csv_new/centralities_1967-04.csv\n"
     ]
    },
    {
     "name": "stderr",
     "output_type": "stream",
     "text": [
      "Processing Graph Files:   4%|▍         | 28/691 [37:06<10:30:21, 57.05s/it]"
     ]
    },
    {
     "name": "stdout",
     "output_type": "stream",
     "text": [
      "Centralities for graph saved to monthly_centralities_csv_new/centralities_1967-10.csv\n"
     ]
    },
    {
     "name": "stderr",
     "output_type": "stream",
     "text": [
      "Processing Graph Files:   4%|▍         | 29/691 [38:30<11:58:15, 65.10s/it]"
     ]
    },
    {
     "name": "stdout",
     "output_type": "stream",
     "text": [
      "Centralities for graph saved to monthly_centralities_csv_new/centralities_1996-02.csv\n"
     ]
    },
    {
     "name": "stderr",
     "output_type": "stream",
     "text": [
      "Processing Graph Files:   4%|▍         | 30/691 [38:55<9:46:25, 53.23s/it] "
     ]
    },
    {
     "name": "stdout",
     "output_type": "stream",
     "text": [
      "Centralities for graph saved to monthly_centralities_csv_new/centralities_1946-09.csv\n"
     ]
    },
    {
     "name": "stderr",
     "output_type": "stream",
     "text": [
      "Processing Graph Files:   4%|▍         | 31/691 [40:35<12:19:47, 67.25s/it]"
     ]
    },
    {
     "name": "stdout",
     "output_type": "stream",
     "text": [
      "Centralities for graph saved to monthly_centralities_csv_new/centralities_1998-07.csv\n"
     ]
    },
    {
     "name": "stderr",
     "output_type": "stream",
     "text": [
      "Processing Graph Files:   5%|▍         | 32/691 [41:46<12:28:19, 68.13s/it]"
     ]
    },
    {
     "name": "stdout",
     "output_type": "stream",
     "text": [
      "Centralities for graph saved to monthly_centralities_csv_new/centralities_1979-04.csv\n"
     ]
    },
    {
     "name": "stderr",
     "output_type": "stream",
     "text": [
      "Processing Graph Files:   5%|▍         | 33/691 [42:55<12:31:46, 68.55s/it]"
     ]
    },
    {
     "name": "stdout",
     "output_type": "stream",
     "text": [
      "Centralities for graph saved to monthly_centralities_csv_new/centralities_1979-10.csv\n"
     ]
    },
    {
     "name": "stderr",
     "output_type": "stream",
     "text": [
      "Processing Graph Files:   5%|▍         | 34/691 [43:51<11:48:21, 64.69s/it]"
     ]
    },
    {
     "name": "stdout",
     "output_type": "stream",
     "text": [
      "Centralities for graph saved to monthly_centralities_csv_new/centralities_1977-01.csv\n"
     ]
    },
    {
     "name": "stderr",
     "output_type": "stream",
     "text": [
      "Processing Graph Files:   5%|▌         | 35/691 [44:41<10:59:36, 60.33s/it]"
     ]
    },
    {
     "name": "stdout",
     "output_type": "stream",
     "text": [
      "Centralities for graph saved to monthly_centralities_csv_new/centralities_1970-08.csv\n"
     ]
    },
    {
     "name": "stderr",
     "output_type": "stream",
     "text": [
      "Processing Graph Files:   5%|▌         | 36/691 [46:08<12:25:26, 68.28s/it]"
     ]
    },
    {
     "name": "stdout",
     "output_type": "stream",
     "text": [
      "Centralities for graph saved to monthly_centralities_csv_new/centralities_1958-09.csv\n"
     ]
    },
    {
     "name": "stderr",
     "output_type": "stream",
     "text": [
      "Processing Graph Files:   5%|▌         | 37/691 [47:37<13:31:10, 74.42s/it]"
     ]
    },
    {
     "name": "stdout",
     "output_type": "stream",
     "text": [
      "Centralities for graph saved to monthly_centralities_csv_new/centralities_1986-07.csv\n"
     ]
    },
    {
     "name": "stderr",
     "output_type": "stream",
     "text": [
      "Processing Graph Files:   5%|▌         | 38/691 [48:47<13:16:02, 73.14s/it]"
     ]
    },
    {
     "name": "stdout",
     "output_type": "stream",
     "text": [
      "Centralities for graph saved to monthly_centralities_csv_new/centralities_1951-11.csv\n"
     ]
    },
    {
     "name": "stderr",
     "output_type": "stream",
     "text": [
      "Processing Graph Files:   6%|▌         | 39/691 [50:22<14:26:30, 79.74s/it]"
     ]
    },
    {
     "name": "stdout",
     "output_type": "stream",
     "text": [
      "Centralities for graph saved to monthly_centralities_csv_new/centralities_2002-01.csv\n"
     ]
    },
    {
     "name": "stderr",
     "output_type": "stream",
     "text": [
      "Processing Graph Files:   6%|▌         | 40/691 [51:42<14:27:55, 79.99s/it]"
     ]
    },
    {
     "name": "stdout",
     "output_type": "stream",
     "text": [
      "Centralities for graph saved to monthly_centralities_csv_new/centralities_1988-02.csv\n"
     ]
    },
    {
     "name": "stderr",
     "output_type": "stream",
     "text": [
      "Processing Graph Files:   6%|▌         | 41/691 [52:24<12:20:09, 68.32s/it]"
     ]
    },
    {
     "name": "stdout",
     "output_type": "stream",
     "text": [
      "Centralities for graph saved to monthly_centralities_csv_new/centralities_1951-05.csv\n"
     ]
    },
    {
     "name": "stderr",
     "output_type": "stream",
     "text": [
      "Processing Graph Files:   6%|▌         | 42/691 [53:18<11:33:51, 64.15s/it]"
     ]
    },
    {
     "name": "stdout",
     "output_type": "stream",
     "text": [
      "Centralities for graph saved to monthly_centralities_csv_new/centralities_1975-10.csv\n"
     ]
    },
    {
     "name": "stderr",
     "output_type": "stream",
     "text": [
      "Processing Graph Files:   6%|▌         | 43/691 [54:09<10:50:13, 60.21s/it]"
     ]
    },
    {
     "name": "stdout",
     "output_type": "stream",
     "text": [
      "Centralities for graph saved to monthly_centralities_csv_new/centralities_1975-04.csv\n"
     ]
    },
    {
     "name": "stderr",
     "output_type": "stream",
     "text": [
      "Processing Graph Files:   6%|▋         | 44/691 [55:24<11:38:24, 64.77s/it]"
     ]
    },
    {
     "name": "stdout",
     "output_type": "stream",
     "text": [
      "Centralities for graph saved to monthly_centralities_csv_new/centralities_1984-02.csv\n"
     ]
    },
    {
     "name": "stderr",
     "output_type": "stream",
     "text": [
      "Processing Graph Files:   7%|▋         | 45/691 [57:08<13:42:50, 76.43s/it]"
     ]
    },
    {
     "name": "stdout",
     "output_type": "stream",
     "text": [
      "Centralities for graph saved to monthly_centralities_csv_new/centralities_2000-04.csv\n"
     ]
    },
    {
     "name": "stderr",
     "output_type": "stream",
     "text": [
      "Processing Graph Files:   7%|▋         | 46/691 [58:36<14:19:38, 79.97s/it]"
     ]
    },
    {
     "name": "stdout",
     "output_type": "stream",
     "text": [
      "Centralities for graph saved to monthly_centralities_csv_new/centralities_2000-10.csv\n"
     ]
    },
    {
     "name": "stderr",
     "output_type": "stream",
     "text": [
      "Processing Graph Files:   7%|▋         | 47/691 [59:51<14:00:26, 78.30s/it]"
     ]
    },
    {
     "name": "stdout",
     "output_type": "stream",
     "text": [
      "Centralities for graph saved to monthly_centralities_csv_new/centralities_1954-09.csv\n"
     ]
    },
    {
     "name": "stderr",
     "output_type": "stream",
     "text": [
      "Processing Graph Files:   7%|▋         | 48/691 [1:00:54<13:11:55, 73.90s/it]"
     ]
    },
    {
     "name": "stdout",
     "output_type": "stream",
     "text": [
      "Centralities for graph saved to monthly_centralities_csv_new/centralities_1962-08.csv\n"
     ]
    },
    {
     "name": "stderr",
     "output_type": "stream",
     "text": [
      "Processing Graph Files:   7%|▋         | 49/691 [1:02:04<12:56:35, 72.58s/it]"
     ]
    },
    {
     "name": "stdout",
     "output_type": "stream",
     "text": [
      "Centralities for graph saved to monthly_centralities_csv_new/centralities_1965-01.csv\n"
     ]
    },
    {
     "name": "stderr",
     "output_type": "stream",
     "text": [
      "Processing Graph Files:   7%|▋         | 50/691 [1:03:29<13:36:13, 76.40s/it]"
     ]
    },
    {
     "name": "stdout",
     "output_type": "stream",
     "text": [
      "Centralities for graph saved to monthly_centralities_csv_new/centralities_1994-07.csv\n"
     ]
    },
    {
     "name": "stderr",
     "output_type": "stream",
     "text": [
      "Processing Graph Files:   7%|▋         | 51/691 [1:04:52<13:57:07, 78.48s/it]"
     ]
    },
    {
     "name": "stdout",
     "output_type": "stream",
     "text": [
      "Centralities for graph saved to monthly_centralities_csv_new/centralities_1994-05.csv\n"
     ]
    },
    {
     "name": "stderr",
     "output_type": "stream",
     "text": [
      "Processing Graph Files:   8%|▊         | 52/691 [1:06:15<14:09:12, 79.74s/it]"
     ]
    },
    {
     "name": "stdout",
     "output_type": "stream",
     "text": [
      "Centralities for graph saved to monthly_centralities_csv_new/centralities_1994-11.csv\n"
     ]
    },
    {
     "name": "stderr",
     "output_type": "stream",
     "text": [
      "Processing Graph Files:   8%|▊         | 53/691 [1:07:28<13:44:39, 77.55s/it]"
     ]
    },
    {
     "name": "stdout",
     "output_type": "stream",
     "text": [
      "Centralities for graph saved to monthly_centralities_csv_new/centralities_1965-03.csv\n"
     ]
    },
    {
     "name": "stderr",
     "output_type": "stream",
     "text": [
      "Processing Graph Files:   8%|▊         | 54/691 [1:09:08<14:55:30, 84.35s/it]"
     ]
    },
    {
     "name": "stdout",
     "output_type": "stream",
     "text": [
      "Centralities for graph saved to monthly_centralities_csv_new/centralities_2000-06.csv\n"
     ]
    },
    {
     "name": "stderr",
     "output_type": "stream",
     "text": [
      "Processing Graph Files:   8%|▊         | 55/691 [1:10:43<15:27:45, 87.52s/it]"
     ]
    },
    {
     "name": "stdout",
     "output_type": "stream",
     "text": [
      "Centralities for graph saved to monthly_centralities_csv_new/centralities_2000-12.csv\n"
     ]
    },
    {
     "name": "stderr",
     "output_type": "stream",
     "text": [
      "Processing Graph Files:   8%|▊         | 56/691 [1:11:46<14:10:10, 80.33s/it]"
     ]
    },
    {
     "name": "stdout",
     "output_type": "stream",
     "text": [
      "Centralities for graph saved to monthly_centralities_csv_new/centralities_1953-02.csv\n"
     ]
    },
    {
     "name": "stderr",
     "output_type": "stream",
     "text": [
      "Processing Graph Files:   8%|▊         | 57/691 [1:13:08<14:13:37, 80.78s/it]"
     ]
    },
    {
     "name": "stdout",
     "output_type": "stream",
     "text": [
      "Centralities for graph saved to monthly_centralities_csv_new/centralities_1983-09.csv\n"
     ]
    },
    {
     "name": "stderr",
     "output_type": "stream",
     "text": [
      "Processing Graph Files:   8%|▊         | 58/691 [1:14:07<13:01:29, 74.08s/it]"
     ]
    },
    {
     "name": "stdout",
     "output_type": "stream",
     "text": [
      "Centralities for graph saved to monthly_centralities_csv_new/centralities_1975-12.csv\n"
     ]
    },
    {
     "name": "stderr",
     "output_type": "stream",
     "text": [
      "Processing Graph Files:   9%|▊         | 59/691 [1:15:04<12:08:52, 69.20s/it]"
     ]
    },
    {
     "name": "stdout",
     "output_type": "stream",
     "text": [
      "Centralities for graph saved to monthly_centralities_csv_new/centralities_1975-06.csv\n"
     ]
    },
    {
     "name": "stderr",
     "output_type": "stream",
     "text": [
      "Processing Graph Files:   9%|▊         | 60/691 [1:16:34<13:13:31, 75.45s/it]"
     ]
    },
    {
     "name": "stdout",
     "output_type": "stream",
     "text": [
      "Centralities for graph saved to monthly_centralities_csv_new/centralities_2002-03.csv\n"
     ]
    },
    {
     "name": "stderr",
     "output_type": "stream",
     "text": [
      "Processing Graph Files:   9%|▉         | 61/691 [1:17:42<12:46:04, 72.96s/it]"
     ]
    },
    {
     "name": "stdout",
     "output_type": "stream",
     "text": [
      "Centralities for graph saved to monthly_centralities_csv_new/centralities_1951-07.csv\n"
     ]
    },
    {
     "name": "stderr",
     "output_type": "stream",
     "text": [
      "Processing Graph Files:   9%|▉         | 62/691 [1:19:09<13:31:59, 77.46s/it]"
     ]
    },
    {
     "name": "stdout",
     "output_type": "stream",
     "text": [
      "Centralities for graph saved to monthly_centralities_csv_new/centralities_1986-11.csv\n"
     ]
    },
    {
     "name": "stderr",
     "output_type": "stream",
     "text": [
      "Processing Graph Files:   9%|▉         | 63/691 [1:20:41<14:13:29, 81.54s/it]"
     ]
    },
    {
     "name": "stdout",
     "output_type": "stream",
     "text": [
      "Centralities for graph saved to monthly_centralities_csv_new/centralities_1986-05.csv\n"
     ]
    },
    {
     "name": "stderr",
     "output_type": "stream",
     "text": [
      "Processing Graph Files:   9%|▉         | 64/691 [1:21:40<13:02:15, 74.86s/it]"
     ]
    },
    {
     "name": "stdout",
     "output_type": "stream",
     "text": [
      "Centralities for graph saved to monthly_centralities_csv_new/centralities_1977-03.csv\n"
     ]
    },
    {
     "name": "stderr",
     "output_type": "stream",
     "text": [
      "Processing Graph Files:   9%|▉         | 65/691 [1:22:53<12:56:57, 74.47s/it]"
     ]
    },
    {
     "name": "stdout",
     "output_type": "stream",
     "text": [
      "Centralities for graph saved to monthly_centralities_csv_new/centralities_1979-06.csv\n"
     ]
    },
    {
     "name": "stderr",
     "output_type": "stream",
     "text": [
      "Processing Graph Files:  10%|▉         | 66/691 [1:24:05<12:47:10, 73.65s/it]"
     ]
    },
    {
     "name": "stdout",
     "output_type": "stream",
     "text": [
      "Centralities for graph saved to monthly_centralities_csv_new/centralities_1979-12.csv\n"
     ]
    },
    {
     "name": "stderr",
     "output_type": "stream",
     "text": [
      "Processing Graph Files:  10%|▉         | 67/691 [1:25:42<13:57:01, 80.48s/it]"
     ]
    },
    {
     "name": "stdout",
     "output_type": "stream",
     "text": [
      "Centralities for graph saved to monthly_centralities_csv_new/centralities_1998-11.csv\n"
     ]
    },
    {
     "name": "stderr",
     "output_type": "stream",
     "text": [
      "Processing Graph Files:  10%|▉         | 68/691 [1:27:17<14:43:23, 85.08s/it]"
     ]
    },
    {
     "name": "stdout",
     "output_type": "stream",
     "text": [
      "Centralities for graph saved to monthly_centralities_csv_new/centralities_1998-05.csv\n"
     ]
    },
    {
     "name": "stderr",
     "output_type": "stream",
     "text": [
      "Processing Graph Files:  10%|▉         | 69/691 [1:28:34<14:17:21, 82.70s/it]"
     ]
    },
    {
     "name": "stdout",
     "output_type": "stream",
     "text": [
      "Centralities for graph saved to monthly_centralities_csv_new/centralities_1991-09.csv\n"
     ]
    },
    {
     "name": "stderr",
     "output_type": "stream",
     "text": [
      "Processing Graph Files:  10%|█         | 70/691 [1:29:20<12:21:35, 71.65s/it]"
     ]
    },
    {
     "name": "stdout",
     "output_type": "stream",
     "text": [
      "Centralities for graph saved to monthly_centralities_csv_new/centralities_1967-06.csv\n"
     ]
    },
    {
     "name": "stderr",
     "output_type": "stream",
     "text": [
      "Processing Graph Files:  10%|█         | 71/691 [1:30:03<10:49:33, 62.86s/it]"
     ]
    },
    {
     "name": "stdout",
     "output_type": "stream",
     "text": [
      "Centralities for graph saved to monthly_centralities_csv_new/centralities_1967-12.csv\n"
     ]
    },
    {
     "name": "stderr",
     "output_type": "stream",
     "text": [
      "Processing Graph Files:  10%|█         | 72/691 [1:30:48<9:54:52, 57.66s/it] "
     ]
    },
    {
     "name": "stdout",
     "output_type": "stream",
     "text": [
      "Centralities for graph saved to monthly_centralities_csv_new/centralities_1969-03.csv\n"
     ]
    },
    {
     "name": "stderr",
     "output_type": "stream",
     "text": [
      "Processing Graph Files:  11%|█         | 73/691 [1:31:33<9:13:32, 53.74s/it]"
     ]
    },
    {
     "name": "stdout",
     "output_type": "stream",
     "text": [
      "Centralities for graph saved to monthly_centralities_csv_new/centralities_1969-02.csv\n"
     ]
    },
    {
     "name": "stderr",
     "output_type": "stream",
     "text": [
      "Processing Graph Files:  11%|█         | 74/691 [1:32:17<8:44:36, 51.02s/it]"
     ]
    },
    {
     "name": "stdout",
     "output_type": "stream",
     "text": [
      "Centralities for graph saved to monthly_centralities_csv_new/centralities_1967-07.csv\n"
     ]
    },
    {
     "name": "stderr",
     "output_type": "stream",
     "text": [
      "Processing Graph Files:  11%|█         | 75/691 [1:33:50<10:50:34, 63.37s/it]"
     ]
    },
    {
     "name": "stdout",
     "output_type": "stream",
     "text": [
      "Centralities for graph saved to monthly_centralities_csv_new/centralities_1996-01.csv\n"
     ]
    },
    {
     "name": "stderr",
     "output_type": "stream",
     "text": [
      "Processing Graph Files:  11%|█         | 76/691 [1:35:10<11:40:15, 68.32s/it]"
     ]
    },
    {
     "name": "stdout",
     "output_type": "stream",
     "text": [
      "Centralities for graph saved to monthly_centralities_csv_new/centralities_1991-08.csv\n"
     ]
    },
    {
     "name": "stderr",
     "output_type": "stream",
     "text": [
      "Processing Graph Files:  11%|█         | 77/691 [1:36:44<13:00:46, 76.30s/it]"
     ]
    },
    {
     "name": "stdout",
     "output_type": "stream",
     "text": [
      "Centralities for graph saved to monthly_centralities_csv_new/centralities_1998-04.csv\n"
     ]
    },
    {
     "name": "stderr",
     "output_type": "stream",
     "text": [
      "Processing Graph Files:  11%|█▏        | 78/691 [1:38:19<13:54:28, 81.68s/it]"
     ]
    },
    {
     "name": "stdout",
     "output_type": "stream",
     "text": [
      "Centralities for graph saved to monthly_centralities_csv_new/centralities_1998-10.csv\n"
     ]
    },
    {
     "name": "stderr",
     "output_type": "stream",
     "text": [
      "Processing Graph Files:  11%|█▏        | 79/691 [1:39:31<13:25:02, 78.92s/it]"
     ]
    },
    {
     "name": "stdout",
     "output_type": "stream",
     "text": [
      "Centralities for graph saved to monthly_centralities_csv_new/centralities_1979-07.csv\n"
     ]
    },
    {
     "name": "stderr",
     "output_type": "stream",
     "text": [
      "Processing Graph Files:  12%|█▏        | 80/691 [1:40:21<11:55:35, 70.27s/it]"
     ]
    },
    {
     "name": "stdout",
     "output_type": "stream",
     "text": [
      "Centralities for graph saved to monthly_centralities_csv_new/centralities_1977-02.csv\n"
     ]
    },
    {
     "name": "stderr",
     "output_type": "stream",
     "text": [
      "Processing Graph Files:  12%|█▏        | 81/691 [1:41:48<12:46:00, 75.35s/it]"
     ]
    },
    {
     "name": "stdout",
     "output_type": "stream",
     "text": [
      "Centralities for graph saved to monthly_centralities_csv_new/centralities_1986-04.csv\n"
     ]
    },
    {
     "name": "stderr",
     "output_type": "stream",
     "text": [
      "Processing Graph Files:  12%|█▏        | 82/691 [1:43:10<13:05:03, 77.35s/it]"
     ]
    },
    {
     "name": "stdout",
     "output_type": "stream",
     "text": [
      "Centralities for graph saved to monthly_centralities_csv_new/centralities_1986-10.csv\n"
     ]
    },
    {
     "name": "stderr",
     "output_type": "stream",
     "text": [
      "Processing Graph Files:  12%|█▏        | 83/691 [1:44:17<12:31:38, 74.18s/it]"
     ]
    },
    {
     "name": "stdout",
     "output_type": "stream",
     "text": [
      "Centralities for graph saved to monthly_centralities_csv_new/centralities_1951-06.csv\n"
     ]
    },
    {
     "name": "stderr",
     "output_type": "stream",
     "text": [
      "Processing Graph Files:  12%|█▏        | 84/691 [1:45:33<12:36:13, 74.75s/it]"
     ]
    },
    {
     "name": "stdout",
     "output_type": "stream",
     "text": [
      "Centralities for graph saved to monthly_centralities_csv_new/centralities_2002-02.csv\n"
     ]
    },
    {
     "name": "stderr",
     "output_type": "stream",
     "text": [
      "Processing Graph Files:  12%|█▏        | 85/691 [1:46:40<12:10:27, 72.32s/it]"
     ]
    },
    {
     "name": "stdout",
     "output_type": "stream",
     "text": [
      "Centralities for graph saved to monthly_centralities_csv_new/centralities_1951-12.csv\n"
     ]
    },
    {
     "name": "stderr",
     "output_type": "stream",
     "text": [
      "Processing Graph Files:  12%|█▏        | 86/691 [1:48:05<12:48:50, 76.25s/it]"
     ]
    },
    {
     "name": "stdout",
     "output_type": "stream",
     "text": [
      "Centralities for graph saved to monthly_centralities_csv_new/centralities_1988-01.csv\n"
     ]
    },
    {
     "name": "stderr",
     "output_type": "stream",
     "text": [
      "Processing Graph Files:  13%|█▎        | 87/691 [1:49:05<11:56:45, 71.20s/it]"
     ]
    },
    {
     "name": "stdout",
     "output_type": "stream",
     "text": [
      "Centralities for graph saved to monthly_centralities_csv_new/centralities_1975-07.csv\n"
     ]
    },
    {
     "name": "stderr",
     "output_type": "stream",
     "text": [
      "Processing Graph Files:  13%|█▎        | 88/691 [1:50:28<12:31:49, 74.81s/it]"
     ]
    },
    {
     "name": "stdout",
     "output_type": "stream",
     "text": [
      "Centralities for graph saved to monthly_centralities_csv_new/centralities_1983-08.csv\n"
     ]
    },
    {
     "name": "stderr",
     "output_type": "stream",
     "text": [
      "Processing Graph Files:  13%|█▎        | 89/691 [1:51:50<12:50:54, 76.83s/it]"
     ]
    },
    {
     "name": "stdout",
     "output_type": "stream",
     "text": [
      "Centralities for graph saved to monthly_centralities_csv_new/centralities_1984-01.csv\n"
     ]
    },
    {
     "name": "stderr",
     "output_type": "stream",
     "text": [
      "Processing Graph Files:  13%|█▎        | 90/691 [1:52:58<12:23:52, 74.26s/it]"
     ]
    },
    {
     "name": "stdout",
     "output_type": "stream",
     "text": [
      "Centralities for graph saved to monthly_centralities_csv_new/centralities_1953-03.csv\n"
     ]
    },
    {
     "name": "stderr",
     "output_type": "stream",
     "text": [
      "Processing Graph Files:  13%|█▎        | 91/691 [1:54:35<13:30:26, 81.04s/it]"
     ]
    },
    {
     "name": "stdout",
     "output_type": "stream",
     "text": [
      "Centralities for graph saved to monthly_centralities_csv_new/centralities_2000-07.csv\n"
     ]
    },
    {
     "name": "stderr",
     "output_type": "stream",
     "text": [
      "Processing Graph Files:  13%|█▎        | 92/691 [1:55:37<12:33:31, 75.48s/it]"
     ]
    },
    {
     "name": "stdout",
     "output_type": "stream",
     "text": [
      "Centralities for graph saved to monthly_centralities_csv_new/centralities_1965-02.csv\n"
     ]
    },
    {
     "name": "stderr",
     "output_type": "stream",
     "text": [
      "Processing Graph Files:  13%|█▎        | 93/691 [1:56:57<12:45:05, 76.76s/it]"
     ]
    },
    {
     "name": "stdout",
     "output_type": "stream",
     "text": [
      "Centralities for graph saved to monthly_centralities_csv_new/centralities_1994-10.csv\n"
     ]
    },
    {
     "name": "stderr",
     "output_type": "stream",
     "text": [
      "Processing Graph Files:  14%|█▎        | 94/691 [1:58:22<13:08:24, 79.24s/it]"
     ]
    },
    {
     "name": "stdout",
     "output_type": "stream",
     "text": [
      "Centralities for graph saved to monthly_centralities_csv_new/centralities_1994-04.csv\n"
     ]
    },
    {
     "name": "stderr",
     "output_type": "stream",
     "text": [
      "Processing Graph Files:  14%|█▎        | 95/691 [1:59:35<12:48:05, 77.32s/it]"
     ]
    },
    {
     "name": "stdout",
     "output_type": "stream",
     "text": [
      "Centralities for graph saved to monthly_centralities_csv_new/centralities_1993-09.csv\n"
     ]
    },
    {
     "name": "stderr",
     "output_type": "stream",
     "text": [
      "Processing Graph Files:  14%|█▍        | 96/691 [2:00:43<12:19:28, 74.57s/it]"
     ]
    },
    {
     "name": "stdout",
     "output_type": "stream",
     "text": [
      "Centralities for graph saved to monthly_centralities_csv_new/centralities_1965-06.csv\n"
     ]
    },
    {
     "name": "stderr",
     "output_type": "stream",
     "text": [
      "Processing Graph Files:  14%|█▍        | 97/691 [2:01:56<12:12:09, 73.96s/it]"
     ]
    },
    {
     "name": "stdout",
     "output_type": "stream",
     "text": [
      "Centralities for graph saved to monthly_centralities_csv_new/centralities_1965-12.csv\n"
     ]
    },
    {
     "name": "stderr",
     "output_type": "stream",
     "text": [
      "Processing Graph Files:  14%|█▍        | 98/691 [2:03:18<12:37:03, 76.60s/it]"
     ]
    },
    {
     "name": "stdout",
     "output_type": "stream",
     "text": [
      "Centralities for graph saved to monthly_centralities_csv_new/centralities_1984-11.csv\n"
     ]
    },
    {
     "name": "stderr",
     "output_type": "stream",
     "text": [
      "Processing Graph Files:  14%|█▍        | 99/691 [2:04:40<12:49:59, 78.04s/it]"
     ]
    },
    {
     "name": "stdout",
     "output_type": "stream",
     "text": [
      "Centralities for graph saved to monthly_centralities_csv_new/centralities_1984-05.csv\n"
     ]
    },
    {
     "name": "stderr",
     "output_type": "stream",
     "text": [
      "Processing Graph Files:  14%|█▍        | 100/691 [2:06:19<13:50:26, 84.31s/it]"
     ]
    },
    {
     "name": "stdout",
     "output_type": "stream",
     "text": [
      "Centralities for graph saved to monthly_centralities_csv_new/centralities_2000-03.csv\n"
     ]
    },
    {
     "name": "stderr",
     "output_type": "stream",
     "text": [
      "Processing Graph Files:  15%|█▍        | 101/691 [2:07:31<13:14:49, 80.83s/it]"
     ]
    },
    {
     "name": "stdout",
     "output_type": "stream",
     "text": [
      "Centralities for graph saved to monthly_centralities_csv_new/centralities_1953-07.csv\n"
     ]
    },
    {
     "name": "stderr",
     "output_type": "stream",
     "text": [
      "Processing Graph Files:  15%|█▍        | 102/691 [2:08:29<12:05:50, 73.94s/it]"
     ]
    },
    {
     "name": "stdout",
     "output_type": "stream",
     "text": [
      "Centralities for graph saved to monthly_centralities_csv_new/centralities_1975-03.csv\n"
     ]
    },
    {
     "name": "stderr",
     "output_type": "stream",
     "text": [
      "Processing Graph Files:  15%|█▍        | 103/691 [2:09:51<12:28:24, 76.37s/it]"
     ]
    },
    {
     "name": "stdout",
     "output_type": "stream",
     "text": [
      "Centralities for graph saved to monthly_centralities_csv_new/centralities_1981-09.csv\n"
     ]
    },
    {
     "name": "stderr",
     "output_type": "stream",
     "text": [
      "Processing Graph Files:  15%|█▌        | 104/691 [2:11:18<12:57:23, 79.46s/it]"
     ]
    },
    {
     "name": "stdout",
     "output_type": "stream",
     "text": [
      "Centralities for graph saved to monthly_centralities_csv_new/centralities_1988-05.csv\n"
     ]
    },
    {
     "name": "stderr",
     "output_type": "stream",
     "text": [
      "Processing Graph Files:  15%|█▌        | 105/691 [2:12:48<13:28:03, 82.74s/it]"
     ]
    },
    {
     "name": "stdout",
     "output_type": "stream",
     "text": [
      "Centralities for graph saved to monthly_centralities_csv_new/centralities_2002-06.csv\n"
     ]
    },
    {
     "name": "stderr",
     "output_type": "stream",
     "text": [
      "Processing Graph Files:  15%|█▌        | 106/691 [2:13:52<12:32:07, 77.14s/it]"
     ]
    },
    {
     "name": "stdout",
     "output_type": "stream",
     "text": [
      "Centralities for graph saved to monthly_centralities_csv_new/centralities_1951-02.csv\n"
     ]
    },
    {
     "name": "stderr",
     "output_type": "stream",
     "text": [
      "Processing Graph Files:  15%|█▌        | 107/691 [2:15:28<13:24:39, 82.67s/it]"
     ]
    },
    {
     "name": "stdout",
     "output_type": "stream",
     "text": [
      "Centralities for graph saved to monthly_centralities_csv_new/centralities_2002-12.csv\n"
     ]
    },
    {
     "name": "stderr",
     "output_type": "stream",
     "text": [
      "Processing Graph Files:  16%|█▌        | 108/691 [2:16:50<13:22:40, 82.61s/it]"
     ]
    },
    {
     "name": "stdout",
     "output_type": "stream",
     "text": [
      "Centralities for graph saved to monthly_centralities_csv_new/centralities_1988-11.csv\n"
     ]
    },
    {
     "name": "stderr",
     "output_type": "stream",
     "text": [
      "Processing Graph Files:  16%|█▌        | 109/691 [2:18:05<12:57:02, 80.11s/it]"
     ]
    },
    {
     "name": "stdout",
     "output_type": "stream",
     "text": [
      "Centralities for graph saved to monthly_centralities_csv_new/centralities_1979-03.csv\n"
     ]
    },
    {
     "name": "stderr",
     "output_type": "stream",
     "text": [
      "Processing Graph Files:  16%|█▌        | 110/691 [2:19:08<12:07:46, 75.16s/it]"
     ]
    },
    {
     "name": "stdout",
     "output_type": "stream",
     "text": [
      "Centralities for graph saved to monthly_centralities_csv_new/centralities_1977-12.csv\n"
     ]
    },
    {
     "name": "stderr",
     "output_type": "stream",
     "text": [
      "Processing Graph Files:  16%|█▌        | 111/691 [2:20:06<11:15:02, 69.83s/it]"
     ]
    },
    {
     "name": "stdout",
     "output_type": "stream",
     "text": [
      "Centralities for graph saved to monthly_centralities_csv_new/centralities_1977-06.csv\n"
     ]
    },
    {
     "name": "stderr",
     "output_type": "stream",
     "text": [
      "Processing Graph Files:  16%|█▌        | 112/691 [2:21:42<12:31:34, 77.88s/it]"
     ]
    },
    {
     "name": "stdout",
     "output_type": "stream",
     "text": [
      "Centralities for graph saved to monthly_centralities_csv_new/centralities_1996-05.csv\n"
     ]
    },
    {
     "name": "stderr",
     "output_type": "stream",
     "text": [
      "Processing Graph Files:  16%|█▋        | 113/691 [2:23:18<13:21:26, 83.19s/it]"
     ]
    },
    {
     "name": "stdout",
     "output_type": "stream",
     "text": [
      "Centralities for graph saved to monthly_centralities_csv_new/centralities_1996-11.csv\n"
     ]
    },
    {
     "name": "stderr",
     "output_type": "stream",
     "text": [
      "Processing Graph Files:  16%|█▋        | 114/691 [2:24:08<11:44:29, 73.26s/it]"
     ]
    },
    {
     "name": "stdout",
     "output_type": "stream",
     "text": [
      "Centralities for graph saved to monthly_centralities_csv_new/centralities_1969-12.csv\n"
     ]
    },
    {
     "name": "stderr",
     "output_type": "stream",
     "text": [
      "Processing Graph Files:  17%|█▋        | 115/691 [2:24:56<10:28:57, 65.52s/it]"
     ]
    },
    {
     "name": "stdout",
     "output_type": "stream",
     "text": [
      "Centralities for graph saved to monthly_centralities_csv_new/centralities_1969-06.csv\n"
     ]
    },
    {
     "name": "stderr",
     "output_type": "stream",
     "text": [
      "Processing Graph Files:  17%|█▋        | 116/691 [2:25:38<9:20:57, 58.54s/it] "
     ]
    },
    {
     "name": "stdout",
     "output_type": "stream",
     "text": [
      "Centralities for graph saved to monthly_centralities_csv_new/centralities_1967-03.csv\n"
     ]
    },
    {
     "name": "stderr",
     "output_type": "stream",
     "text": [
      "Processing Graph Files:  17%|█▋        | 117/691 [2:26:13<8:13:54, 51.63s/it]"
     ]
    },
    {
     "name": "stdout",
     "output_type": "stream",
     "text": [
      "Centralities for graph saved to monthly_centralities_csv_new/centralities_1967-02.csv\n"
     ]
    },
    {
     "name": "stderr",
     "output_type": "stream",
     "text": [
      "Processing Graph Files:  17%|█▋        | 118/691 [2:27:03<8:07:48, 51.08s/it]"
     ]
    },
    {
     "name": "stdout",
     "output_type": "stream",
     "text": [
      "Centralities for graph saved to monthly_centralities_csv_new/centralities_1969-07.csv\n"
     ]
    },
    {
     "name": "stderr",
     "output_type": "stream",
     "text": [
      "Processing Graph Files:  17%|█▋        | 119/691 [2:28:28<9:44:07, 61.27s/it]"
     ]
    },
    {
     "name": "stdout",
     "output_type": "stream",
     "text": [
      "Centralities for graph saved to monthly_centralities_csv_new/centralities_1998-01.csv\n"
     ]
    },
    {
     "name": "stderr",
     "output_type": "stream",
     "text": [
      "Processing Graph Files:  17%|█▋        | 120/691 [2:30:04<11:22:17, 71.69s/it]"
     ]
    },
    {
     "name": "stdout",
     "output_type": "stream",
     "text": [
      "Centralities for graph saved to monthly_centralities_csv_new/centralities_1996-10.csv\n"
     ]
    },
    {
     "name": "stderr",
     "output_type": "stream",
     "text": [
      "Processing Graph Files:  18%|█▊        | 121/691 [2:31:39<12:27:42, 78.71s/it]"
     ]
    },
    {
     "name": "stdout",
     "output_type": "stream",
     "text": [
      "Centralities for graph saved to monthly_centralities_csv_new/centralities_1996-04.csv\n"
     ]
    },
    {
     "name": "stderr",
     "output_type": "stream",
     "text": [
      "Processing Graph Files:  18%|█▊        | 122/691 [2:32:38<11:29:45, 72.73s/it]"
     ]
    },
    {
     "name": "stdout",
     "output_type": "stream",
     "text": [
      "Centralities for graph saved to monthly_centralities_csv_new/centralities_1977-07.csv\n"
     ]
    },
    {
     "name": "stderr",
     "output_type": "stream",
     "text": [
      "Processing Graph Files:  18%|█▊        | 123/691 [2:33:44<11:10:35, 70.84s/it]"
     ]
    },
    {
     "name": "stdout",
     "output_type": "stream",
     "text": [
      "Centralities for graph saved to monthly_centralities_csv_new/centralities_1979-02.csv\n"
     ]
    },
    {
     "name": "stderr",
     "output_type": "stream",
     "text": [
      "Processing Graph Files:  18%|█▊        | 124/691 [2:35:09<11:49:29, 75.08s/it]"
     ]
    },
    {
     "name": "stdout",
     "output_type": "stream",
     "text": [
      "Centralities for graph saved to monthly_centralities_csv_new/centralities_1988-10.csv\n"
     ]
    },
    {
     "name": "stderr",
     "output_type": "stream",
     "text": [
      "Processing Graph Files:  18%|█▊        | 125/691 [2:36:25<11:49:22, 75.20s/it]"
     ]
    },
    {
     "name": "stdout",
     "output_type": "stream",
     "text": [
      "Centralities for graph saved to monthly_centralities_csv_new/centralities_1951-03.csv\n"
     ]
    },
    {
     "name": "stderr",
     "output_type": "stream",
     "text": [
      "Processing Graph Files:  18%|█▊        | 126/691 [2:38:05<12:57:42, 82.59s/it]"
     ]
    },
    {
     "name": "stdout",
     "output_type": "stream",
     "text": [
      "Centralities for graph saved to monthly_centralities_csv_new/centralities_2002-07.csv\n"
     ]
    },
    {
     "name": "stderr",
     "output_type": "stream",
     "text": [
      "Processing Graph Files:  18%|█▊        | 127/691 [2:39:31<13:05:47, 83.60s/it]"
     ]
    },
    {
     "name": "stdout",
     "output_type": "stream",
     "text": [
      "Centralities for graph saved to monthly_centralities_csv_new/centralities_1988-04.csv\n"
     ]
    },
    {
     "name": "stderr",
     "output_type": "stream",
     "text": [
      "Processing Graph Files:  19%|█▊        | 128/691 [2:40:58<13:13:56, 84.61s/it]"
     ]
    },
    {
     "name": "stdout",
     "output_type": "stream",
     "text": [
      "Centralities for graph saved to monthly_centralities_csv_new/centralities_1981-08.csv\n"
     ]
    },
    {
     "name": "stderr",
     "output_type": "stream",
     "text": [
      "Processing Graph Files:  19%|█▊        | 129/691 [2:42:27<13:25:04, 85.95s/it]"
     ]
    },
    {
     "name": "stdout",
     "output_type": "stream",
     "text": [
      "Centralities for graph saved to monthly_centralities_csv_new/centralities_1986-01.csv\n"
     ]
    },
    {
     "name": "stderr",
     "output_type": "stream",
     "text": [
      "Processing Graph Files:  19%|█▉        | 130/691 [2:43:20<11:50:58, 76.04s/it]"
     ]
    },
    {
     "name": "stdout",
     "output_type": "stream",
     "text": [
      "Centralities for graph saved to monthly_centralities_csv_new/centralities_1975-02.csv\n"
     ]
    },
    {
     "name": "stderr",
     "output_type": "stream",
     "text": [
      "Processing Graph Files:  19%|█▉        | 131/691 [2:44:33<11:42:03, 75.22s/it]"
     ]
    },
    {
     "name": "stdout",
     "output_type": "stream",
     "text": [
      "Centralities for graph saved to monthly_centralities_csv_new/centralities_1953-06.csv\n"
     ]
    },
    {
     "name": "stderr",
     "output_type": "stream",
     "text": [
      "Processing Graph Files:  19%|█▉        | 132/691 [2:45:42<11:22:21, 73.24s/it]"
     ]
    },
    {
     "name": "stdout",
     "output_type": "stream",
     "text": [
      "Centralities for graph saved to monthly_centralities_csv_new/centralities_1953-12.csv\n"
     ]
    },
    {
     "name": "stderr",
     "output_type": "stream",
     "text": [
      "Processing Graph Files:  19%|█▉        | 133/691 [2:47:06<11:52:39, 76.63s/it]"
     ]
    },
    {
     "name": "stdout",
     "output_type": "stream",
     "text": [
      "Centralities for graph saved to monthly_centralities_csv_new/centralities_2000-02.csv\n"
     ]
    },
    {
     "name": "stderr",
     "output_type": "stream",
     "text": [
      "Processing Graph Files:  19%|█▉        | 134/691 [2:48:29<12:07:37, 78.38s/it]"
     ]
    },
    {
     "name": "stdout",
     "output_type": "stream",
     "text": [
      "Centralities for graph saved to monthly_centralities_csv_new/centralities_1984-04.csv\n"
     ]
    },
    {
     "name": "stderr",
     "output_type": "stream",
     "text": [
      "Processing Graph Files:  20%|█▉        | 135/691 [2:49:50<12:15:03, 79.32s/it]"
     ]
    },
    {
     "name": "stdout",
     "output_type": "stream",
     "text": [
      "Centralities for graph saved to monthly_centralities_csv_new/centralities_1984-10.csv\n"
     ]
    },
    {
     "name": "stderr",
     "output_type": "stream",
     "text": [
      "Processing Graph Files:  20%|█▉        | 136/691 [2:51:01<11:49:51, 76.74s/it]"
     ]
    },
    {
     "name": "stdout",
     "output_type": "stream",
     "text": [
      "Centralities for graph saved to monthly_centralities_csv_new/centralities_1965-07.csv\n"
     ]
    },
    {
     "name": "stderr",
     "output_type": "stream",
     "text": [
      "Processing Graph Files:  20%|█▉        | 137/691 [2:52:26<12:12:55, 79.38s/it]"
     ]
    },
    {
     "name": "stdout",
     "output_type": "stream",
     "text": [
      "Centralities for graph saved to monthly_centralities_csv_new/centralities_1994-01.csv\n"
     ]
    },
    {
     "name": "stderr",
     "output_type": "stream",
     "text": [
      "Processing Graph Files:  20%|█▉        | 138/691 [2:53:45<12:08:51, 79.08s/it]"
     ]
    },
    {
     "name": "stdout",
     "output_type": "stream",
     "text": [
      "Centralities for graph saved to monthly_centralities_csv_new/centralities_1993-08.csv\n"
     ]
    },
    {
     "name": "stderr",
     "output_type": "stream",
     "text": [
      "Processing Graph Files:  20%|██        | 139/691 [2:55:10<12:23:47, 80.85s/it]"
     ]
    },
    {
     "name": "stdout",
     "output_type": "stream",
     "text": [
      "Centralities for graph saved to monthly_centralities_csv_new/centralities_1994-03.csv\n"
     ]
    },
    {
     "name": "stderr",
     "output_type": "stream",
     "text": [
      "Processing Graph Files:  20%|██        | 140/691 [2:56:20<11:53:24, 77.69s/it]"
     ]
    },
    {
     "name": "stdout",
     "output_type": "stream",
     "text": [
      "Centralities for graph saved to monthly_centralities_csv_new/centralities_1965-11.csv\n"
     ]
    },
    {
     "name": "stderr",
     "output_type": "stream",
     "text": [
      "Processing Graph Files:  20%|██        | 141/691 [2:57:31<11:32:40, 75.56s/it]"
     ]
    },
    {
     "name": "stdout",
     "output_type": "stream",
     "text": [
      "Centralities for graph saved to monthly_centralities_csv_new/centralities_1965-05.csv\n"
     ]
    },
    {
     "name": "stderr",
     "output_type": "stream",
     "text": [
      "Processing Graph Files:  21%|██        | 142/691 [2:58:53<11:50:18, 77.63s/it]"
     ]
    },
    {
     "name": "stdout",
     "output_type": "stream",
     "text": [
      "Centralities for graph saved to monthly_centralities_csv_new/centralities_1984-06.csv\n"
     ]
    },
    {
     "name": "stderr",
     "output_type": "stream",
     "text": [
      "Processing Graph Files:  21%|██        | 143/691 [3:00:23<12:22:38, 81.31s/it]"
     ]
    },
    {
     "name": "stdout",
     "output_type": "stream",
     "text": [
      "Centralities for graph saved to monthly_centralities_csv_new/centralities_1984-12.csv\n"
     ]
    },
    {
     "name": "stderr",
     "output_type": "stream",
     "text": [
      "Processing Graph Files:  21%|██        | 144/691 [3:01:34<11:53:36, 78.27s/it]"
     ]
    },
    {
     "name": "stdout",
     "output_type": "stream",
     "text": [
      "Centralities for graph saved to monthly_centralities_csv_new/centralities_1953-04.csv\n"
     ]
    },
    {
     "name": "stderr",
     "output_type": "stream",
     "text": [
      "Processing Graph Files:  21%|██        | 145/691 [3:02:47<11:37:00, 76.59s/it]"
     ]
    },
    {
     "name": "stdout",
     "output_type": "stream",
     "text": [
      "Centralities for graph saved to monthly_centralities_csv_new/centralities_1953-10.csv\n"
     ]
    },
    {
     "name": "stderr",
     "output_type": "stream",
     "text": [
      "Processing Graph Files:  21%|██        | 146/691 [3:03:39<10:29:04, 69.26s/it]"
     ]
    },
    {
     "name": "stdout",
     "output_type": "stream",
     "text": [
      "Centralities for graph saved to monthly_centralities_csv_new/centralities_1972-09.csv\n"
     ]
    },
    {
     "name": "stderr",
     "output_type": "stream",
     "text": [
      "Processing Graph Files:  21%|██▏       | 147/691 [3:05:10<11:26:40, 75.74s/it]"
     ]
    },
    {
     "name": "stdout",
     "output_type": "stream",
     "text": [
      "Centralities for graph saved to monthly_centralities_csv_new/centralities_1986-03.csv\n"
     ]
    },
    {
     "name": "stderr",
     "output_type": "stream",
     "text": [
      "Processing Graph Files:  21%|██▏       | 148/691 [3:06:42<12:10:00, 80.66s/it]"
     ]
    },
    {
     "name": "stdout",
     "output_type": "stream",
     "text": [
      "Centralities for graph saved to monthly_centralities_csv_new/centralities_2002-11.csv\n"
     ]
    },
    {
     "name": "stderr",
     "output_type": "stream",
     "text": [
      "Processing Graph Files:  22%|██▏       | 149/691 [3:07:53<11:42:52, 77.81s/it]"
     ]
    },
    {
     "name": "stdout",
     "output_type": "stream",
     "text": [
      "Centralities for graph saved to monthly_centralities_csv_new/centralities_1951-01.csv\n"
     ]
    },
    {
     "name": "stderr",
     "output_type": "stream",
     "text": [
      "Processing Graph Files:  22%|██▏       | 150/691 [3:09:21<12:07:41, 80.71s/it]"
     ]
    },
    {
     "name": "stdout",
     "output_type": "stream",
     "text": [
      "Centralities for graph saved to monthly_centralities_csv_new/centralities_1988-12.csv\n"
     ]
    },
    {
     "name": "stderr",
     "output_type": "stream",
     "text": [
      "Processing Graph Files:  22%|██▏       | 151/691 [3:10:55<12:43:30, 84.83s/it]"
     ]
    },
    {
     "name": "stdout",
     "output_type": "stream",
     "text": [
      "Centralities for graph saved to monthly_centralities_csv_new/centralities_1956-08.csv\n"
     ]
    },
    {
     "name": "stderr",
     "output_type": "stream",
     "text": [
      "Processing Graph Files:  22%|██▏       | 152/691 [3:12:21<12:44:45, 85.13s/it]"
     ]
    },
    {
     "name": "stdout",
     "output_type": "stream",
     "text": [
      "Centralities for graph saved to monthly_centralities_csv_new/centralities_1988-06.csv\n"
     ]
    },
    {
     "name": "stderr",
     "output_type": "stream",
     "text": [
      "Processing Graph Files:  22%|██▏       | 153/691 [3:13:50<12:53:04, 86.22s/it]"
     ]
    },
    {
     "name": "stdout",
     "output_type": "stream",
     "text": [
      "Centralities for graph saved to monthly_centralities_csv_new/centralities_2002-05.csv\n"
     ]
    },
    {
     "name": "stderr",
     "output_type": "stream",
     "text": [
      "Processing Graph Files:  22%|██▏       | 154/691 [3:14:43<11:23:49, 76.41s/it]"
     ]
    },
    {
     "name": "stdout",
     "output_type": "stream",
     "text": [
      "Centralities for graph saved to monthly_centralities_csv_new/centralities_1977-05.csv\n"
     ]
    },
    {
     "name": "stderr",
     "output_type": "stream",
     "text": [
      "Processing Graph Files:  22%|██▏       | 155/691 [3:15:46<10:46:44, 72.40s/it]"
     ]
    },
    {
     "name": "stdout",
     "output_type": "stream",
     "text": [
      "Centralities for graph saved to monthly_centralities_csv_new/centralities_1977-11.csv\n"
     ]
    },
    {
     "name": "stderr",
     "output_type": "stream",
     "text": [
      "Processing Graph Files:  23%|██▎       | 156/691 [3:16:12<8:40:04, 58.33s/it] "
     ]
    },
    {
     "name": "stdout",
     "output_type": "stream",
     "text": [
      "Centralities for graph saved to monthly_centralities_csv_new/centralities_1948-08.csv\n"
     ]
    },
    {
     "name": "stderr",
     "output_type": "stream",
     "text": [
      "Processing Graph Files:  23%|██▎       | 157/691 [3:17:54<10:35:43, 71.43s/it]"
     ]
    },
    {
     "name": "stdout",
     "output_type": "stream",
     "text": [
      "Centralities for graph saved to monthly_centralities_csv_new/centralities_1996-12.csv\n"
     ]
    },
    {
     "name": "stderr",
     "output_type": "stream",
     "text": [
      "Processing Graph Files:  23%|██▎       | 158/691 [3:19:30<11:41:52, 79.01s/it]"
     ]
    },
    {
     "name": "stdout",
     "output_type": "stream",
     "text": [
      "Centralities for graph saved to monthly_centralities_csv_new/centralities_1996-06.csv\n"
     ]
    },
    {
     "name": "stderr",
     "output_type": "stream",
     "text": [
      "Processing Graph Files:  23%|██▎       | 159/691 [3:21:08<12:28:58, 84.47s/it]"
     ]
    },
    {
     "name": "stdout",
     "output_type": "stream",
     "text": [
      "Centralities for graph saved to monthly_centralities_csv_new/centralities_1998-03.csv\n"
     ]
    },
    {
     "name": "stderr",
     "output_type": "stream",
     "text": [
      "Processing Graph Files:  23%|██▎       | 160/691 [3:21:56<10:53:03, 73.79s/it]"
     ]
    },
    {
     "name": "stdout",
     "output_type": "stream",
     "text": [
      "Centralities for graph saved to monthly_centralities_csv_new/centralities_1969-05.csv\n"
     ]
    },
    {
     "name": "stderr",
     "output_type": "stream",
     "text": [
      "Processing Graph Files:  23%|██▎       | 161/691 [3:22:43<9:40:17, 65.69s/it] "
     ]
    },
    {
     "name": "stdout",
     "output_type": "stream",
     "text": [
      "Centralities for graph saved to monthly_centralities_csv_new/centralities_1969-11.csv\n"
     ]
    },
    {
     "name": "stderr",
     "output_type": "stream",
     "text": [
      "Processing Graph Files:  23%|██▎       | 162/691 [3:24:20<11:00:37, 74.93s/it]"
     ]
    },
    {
     "name": "stdout",
     "output_type": "stream",
     "text": [
      "Centralities for graph saved to monthly_centralities_csv_new/centralities_1960-09.csv\n"
     ]
    },
    {
     "name": "stderr",
     "output_type": "stream",
     "text": [
      "Processing Graph Files:  24%|██▎       | 163/691 [3:26:00<12:06:56, 82.61s/it]"
     ]
    },
    {
     "name": "stdout",
     "output_type": "stream",
     "text": [
      "Centralities for graph saved to monthly_centralities_csv_new/centralities_1960-08.csv\n"
     ]
    },
    {
     "name": "stderr",
     "output_type": "stream",
     "text": [
      "Processing Graph Files:  24%|██▎       | 164/691 [3:26:41<10:15:31, 70.08s/it]"
     ]
    },
    {
     "name": "stdout",
     "output_type": "stream",
     "text": [
      "Centralities for graph saved to monthly_centralities_csv_new/centralities_1967-01.csv\n"
     ]
    },
    {
     "name": "stderr",
     "output_type": "stream",
     "text": [
      "Processing Graph Files:  24%|██▍       | 165/691 [3:27:29<9:17:10, 63.56s/it] "
     ]
    },
    {
     "name": "stdout",
     "output_type": "stream",
     "text": [
      "Centralities for graph saved to monthly_centralities_csv_new/centralities_1969-10.csv\n"
     ]
    },
    {
     "name": "stderr",
     "output_type": "stream",
     "text": [
      "Processing Graph Files:  24%|██▍       | 166/691 [3:28:10<8:14:53, 56.56s/it]"
     ]
    },
    {
     "name": "stdout",
     "output_type": "stream",
     "text": [
      "Centralities for graph saved to monthly_centralities_csv_new/centralities_1969-04.csv\n"
     ]
    },
    {
     "name": "stderr",
     "output_type": "stream",
     "text": [
      "Processing Graph Files:  24%|██▍       | 167/691 [3:29:39<9:40:31, 66.47s/it]"
     ]
    },
    {
     "name": "stdout",
     "output_type": "stream",
     "text": [
      "Centralities for graph saved to monthly_centralities_csv_new/centralities_1998-02.csv\n"
     ]
    },
    {
     "name": "stderr",
     "output_type": "stream",
     "text": [
      "Processing Graph Files:  24%|██▍       | 168/691 [3:31:16<10:59:44, 75.69s/it]"
     ]
    },
    {
     "name": "stdout",
     "output_type": "stream",
     "text": [
      "Centralities for graph saved to monthly_centralities_csv_new/centralities_1996-07.csv\n"
     ]
    },
    {
     "name": "stderr",
     "output_type": "stream",
     "text": [
      "Processing Graph Files:  24%|██▍       | 169/691 [3:31:42<8:47:03, 60.58s/it] "
     ]
    },
    {
     "name": "stdout",
     "output_type": "stream",
     "text": [
      "Centralities for graph saved to monthly_centralities_csv_new/centralities_1948-09.csv\n"
     ]
    },
    {
     "name": "stderr",
     "output_type": "stream",
     "text": [
      "Processing Graph Files:  25%|██▍       | 170/691 [3:32:44<8:51:11, 61.17s/it]"
     ]
    },
    {
     "name": "stdout",
     "output_type": "stream",
     "text": [
      "Centralities for graph saved to monthly_centralities_csv_new/centralities_1977-10.csv\n"
     ]
    },
    {
     "name": "stderr",
     "output_type": "stream",
     "text": [
      "Processing Graph Files:  25%|██▍       | 171/691 [3:33:34<8:21:20, 57.85s/it]"
     ]
    },
    {
     "name": "stdout",
     "output_type": "stream",
     "text": [
      "Centralities for graph saved to monthly_centralities_csv_new/centralities_1977-04.csv\n"
     ]
    },
    {
     "name": "stderr",
     "output_type": "stream",
     "text": [
      "Processing Graph Files:  25%|██▍       | 172/691 [3:34:43<8:47:37, 61.00s/it]"
     ]
    },
    {
     "name": "stdout",
     "output_type": "stream",
     "text": [
      "Centralities for graph saved to monthly_centralities_csv_new/centralities_1979-01.csv\n"
     ]
    },
    {
     "name": "stderr",
     "output_type": "stream",
     "text": [
      "Processing Graph Files:  25%|██▌       | 173/691 [3:36:22<10:24:30, 72.34s/it]"
     ]
    },
    {
     "name": "stdout",
     "output_type": "stream",
     "text": [
      "Centralities for graph saved to monthly_centralities_csv_new/centralities_2002-04.csv\n"
     ]
    },
    {
     "name": "stderr",
     "output_type": "stream",
     "text": [
      "Processing Graph Files:  25%|██▌       | 174/691 [3:37:48<11:00:41, 76.68s/it]"
     ]
    },
    {
     "name": "stdout",
     "output_type": "stream",
     "text": [
      "Centralities for graph saved to monthly_centralities_csv_new/centralities_1988-07.csv\n"
     ]
    },
    {
     "name": "stderr",
     "output_type": "stream",
     "text": [
      "Processing Graph Files:  25%|██▌       | 175/691 [3:39:12<11:17:32, 78.78s/it]"
     ]
    },
    {
     "name": "stdout",
     "output_type": "stream",
     "text": [
      "Centralities for graph saved to monthly_centralities_csv_new/centralities_2002-10.csv\n"
     ]
    },
    {
     "name": "stderr",
     "output_type": "stream",
     "text": [
      "Processing Graph Files:  25%|██▌       | 176/691 [3:40:54<12:15:49, 85.73s/it]"
     ]
    },
    {
     "name": "stdout",
     "output_type": "stream",
     "text": [
      "Centralities for graph saved to monthly_centralities_csv_new/centralities_1956-09.csv\n"
     ]
    },
    {
     "name": "stderr",
     "output_type": "stream",
     "text": [
      "Processing Graph Files:  26%|██▌       | 177/691 [3:42:10<11:50:16, 82.91s/it]"
     ]
    },
    {
     "name": "stdout",
     "output_type": "stream",
     "text": [
      "Centralities for graph saved to monthly_centralities_csv_new/centralities_1986-02.csv\n"
     ]
    },
    {
     "name": "stderr",
     "output_type": "stream",
     "text": [
      "Processing Graph Files:  26%|██▌       | 178/691 [3:43:09<10:46:09, 75.57s/it]"
     ]
    },
    {
     "name": "stdout",
     "output_type": "stream",
     "text": [
      "Centralities for graph saved to monthly_centralities_csv_new/centralities_1975-01.csv\n"
     ]
    },
    {
     "name": "stderr",
     "output_type": "stream",
     "text": [
      "Processing Graph Files:  26%|██▌       | 179/691 [3:44:02<9:46:33, 68.74s/it] "
     ]
    },
    {
     "name": "stdout",
     "output_type": "stream",
     "text": [
      "Centralities for graph saved to monthly_centralities_csv_new/centralities_1972-08.csv\n"
     ]
    },
    {
     "name": "stderr",
     "output_type": "stream",
     "text": [
      "Processing Graph Files:  26%|██▌       | 180/691 [3:45:36<10:50:17, 76.36s/it]"
     ]
    },
    {
     "name": "stdout",
     "output_type": "stream",
     "text": [
      "Centralities for graph saved to monthly_centralities_csv_new/centralities_2000-01.csv\n"
     ]
    },
    {
     "name": "stderr",
     "output_type": "stream",
     "text": [
      "Processing Graph Files:  26%|██▌       | 181/691 [3:46:43<10:25:31, 73.59s/it]"
     ]
    },
    {
     "name": "stdout",
     "output_type": "stream",
     "text": [
      "Centralities for graph saved to monthly_centralities_csv_new/centralities_1953-11.csv\n"
     ]
    },
    {
     "name": "stderr",
     "output_type": "stream",
     "text": [
      "Processing Graph Files:  26%|██▋       | 182/691 [3:47:56<10:22:41, 73.40s/it]"
     ]
    },
    {
     "name": "stdout",
     "output_type": "stream",
     "text": [
      "Centralities for graph saved to monthly_centralities_csv_new/centralities_1953-05.csv\n"
     ]
    },
    {
     "name": "stderr",
     "output_type": "stream",
     "text": [
      "Processing Graph Files:  26%|██▋       | 183/691 [3:49:20<10:49:38, 76.73s/it]"
     ]
    },
    {
     "name": "stdout",
     "output_type": "stream",
     "text": [
      "Centralities for graph saved to monthly_centralities_csv_new/centralities_1984-07.csv\n"
     ]
    },
    {
     "name": "stderr",
     "output_type": "stream",
     "text": [
      "Processing Graph Files:  27%|██▋       | 184/691 [3:50:26<10:21:32, 73.56s/it]"
     ]
    },
    {
     "name": "stdout",
     "output_type": "stream",
     "text": [
      "Centralities for graph saved to monthly_centralities_csv_new/centralities_1965-04.csv\n"
     ]
    },
    {
     "name": "stderr",
     "output_type": "stream",
     "text": [
      "Processing Graph Files:  27%|██▋       | 185/691 [3:51:36<10:09:33, 72.28s/it]"
     ]
    },
    {
     "name": "stdout",
     "output_type": "stream",
     "text": [
      "Centralities for graph saved to monthly_centralities_csv_new/centralities_1965-10.csv\n"
     ]
    },
    {
     "name": "stderr",
     "output_type": "stream",
     "text": [
      "Processing Graph Files:  27%|██▋       | 186/691 [3:52:50<10:13:59, 72.95s/it]"
     ]
    },
    {
     "name": "stdout",
     "output_type": "stream",
     "text": [
      "Centralities for graph saved to monthly_centralities_csv_new/centralities_1994-02.csv\n"
     ]
    },
    {
     "name": "stderr",
     "output_type": "stream",
     "text": [
      "Processing Graph Files:  27%|██▋       | 187/691 [3:54:18<10:48:46, 77.24s/it]"
     ]
    },
    {
     "name": "stdout",
     "output_type": "stream",
     "text": [
      "Centralities for graph saved to monthly_centralities_csv_new/centralities_1957-06.csv\n"
     ]
    },
    {
     "name": "stderr",
     "output_type": "stream",
     "text": [
      "Processing Graph Files:  27%|██▋       | 188/691 [3:55:42<11:04:49, 79.30s/it]"
     ]
    },
    {
     "name": "stdout",
     "output_type": "stream",
     "text": [
      "Centralities for graph saved to monthly_centralities_csv_new/centralities_1989-08.csv\n"
     ]
    },
    {
     "name": "stderr",
     "output_type": "stream",
     "text": [
      "Processing Graph Files:  27%|██▋       | 189/691 [3:57:30<12:15:33, 87.92s/it]"
     ]
    },
    {
     "name": "stdout",
     "output_type": "stream",
     "text": [
      "Centralities for graph saved to monthly_centralities_csv_new/centralities_1957-12.csv\n"
     ]
    },
    {
     "name": "stderr",
     "output_type": "stream",
     "text": [
      "Processing Graph Files:  27%|██▋       | 190/691 [3:58:49<11:53:33, 85.46s/it]"
     ]
    },
    {
     "name": "stdout",
     "output_type": "stream",
     "text": [
      "Centralities for graph saved to monthly_centralities_csv_new/centralities_1980-04.csv\n"
     ]
    },
    {
     "name": "stderr",
     "output_type": "stream",
     "text": [
      "Processing Graph Files:  28%|██▊       | 191/691 [4:00:11<11:42:44, 84.33s/it]"
     ]
    },
    {
     "name": "stdout",
     "output_type": "stream",
     "text": [
      "Centralities for graph saved to monthly_centralities_csv_new/centralities_1980-10.csv\n"
     ]
    },
    {
     "name": "stderr",
     "output_type": "stream",
     "text": [
      "Processing Graph Files:  28%|██▊       | 192/691 [4:01:55<12:29:40, 90.14s/it]"
     ]
    },
    {
     "name": "stdout",
     "output_type": "stream",
     "text": [
      "Centralities for graph saved to monthly_centralities_csv_new/centralities_1959-03.csv\n"
     ]
    },
    {
     "name": "stderr",
     "output_type": "stream",
     "text": [
      "Processing Graph Files:  28%|██▊       | 193/691 [4:02:42<10:42:08, 77.37s/it]"
     ]
    },
    {
     "name": "stdout",
     "output_type": "stream",
     "text": [
      "Centralities for graph saved to monthly_centralities_csv_new/centralities_1971-02.csv\n"
     ]
    },
    {
     "name": "stderr",
     "output_type": "stream",
     "text": [
      "Processing Graph Files:  28%|██▊       | 194/691 [4:03:11<8:41:05, 62.91s/it] "
     ]
    },
    {
     "name": "stdout",
     "output_type": "stream",
     "text": [
      "Centralities for graph saved to monthly_centralities_csv_new/centralities_1947-03.csv\n"
     ]
    },
    {
     "name": "stderr",
     "output_type": "stream",
     "text": [
      "Processing Graph Files:  28%|██▊       | 195/691 [4:04:08<8:23:25, 60.90s/it]"
     ]
    },
    {
     "name": "stdout",
     "output_type": "stream",
     "text": [
      "Centralities for graph saved to monthly_centralities_csv_new/centralities_1949-06.csv\n"
     ]
    },
    {
     "name": "stderr",
     "output_type": "stream",
     "text": [
      "Processing Graph Files:  28%|██▊       | 196/691 [4:05:26<9:04:24, 65.99s/it]"
     ]
    },
    {
     "name": "stdout",
     "output_type": "stream",
     "text": [
      "Centralities for graph saved to monthly_centralities_csv_new/centralities_1949-12.csv\n"
     ]
    },
    {
     "name": "stderr",
     "output_type": "stream",
     "text": [
      "Processing Graph Files:  29%|██▊       | 197/691 [4:06:50<9:48:27, 71.47s/it]"
     ]
    },
    {
     "name": "stdout",
     "output_type": "stream",
     "text": [
      "Centralities for graph saved to monthly_centralities_csv_new/centralities_1990-01.csv\n"
     ]
    },
    {
     "name": "stderr",
     "output_type": "stream",
     "text": [
      "Processing Graph Files:  29%|██▊       | 198/691 [4:08:32<11:03:11, 80.71s/it]"
     ]
    },
    {
     "name": "stdout",
     "output_type": "stream",
     "text": [
      "Centralities for graph saved to monthly_centralities_csv_new/centralities_1997-08.csv\n"
     ]
    },
    {
     "name": "stderr",
     "output_type": "stream",
     "text": [
      "Processing Graph Files:  29%|██▉       | 199/691 [4:09:57<11:11:47, 81.93s/it]"
     ]
    },
    {
     "name": "stdout",
     "output_type": "stream",
     "text": [
      "Centralities for graph saved to monthly_centralities_csv_new/centralities_1961-07.csv\n"
     ]
    },
    {
     "name": "stderr",
     "output_type": "stream",
     "text": [
      "Processing Graph Files:  29%|██▉       | 200/691 [4:11:16<11:03:49, 81.12s/it]"
     ]
    },
    {
     "name": "stdout",
     "output_type": "stream",
     "text": [
      "Centralities for graph saved to monthly_centralities_csv_new/centralities_1992-10.csv\n"
     ]
    },
    {
     "name": "stderr",
     "output_type": "stream",
     "text": [
      "Processing Graph Files:  29%|██▉       | 201/691 [4:12:40<11:08:05, 81.81s/it]"
     ]
    },
    {
     "name": "stdout",
     "output_type": "stream",
     "text": [
      "Centralities for graph saved to monthly_centralities_csv_new/centralities_1992-04.csv\n"
     ]
    },
    {
     "name": "stderr",
     "output_type": "stream",
     "text": [
      "Processing Graph Files:  29%|██▉       | 202/691 [4:13:48<10:34:32, 77.86s/it]"
     ]
    },
    {
     "name": "stdout",
     "output_type": "stream",
     "text": [
      "Centralities for graph saved to monthly_centralities_csv_new/centralities_1963-02.csv\n"
     ]
    },
    {
     "name": "stderr",
     "output_type": "stream",
     "text": [
      "Processing Graph Files:  29%|██▉       | 203/691 [4:15:04<10:28:13, 77.24s/it]"
     ]
    },
    {
     "name": "stdout",
     "output_type": "stream",
     "text": [
      "Centralities for graph saved to monthly_centralities_csv_new/centralities_1955-03.csv\n"
     ]
    },
    {
     "name": "stderr",
     "output_type": "stream",
     "text": [
      "Processing Graph Files:  30%|██▉       | 204/691 [4:16:32<10:53:03, 80.46s/it]"
     ]
    },
    {
     "name": "stdout",
     "output_type": "stream",
     "text": [
      "Centralities for graph saved to monthly_centralities_csv_new/centralities_1985-08.csv\n"
     ]
    },
    {
     "name": "stderr",
     "output_type": "stream",
     "text": [
      "Processing Graph Files:  30%|██▉       | 205/691 [4:17:49<10:42:31, 79.32s/it]"
     ]
    },
    {
     "name": "stdout",
     "output_type": "stream",
     "text": [
      "Centralities for graph saved to monthly_centralities_csv_new/centralities_1982-01.csv\n"
     ]
    },
    {
     "name": "stderr",
     "output_type": "stream",
     "text": [
      "Processing Graph Files:  30%|██▉       | 206/691 [4:18:47<9:51:13, 73.14s/it] "
     ]
    },
    {
     "name": "stdout",
     "output_type": "stream",
     "text": [
      "Centralities for graph saved to monthly_centralities_csv_new/centralities_1973-07.csv\n"
     ]
    },
    {
     "name": "stderr",
     "output_type": "stream",
     "text": [
      "Processing Graph Files:  30%|██▉       | 207/691 [4:19:51<9:26:31, 70.23s/it]"
     ]
    },
    {
     "name": "stdout",
     "output_type": "stream",
     "text": [
      "Centralities for graph saved to monthly_centralities_csv_new/centralities_1973-12.csv\n"
     ]
    },
    {
     "name": "stderr",
     "output_type": "stream",
     "text": [
      "Processing Graph Files:  30%|███       | 208/691 [4:20:44<8:44:58, 65.21s/it]"
     ]
    },
    {
     "name": "stdout",
     "output_type": "stream",
     "text": [
      "Centralities for graph saved to monthly_centralities_csv_new/centralities_1973-06.csv\n"
     ]
    },
    {
     "name": "stderr",
     "output_type": "stream",
     "text": [
      "Processing Graph Files:  30%|███       | 209/691 [4:22:13<9:40:22, 72.25s/it]"
     ]
    },
    {
     "name": "stdout",
     "output_type": "stream",
     "text": [
      "Centralities for graph saved to monthly_centralities_csv_new/centralities_1985-09.csv\n"
     ]
    },
    {
     "name": "stderr",
     "output_type": "stream",
     "text": [
      "Processing Graph Files:  30%|███       | 210/691 [4:23:21<9:29:15, 71.01s/it]"
     ]
    },
    {
     "name": "stdout",
     "output_type": "stream",
     "text": [
      "Centralities for graph saved to monthly_centralities_csv_new/centralities_1955-02.csv\n"
     ]
    },
    {
     "name": "stderr",
     "output_type": "stream",
     "text": [
      "Processing Graph Files:  31%|███       | 211/691 [4:24:33<9:29:58, 71.25s/it]"
     ]
    },
    {
     "name": "stdout",
     "output_type": "stream",
     "text": [
      "Centralities for graph saved to monthly_centralities_csv_new/centralities_1963-03.csv\n"
     ]
    },
    {
     "name": "stderr",
     "output_type": "stream",
     "text": [
      "Processing Graph Files:  31%|███       | 212/691 [4:25:56<9:57:05, 74.79s/it]"
     ]
    },
    {
     "name": "stdout",
     "output_type": "stream",
     "text": [
      "Centralities for graph saved to monthly_centralities_csv_new/centralities_1992-05.csv\n"
     ]
    },
    {
     "name": "stderr",
     "output_type": "stream",
     "text": [
      "Processing Graph Files:  31%|███       | 213/691 [4:27:19<10:15:12, 77.22s/it]"
     ]
    },
    {
     "name": "stdout",
     "output_type": "stream",
     "text": [
      "Centralities for graph saved to monthly_centralities_csv_new/centralities_1992-11.csv\n"
     ]
    },
    {
     "name": "stderr",
     "output_type": "stream",
     "text": [
      "Processing Graph Files:  31%|███       | 214/691 [4:28:43<10:30:02, 79.25s/it]"
     ]
    },
    {
     "name": "stdout",
     "output_type": "stream",
     "text": [
      "Centralities for graph saved to monthly_centralities_csv_new/centralities_1961-06.csv\n"
     ]
    },
    {
     "name": "stderr",
     "output_type": "stream",
     "text": [
      "Processing Graph Files:  31%|███       | 215/691 [4:29:53<10:07:07, 76.53s/it]"
     ]
    },
    {
     "name": "stdout",
     "output_type": "stream",
     "text": [
      "Centralities for graph saved to monthly_centralities_csv_new/centralities_1961-12.csv\n"
     ]
    },
    {
     "name": "stderr",
     "output_type": "stream",
     "text": [
      "Processing Graph Files:  31%|███▏      | 216/691 [4:31:25<10:42:34, 81.17s/it]"
     ]
    },
    {
     "name": "stdout",
     "output_type": "stream",
     "text": [
      "Centralities for graph saved to monthly_centralities_csv_new/centralities_1997-09.csv\n"
     ]
    },
    {
     "name": "stderr",
     "output_type": "stream",
     "text": [
      "Processing Graph Files:  31%|███▏      | 217/691 [4:32:21<9:42:15, 73.70s/it] "
     ]
    },
    {
     "name": "stdout",
     "output_type": "stream",
     "text": [
      "Centralities for graph saved to monthly_centralities_csv_new/centralities_1949-07.csv\n"
     ]
    },
    {
     "name": "stderr",
     "output_type": "stream",
     "text": [
      "Processing Graph Files:  32%|███▏      | 218/691 [4:32:48<7:48:49, 59.47s/it]"
     ]
    },
    {
     "name": "stdout",
     "output_type": "stream",
     "text": [
      "Centralities for graph saved to monthly_centralities_csv_new/centralities_1947-02.csv\n"
     ]
    },
    {
     "name": "stderr",
     "output_type": "stream",
     "text": [
      "Processing Graph Files:  32%|███▏      | 219/691 [4:33:38<7:27:18, 56.86s/it]"
     ]
    },
    {
     "name": "stdout",
     "output_type": "stream",
     "text": [
      "Centralities for graph saved to monthly_centralities_csv_new/centralities_1971-03.csv\n"
     ]
    },
    {
     "name": "stderr",
     "output_type": "stream",
     "text": [
      "Processing Graph Files:  32%|███▏      | 220/691 [4:35:12<8:52:19, 67.81s/it]"
     ]
    },
    {
     "name": "stdout",
     "output_type": "stream",
     "text": [
      "Centralities for graph saved to monthly_centralities_csv_new/centralities_1959-02.csv\n"
     ]
    },
    {
     "name": "stderr",
     "output_type": "stream",
     "text": [
      "Processing Graph Files:  32%|███▏      | 221/691 [4:36:31<9:17:47, 71.21s/it]"
     ]
    },
    {
     "name": "stdout",
     "output_type": "stream",
     "text": [
      "Centralities for graph saved to monthly_centralities_csv_new/centralities_1980-11.csv\n"
     ]
    },
    {
     "name": "stderr",
     "output_type": "stream",
     "text": [
      "Processing Graph Files:  32%|███▏      | 222/691 [4:37:53<9:42:55, 74.58s/it]"
     ]
    },
    {
     "name": "stdout",
     "output_type": "stream",
     "text": [
      "Centralities for graph saved to monthly_centralities_csv_new/centralities_1980-05.csv\n"
     ]
    },
    {
     "name": "stderr",
     "output_type": "stream",
     "text": [
      "Processing Graph Files:  32%|███▏      | 223/691 [4:39:16<10:00:01, 76.93s/it]"
     ]
    },
    {
     "name": "stdout",
     "output_type": "stream",
     "text": [
      "Centralities for graph saved to monthly_centralities_csv_new/centralities_1989-09.csv\n"
     ]
    },
    {
     "name": "stderr",
     "output_type": "stream",
     "text": [
      "Processing Graph Files:  32%|███▏      | 224/691 [4:41:02<11:08:30, 85.89s/it]"
     ]
    },
    {
     "name": "stdout",
     "output_type": "stream",
     "text": [
      "Centralities for graph saved to monthly_centralities_csv_new/centralities_1957-07.csv\n"
     ]
    },
    {
     "name": "stderr",
     "output_type": "stream",
     "text": [
      "Processing Graph Files:  33%|███▎      | 225/691 [4:42:43<11:40:48, 90.23s/it]"
     ]
    },
    {
     "name": "stdout",
     "output_type": "stream",
     "text": [
      "Centralities for graph saved to monthly_centralities_csv_new/centralities_1957-11.csv\n"
     ]
    },
    {
     "name": "stderr",
     "output_type": "stream",
     "text": [
      "Processing Graph Files:  33%|███▎      | 226/691 [4:44:37<12:33:58, 97.29s/it]"
     ]
    },
    {
     "name": "stdout",
     "output_type": "stream",
     "text": [
      "Centralities for graph saved to monthly_centralities_csv_new/centralities_2003-08.csv\n"
     ]
    },
    {
     "name": "stderr",
     "output_type": "stream",
     "text": [
      "Processing Graph Files:  33%|███▎      | 227/691 [4:46:08<12:19:22, 95.61s/it]"
     ]
    },
    {
     "name": "stdout",
     "output_type": "stream",
     "text": [
      "Centralities for graph saved to monthly_centralities_csv_new/centralities_1957-05.csv\n"
     ]
    },
    {
     "name": "stderr",
     "output_type": "stream",
     "text": [
      "Processing Graph Files:  33%|███▎      | 228/691 [4:47:32<11:51:26, 92.20s/it]"
     ]
    },
    {
     "name": "stdout",
     "output_type": "stream",
     "text": [
      "Centralities for graph saved to monthly_centralities_csv_new/centralities_1980-07.csv\n"
     ]
    },
    {
     "name": "stderr",
     "output_type": "stream",
     "text": [
      "Processing Graph Files:  33%|███▎      | 229/691 [4:48:29<10:27:51, 81.54s/it]"
     ]
    },
    {
     "name": "stdout",
     "output_type": "stream",
     "text": [
      "Centralities for graph saved to monthly_centralities_csv_new/centralities_1976-08.csv\n"
     ]
    },
    {
     "name": "stderr",
     "output_type": "stream",
     "text": [
      "Processing Graph Files:  33%|███▎      | 230/691 [4:49:47<10:17:13, 80.33s/it]"
     ]
    },
    {
     "name": "stdout",
     "output_type": "stream",
     "text": [
      "Centralities for graph saved to monthly_centralities_csv_new/centralities_1949-11.csv\n"
     ]
    },
    {
     "name": "stderr",
     "output_type": "stream",
     "text": [
      "Processing Graph Files:  33%|███▎      | 231/691 [4:51:10<10:22:30, 81.20s/it]"
     ]
    },
    {
     "name": "stdout",
     "output_type": "stream",
     "text": [
      "Centralities for graph saved to monthly_centralities_csv_new/centralities_1990-02.csv\n"
     ]
    },
    {
     "name": "stderr",
     "output_type": "stream",
     "text": [
      "Processing Graph Files:  34%|███▎      | 232/691 [4:52:10<9:33:11, 74.93s/it] "
     ]
    },
    {
     "name": "stdout",
     "output_type": "stream",
     "text": [
      "Centralities for graph saved to monthly_centralities_csv_new/centralities_1949-05.csv\n"
     ]
    },
    {
     "name": "stderr",
     "output_type": "stream",
     "text": [
      "Processing Graph Files:  34%|███▎      | 233/691 [4:53:31<9:45:55, 76.76s/it]"
     ]
    },
    {
     "name": "stdout",
     "output_type": "stream",
     "text": [
      "Centralities for graph saved to monthly_centralities_csv_new/centralities_1961-04.csv\n"
     ]
    },
    {
     "name": "stderr",
     "output_type": "stream",
     "text": [
      "Processing Graph Files:  34%|███▍      | 234/691 [4:54:53<9:56:34, 78.32s/it]"
     ]
    },
    {
     "name": "stdout",
     "output_type": "stream",
     "text": [
      "Centralities for graph saved to monthly_centralities_csv_new/centralities_1961-10.csv\n"
     ]
    },
    {
     "name": "stderr",
     "output_type": "stream",
     "text": [
      "Processing Graph Files:  34%|███▍      | 235/691 [4:55:38<8:39:03, 68.30s/it]"
     ]
    },
    {
     "name": "stdout",
     "output_type": "stream",
     "text": [
      "Centralities for graph saved to monthly_centralities_csv_new/centralities_1968-08.csv\n"
     ]
    },
    {
     "name": "stderr",
     "output_type": "stream",
     "text": [
      "Processing Graph Files:  34%|███▍      | 236/691 [4:57:01<9:11:02, 72.66s/it]"
     ]
    },
    {
     "name": "stdout",
     "output_type": "stream",
     "text": [
      "Centralities for graph saved to monthly_centralities_csv_new/centralities_1992-07.csv\n"
     ]
    },
    {
     "name": "stderr",
     "output_type": "stream",
     "text": [
      "Processing Graph Files:  34%|███▍      | 237/691 [4:58:16<9:16:13, 73.51s/it]"
     ]
    },
    {
     "name": "stdout",
     "output_type": "stream",
     "text": [
      "Centralities for graph saved to monthly_centralities_csv_new/centralities_1964-08.csv\n"
     ]
    },
    {
     "name": "stderr",
     "output_type": "stream",
     "text": [
      "Processing Graph Files:  34%|███▍      | 238/691 [4:59:24<9:01:43, 71.75s/it]"
     ]
    },
    {
     "name": "stdout",
     "output_type": "stream",
     "text": [
      "Centralities for graph saved to monthly_centralities_csv_new/centralities_1963-01.csv\n"
     ]
    },
    {
     "name": "stderr",
     "output_type": "stream",
     "text": [
      "Processing Graph Files:  35%|███▍      | 239/691 [5:00:36<9:01:09, 71.84s/it]"
     ]
    },
    {
     "name": "stdout",
     "output_type": "stream",
     "text": [
      "Centralities for graph saved to monthly_centralities_csv_new/centralities_1952-09.csv\n"
     ]
    },
    {
     "name": "stderr",
     "output_type": "stream",
     "text": [
      "Processing Graph Files:  35%|███▍      | 240/691 [5:01:53<9:12:03, 73.44s/it]"
     ]
    },
    {
     "name": "stdout",
     "output_type": "stream",
     "text": [
      "Centralities for graph saved to monthly_centralities_csv_new/centralities_1982-02.csv\n"
     ]
    },
    {
     "name": "stderr",
     "output_type": "stream",
     "text": [
      "Processing Graph Files:  35%|███▍      | 241/691 [5:02:49<8:31:06, 68.15s/it]"
     ]
    },
    {
     "name": "stdout",
     "output_type": "stream",
     "text": [
      "Centralities for graph saved to monthly_centralities_csv_new/centralities_1973-10.csv\n"
     ]
    },
    {
     "name": "stderr",
     "output_type": "stream",
     "text": [
      "Processing Graph Files:  35%|███▌      | 242/691 [5:03:44<7:59:53, 64.13s/it]"
     ]
    },
    {
     "name": "stdout",
     "output_type": "stream",
     "text": [
      "Centralities for graph saved to monthly_centralities_csv_new/centralities_1973-04.csv\n"
     ]
    },
    {
     "name": "stderr",
     "output_type": "stream",
     "text": [
      "Processing Graph Files:  35%|███▌      | 243/691 [5:04:40<7:40:57, 61.74s/it]"
     ]
    },
    {
     "name": "stdout",
     "output_type": "stream",
     "text": [
      "Centralities for graph saved to monthly_centralities_csv_new/centralities_1973-05.csv\n"
     ]
    },
    {
     "name": "stderr",
     "output_type": "stream",
     "text": [
      "Processing Graph Files:  35%|███▌      | 244/691 [5:05:36<7:28:01, 60.14s/it]"
     ]
    },
    {
     "name": "stdout",
     "output_type": "stream",
     "text": [
      "Centralities for graph saved to monthly_centralities_csv_new/centralities_1973-11.csv\n"
     ]
    },
    {
     "name": "stderr",
     "output_type": "stream",
     "text": [
      "Processing Graph Files:  35%|███▌      | 245/691 [5:07:00<8:18:20, 67.04s/it]"
     ]
    },
    {
     "name": "stdout",
     "output_type": "stream",
     "text": [
      "Centralities for graph saved to monthly_centralities_csv_new/centralities_1982-03.csv\n"
     ]
    },
    {
     "name": "stderr",
     "output_type": "stream",
     "text": [
      "Processing Graph Files:  36%|███▌      | 246/691 [5:08:13<8:30:53, 68.89s/it]"
     ]
    },
    {
     "name": "stdout",
     "output_type": "stream",
     "text": [
      "Centralities for graph saved to monthly_centralities_csv_new/centralities_1955-01.csv\n"
     ]
    },
    {
     "name": "stderr",
     "output_type": "stream",
     "text": [
      "Processing Graph Files:  36%|███▌      | 247/691 [5:09:25<8:37:55, 69.99s/it]"
     ]
    },
    {
     "name": "stdout",
     "output_type": "stream",
     "text": [
      "Centralities for graph saved to monthly_centralities_csv_new/centralities_1952-08.csv\n"
     ]
    },
    {
     "name": "stderr",
     "output_type": "stream",
     "text": [
      "Processing Graph Files:  36%|███▌      | 248/691 [5:10:43<8:52:51, 72.17s/it]"
     ]
    },
    {
     "name": "stdout",
     "output_type": "stream",
     "text": [
      "Centralities for graph saved to monthly_centralities_csv_new/centralities_1964-09.csv\n"
     ]
    },
    {
     "name": "stderr",
     "output_type": "stream",
     "text": [
      "Processing Graph Files:  36%|███▌      | 249/691 [5:12:05<9:13:52, 75.19s/it]"
     ]
    },
    {
     "name": "stdout",
     "output_type": "stream",
     "text": [
      "Centralities for graph saved to monthly_centralities_csv_new/centralities_1992-12.csv\n"
     ]
    },
    {
     "name": "stderr",
     "output_type": "stream",
     "text": [
      "Processing Graph Files:  36%|███▌      | 250/691 [5:13:27<9:27:59, 77.28s/it]"
     ]
    },
    {
     "name": "stdout",
     "output_type": "stream",
     "text": [
      "Centralities for graph saved to monthly_centralities_csv_new/centralities_1992-06.csv\n"
     ]
    },
    {
     "name": "stderr",
     "output_type": "stream",
     "text": [
      "Processing Graph Files:  36%|███▋      | 251/691 [5:14:12<8:16:30, 67.70s/it]"
     ]
    },
    {
     "name": "stdout",
     "output_type": "stream",
     "text": [
      "Centralities for graph saved to monthly_centralities_csv_new/centralities_1968-09.csv\n"
     ]
    },
    {
     "name": "stderr",
     "output_type": "stream",
     "text": [
      "Processing Graph Files:  36%|███▋      | 252/691 [5:15:25<8:25:39, 69.11s/it]"
     ]
    },
    {
     "name": "stdout",
     "output_type": "stream",
     "text": [
      "Centralities for graph saved to monthly_centralities_csv_new/centralities_1961-11.csv\n"
     ]
    },
    {
     "name": "stderr",
     "output_type": "stream",
     "text": [
      "Processing Graph Files:  37%|███▋      | 253/691 [5:16:47<8:53:42, 73.11s/it]"
     ]
    },
    {
     "name": "stdout",
     "output_type": "stream",
     "text": [
      "Centralities for graph saved to monthly_centralities_csv_new/centralities_1961-05.csv\n"
     ]
    },
    {
     "name": "stderr",
     "output_type": "stream",
     "text": [
      "Processing Graph Files:  37%|███▋      | 254/691 [5:17:40<8:07:18, 66.91s/it]"
     ]
    },
    {
     "name": "stdout",
     "output_type": "stream",
     "text": [
      "Centralities for graph saved to monthly_centralities_csv_new/centralities_1949-04.csv\n"
     ]
    },
    {
     "name": "stderr",
     "output_type": "stream",
     "text": [
      "Processing Graph Files:  37%|███▋      | 255/691 [5:19:12<9:02:23, 74.64s/it]"
     ]
    },
    {
     "name": "stdout",
     "output_type": "stream",
     "text": [
      "Centralities for graph saved to monthly_centralities_csv_new/centralities_1990-03.csv\n"
     ]
    },
    {
     "name": "stderr",
     "output_type": "stream",
     "text": [
      "Processing Graph Files:  37%|███▋      | 256/691 [5:20:28<9:02:51, 74.88s/it]"
     ]
    },
    {
     "name": "stdout",
     "output_type": "stream",
     "text": [
      "Centralities for graph saved to monthly_centralities_csv_new/centralities_1949-10.csv\n"
     ]
    },
    {
     "name": "stderr",
     "output_type": "stream",
     "text": [
      "Processing Graph Files:  37%|███▋      | 257/691 [5:20:54<7:17:08, 60.43s/it]"
     ]
    },
    {
     "name": "stdout",
     "output_type": "stream",
     "text": [
      "Centralities for graph saved to monthly_centralities_csv_new/centralities_1947-01.csv\n"
     ]
    },
    {
     "name": "stderr",
     "output_type": "stream",
     "text": [
      "Processing Graph Files:  37%|███▋      | 258/691 [5:21:42<6:48:54, 56.66s/it]"
     ]
    },
    {
     "name": "stdout",
     "output_type": "stream",
     "text": [
      "Centralities for graph saved to monthly_centralities_csv_new/centralities_1976-09.csv\n"
     ]
    },
    {
     "name": "stderr",
     "output_type": "stream",
     "text": [
      "Processing Graph Files:  37%|███▋      | 259/691 [5:23:03<7:40:45, 63.99s/it]"
     ]
    },
    {
     "name": "stdout",
     "output_type": "stream",
     "text": [
      "Centralities for graph saved to monthly_centralities_csv_new/centralities_1980-06.csv\n"
     ]
    },
    {
     "name": "stderr",
     "output_type": "stream",
     "text": [
      "Processing Graph Files:  38%|███▊      | 260/691 [5:24:41<8:51:32, 74.00s/it]"
     ]
    },
    {
     "name": "stdout",
     "output_type": "stream",
     "text": [
      "Centralities for graph saved to monthly_centralities_csv_new/centralities_1959-01.csv\n"
     ]
    },
    {
     "name": "stderr",
     "output_type": "stream",
     "text": [
      "Processing Graph Files:  38%|███▊      | 261/691 [5:26:05<9:13:16, 77.20s/it]"
     ]
    },
    {
     "name": "stdout",
     "output_type": "stream",
     "text": [
      "Centralities for graph saved to monthly_centralities_csv_new/centralities_1980-12.csv\n"
     ]
    },
    {
     "name": "stderr",
     "output_type": "stream",
     "text": [
      "Processing Graph Files:  38%|███▊      | 262/691 [5:27:35<9:39:30, 81.05s/it]"
     ]
    },
    {
     "name": "stdout",
     "output_type": "stream",
     "text": [
      "Centralities for graph saved to monthly_centralities_csv_new/centralities_1957-04.csv\n"
     ]
    },
    {
     "name": "stderr",
     "output_type": "stream",
     "text": [
      "Processing Graph Files:  38%|███▊      | 263/691 [5:29:13<10:12:42, 85.89s/it]"
     ]
    },
    {
     "name": "stdout",
     "output_type": "stream",
     "text": [
      "Centralities for graph saved to monthly_centralities_csv_new/centralities_1957-10.csv\n"
     ]
    },
    {
     "name": "stderr",
     "output_type": "stream",
     "text": [
      "Processing Graph Files:  38%|███▊      | 264/691 [5:31:06<11:09:32, 94.08s/it]"
     ]
    },
    {
     "name": "stdout",
     "output_type": "stream",
     "text": [
      "Centralities for graph saved to monthly_centralities_csv_new/centralities_2003-09.csv\n"
     ]
    },
    {
     "name": "stderr",
     "output_type": "stream",
     "text": [
      "Processing Graph Files:  38%|███▊      | 265/691 [5:33:12<12:15:58, 103.66s/it]"
     ]
    },
    {
     "name": "stdout",
     "output_type": "stream",
     "text": [
      "Centralities for graph saved to monthly_centralities_csv_new/centralities_1959-05.csv\n"
     ]
    },
    {
     "name": "stderr",
     "output_type": "stream",
     "text": [
      "Processing Graph Files:  38%|███▊      | 266/691 [5:34:56<12:16:00, 103.91s/it]"
     ]
    },
    {
     "name": "stdout",
     "output_type": "stream",
     "text": [
      "Centralities for graph saved to monthly_centralities_csv_new/centralities_1959-11.csv\n"
     ]
    },
    {
     "name": "stderr",
     "output_type": "stream",
     "text": [
      "Processing Graph Files:  39%|███▊      | 267/691 [5:36:11<11:12:17, 95.14s/it] "
     ]
    },
    {
     "name": "stdout",
     "output_type": "stream",
     "text": [
      "Centralities for graph saved to monthly_centralities_csv_new/centralities_1980-02.csv\n"
     ]
    },
    {
     "name": "stderr",
     "output_type": "stream",
     "text": [
      "Processing Graph Files:  39%|███▉      | 268/691 [5:37:37<10:50:28, 92.27s/it]"
     ]
    },
    {
     "name": "stdout",
     "output_type": "stream",
     "text": [
      "Centralities for graph saved to monthly_centralities_csv_new/centralities_1950-09.csv\n"
     ]
    },
    {
     "name": "stderr",
     "output_type": "stream",
     "text": [
      "Processing Graph Files:  39%|███▉      | 269/691 [5:38:36<9:40:20, 82.51s/it] "
     ]
    },
    {
     "name": "stdout",
     "output_type": "stream",
     "text": [
      "Centralities for graph saved to monthly_centralities_csv_new/centralities_1978-08.csv\n"
     ]
    },
    {
     "name": "stderr",
     "output_type": "stream",
     "text": [
      "Processing Graph Files:  39%|███▉      | 270/691 [5:39:30<8:38:27, 73.89s/it]"
     ]
    },
    {
     "name": "stdout",
     "output_type": "stream",
     "text": [
      "Centralities for graph saved to monthly_centralities_csv_new/centralities_1971-10.csv\n"
     ]
    },
    {
     "name": "stderr",
     "output_type": "stream",
     "text": [
      "Processing Graph Files:  39%|███▉      | 271/691 [5:40:18<7:43:21, 66.19s/it]"
     ]
    },
    {
     "name": "stdout",
     "output_type": "stream",
     "text": [
      "Centralities for graph saved to monthly_centralities_csv_new/centralities_1971-04.csv\n"
     ]
    },
    {
     "name": "stderr",
     "output_type": "stream",
     "text": [
      "Processing Graph Files:  39%|███▉      | 272/691 [5:41:41<8:16:36, 71.11s/it]"
     ]
    },
    {
     "name": "stdout",
     "output_type": "stream",
     "text": [
      "Centralities for graph saved to monthly_centralities_csv_new/centralities_1990-07.csv\n"
     ]
    },
    {
     "name": "stderr",
     "output_type": "stream",
     "text": [
      "Processing Graph Files:  40%|███▉      | 273/691 [5:42:07<6:40:56, 57.55s/it]"
     ]
    },
    {
     "name": "stdout",
     "output_type": "stream",
     "text": [
      "Centralities for graph saved to monthly_centralities_csv_new/centralities_1947-05.csv\n"
     ]
    },
    {
     "name": "stderr",
     "output_type": "stream",
     "text": [
      "Processing Graph Files:  40%|███▉      | 274/691 [5:42:33<5:34:10, 48.08s/it]"
     ]
    },
    {
     "name": "stdout",
     "output_type": "stream",
     "text": [
      "Centralities for graph saved to monthly_centralities_csv_new/centralities_1947-11.csv\n"
     ]
    },
    {
     "name": "stderr",
     "output_type": "stream",
     "text": [
      "Processing Graph Files:  40%|███▉      | 275/691 [5:43:21<5:33:50, 48.15s/it]"
     ]
    },
    {
     "name": "stdout",
     "output_type": "stream",
     "text": [
      "Centralities for graph saved to monthly_centralities_csv_new/centralities_1966-08.csv\n"
     ]
    },
    {
     "name": "stderr",
     "output_type": "stream",
     "text": [
      "Processing Graph Files:  40%|███▉      | 276/691 [5:44:41<6:38:33, 57.62s/it]"
     ]
    },
    {
     "name": "stdout",
     "output_type": "stream",
     "text": [
      "Centralities for graph saved to monthly_centralities_csv_new/centralities_1961-01.csv\n"
     ]
    },
    {
     "name": "stderr",
     "output_type": "stream",
     "text": [
      "Processing Graph Files:  40%|████      | 277/691 [5:45:53<7:07:08, 61.91s/it]"
     ]
    },
    {
     "name": "stdout",
     "output_type": "stream",
     "text": [
      "Centralities for graph saved to monthly_centralities_csv_new/centralities_1992-02.csv\n"
     ]
    },
    {
     "name": "stderr",
     "output_type": "stream",
     "text": [
      "Processing Graph Files:  40%|████      | 278/691 [5:46:58<7:13:54, 63.04s/it]"
     ]
    },
    {
     "name": "stdout",
     "output_type": "stream",
     "text": [
      "Centralities for graph saved to monthly_centralities_csv_new/centralities_1963-04.csv\n"
     ]
    },
    {
     "name": "stderr",
     "output_type": "stream",
     "text": [
      "Processing Graph Files:  40%|████      | 279/691 [5:48:06<7:21:49, 64.34s/it]"
     ]
    },
    {
     "name": "stdout",
     "output_type": "stream",
     "text": [
      "Centralities for graph saved to monthly_centralities_csv_new/centralities_1963-10.csv\n"
     ]
    },
    {
     "name": "stderr",
     "output_type": "stream",
     "text": [
      "Processing Graph Files:  41%|████      | 280/691 [5:49:29<7:59:48, 70.05s/it]"
     ]
    },
    {
     "name": "stdout",
     "output_type": "stream",
     "text": [
      "Centralities for graph saved to monthly_centralities_csv_new/centralities_1982-07.csv\n"
     ]
    },
    {
     "name": "stderr",
     "output_type": "stream",
     "text": [
      "Processing Graph Files:  41%|████      | 281/691 [5:50:41<8:02:07, 70.55s/it]"
     ]
    },
    {
     "name": "stdout",
     "output_type": "stream",
     "text": [
      "Centralities for graph saved to monthly_centralities_csv_new/centralities_1955-11.csv\n"
     ]
    },
    {
     "name": "stderr",
     "output_type": "stream",
     "text": [
      "Processing Graph Files:  41%|████      | 282/691 [5:52:19<8:57:56, 78.91s/it]"
     ]
    },
    {
     "name": "stdout",
     "output_type": "stream",
     "text": [
      "Centralities for graph saved to monthly_centralities_csv_new/centralities_2001-08.csv\n"
     ]
    },
    {
     "name": "stderr",
     "output_type": "stream",
     "text": [
      "Processing Graph Files:  41%|████      | 283/691 [5:53:34<8:48:34, 77.73s/it]"
     ]
    },
    {
     "name": "stdout",
     "output_type": "stream",
     "text": [
      "Centralities for graph saved to monthly_centralities_csv_new/centralities_1955-05.csv\n"
     ]
    },
    {
     "name": "stderr",
     "output_type": "stream",
     "text": [
      "Processing Graph Files:  41%|████      | 284/691 [5:54:31<8:04:11, 71.38s/it]"
     ]
    },
    {
     "name": "stdout",
     "output_type": "stream",
     "text": [
      "Centralities for graph saved to monthly_centralities_csv_new/centralities_1973-01.csv\n"
     ]
    },
    {
     "name": "stderr",
     "output_type": "stream",
     "text": [
      "Processing Graph Files:  41%|████      | 285/691 [5:55:28<7:33:57, 67.09s/it]"
     ]
    },
    {
     "name": "stdout",
     "output_type": "stream",
     "text": [
      "Centralities for graph saved to monthly_centralities_csv_new/centralities_1974-08.csv\n"
     ]
    },
    {
     "name": "stderr",
     "output_type": "stream",
     "text": [
      "Processing Graph Files:  41%|████▏     | 286/691 [5:56:21<7:04:46, 62.93s/it]"
     ]
    },
    {
     "name": "stdout",
     "output_type": "stream",
     "text": [
      "Centralities for graph saved to monthly_centralities_csv_new/centralities_1974-09.csv\n"
     ]
    },
    {
     "name": "stderr",
     "output_type": "stream",
     "text": [
      "Processing Graph Files:  42%|████▏     | 287/691 [5:57:34<7:23:28, 65.86s/it]"
     ]
    },
    {
     "name": "stdout",
     "output_type": "stream",
     "text": [
      "Centralities for graph saved to monthly_centralities_csv_new/centralities_1955-04.csv\n"
     ]
    },
    {
     "name": "stderr",
     "output_type": "stream",
     "text": [
      "Processing Graph Files:  42%|████▏     | 288/691 [5:58:47<7:37:32, 68.12s/it]"
     ]
    },
    {
     "name": "stdout",
     "output_type": "stream",
     "text": [
      "Centralities for graph saved to monthly_centralities_csv_new/centralities_1955-10.csv\n"
     ]
    },
    {
     "name": "stderr",
     "output_type": "stream",
     "text": [
      "Processing Graph Files:  42%|████▏     | 289/691 [6:00:18<8:22:23, 74.98s/it]"
     ]
    },
    {
     "name": "stdout",
     "output_type": "stream",
     "text": [
      "Centralities for graph saved to monthly_centralities_csv_new/centralities_2001-09.csv\n"
     ]
    },
    {
     "name": "stderr",
     "output_type": "stream",
     "text": [
      "Processing Graph Files:  42%|████▏     | 290/691 [6:01:40<8:34:38, 77.00s/it]"
     ]
    },
    {
     "name": "stdout",
     "output_type": "stream",
     "text": [
      "Centralities for graph saved to monthly_centralities_csv_new/centralities_1982-06.csv\n"
     ]
    },
    {
     "name": "stderr",
     "output_type": "stream",
     "text": [
      "Processing Graph Files:  42%|████▏     | 291/691 [6:03:03<8:44:29, 78.67s/it]"
     ]
    },
    {
     "name": "stdout",
     "output_type": "stream",
     "text": [
      "Centralities for graph saved to monthly_centralities_csv_new/centralities_1982-12.csv\n"
     ]
    },
    {
     "name": "stderr",
     "output_type": "stream",
     "text": [
      "Processing Graph Files:  42%|████▏     | 292/691 [6:04:09<8:18:32, 74.97s/it]"
     ]
    },
    {
     "name": "stdout",
     "output_type": "stream",
     "text": [
      "Centralities for graph saved to monthly_centralities_csv_new/centralities_1963-11.csv\n"
     ]
    },
    {
     "name": "stderr",
     "output_type": "stream",
     "text": [
      "Processing Graph Files:  42%|████▏     | 293/691 [6:05:12<7:53:18, 71.35s/it]"
     ]
    },
    {
     "name": "stdout",
     "output_type": "stream",
     "text": [
      "Centralities for graph saved to monthly_centralities_csv_new/centralities_1963-05.csv\n"
     ]
    },
    {
     "name": "stderr",
     "output_type": "stream",
     "text": [
      "Processing Graph Files:  43%|████▎     | 294/691 [6:06:39<8:24:03, 76.18s/it]"
     ]
    },
    {
     "name": "stdout",
     "output_type": "stream",
     "text": [
      "Centralities for graph saved to monthly_centralities_csv_new/centralities_1992-03.csv\n"
     ]
    },
    {
     "name": "stderr",
     "output_type": "stream",
     "text": [
      "Processing Graph Files:  43%|████▎     | 295/691 [6:07:20<7:12:10, 65.48s/it]"
     ]
    },
    {
     "name": "stdout",
     "output_type": "stream",
     "text": [
      "Centralities for graph saved to monthly_centralities_csv_new/centralities_1966-09.csv\n"
     ]
    },
    {
     "name": "stderr",
     "output_type": "stream",
     "text": [
      "Processing Graph Files:  43%|████▎     | 296/691 [6:07:44<5:50:35, 53.25s/it]"
     ]
    },
    {
     "name": "stdout",
     "output_type": "stream",
     "text": [
      "Centralities for graph saved to monthly_centralities_csv_new/centralities_1947-10.csv\n"
     ]
    },
    {
     "name": "stderr",
     "output_type": "stream",
     "text": [
      "Processing Graph Files:  43%|████▎     | 297/691 [6:08:06<4:47:19, 43.76s/it]"
     ]
    },
    {
     "name": "stdout",
     "output_type": "stream",
     "text": [
      "Centralities for graph saved to monthly_centralities_csv_new/centralities_1947-04.csv\n"
     ]
    },
    {
     "name": "stderr",
     "output_type": "stream",
     "text": [
      "Processing Graph Files:  43%|████▎     | 298/691 [6:08:48<4:42:09, 43.08s/it]"
     ]
    },
    {
     "name": "stdout",
     "output_type": "stream",
     "text": [
      "Centralities for graph saved to monthly_centralities_csv_new/centralities_1949-01.csv\n"
     ]
    },
    {
     "name": "stderr",
     "output_type": "stream",
     "text": [
      "Processing Graph Files:  43%|████▎     | 299/691 [6:10:12<6:03:00, 55.56s/it]"
     ]
    },
    {
     "name": "stdout",
     "output_type": "stream",
     "text": [
      "Centralities for graph saved to monthly_centralities_csv_new/centralities_1990-12.csv\n"
     ]
    },
    {
     "name": "stderr",
     "output_type": "stream",
     "text": [
      "Processing Graph Files:  43%|████▎     | 300/691 [6:11:37<6:58:34, 64.23s/it]"
     ]
    },
    {
     "name": "stdout",
     "output_type": "stream",
     "text": [
      "Centralities for graph saved to monthly_centralities_csv_new/centralities_1990-06.csv\n"
     ]
    },
    {
     "name": "stderr",
     "output_type": "stream",
     "text": [
      "Processing Graph Files:  44%|████▎     | 301/691 [6:12:29<6:35:10, 60.80s/it]"
     ]
    },
    {
     "name": "stdout",
     "output_type": "stream",
     "text": [
      "Centralities for graph saved to monthly_centralities_csv_new/centralities_1971-05.csv\n"
     ]
    },
    {
     "name": "stderr",
     "output_type": "stream",
     "text": [
      "Processing Graph Files:  44%|████▎     | 302/691 [6:13:25<6:23:28, 59.15s/it]"
     ]
    },
    {
     "name": "stdout",
     "output_type": "stream",
     "text": [
      "Centralities for graph saved to monthly_centralities_csv_new/centralities_1971-11.csv\n"
     ]
    },
    {
     "name": "stderr",
     "output_type": "stream",
     "text": [
      "Processing Graph Files:  44%|████▍     | 303/691 [6:14:28<6:29:32, 60.24s/it]"
     ]
    },
    {
     "name": "stdout",
     "output_type": "stream",
     "text": [
      "Centralities for graph saved to monthly_centralities_csv_new/centralities_1978-09.csv\n"
     ]
    },
    {
     "name": "stderr",
     "output_type": "stream",
     "text": [
      "Processing Graph Files:  44%|████▍     | 304/691 [6:16:08<7:47:10, 72.43s/it]"
     ]
    },
    {
     "name": "stdout",
     "output_type": "stream",
     "text": [
      "Centralities for graph saved to monthly_centralities_csv_new/centralities_1957-01.csv\n"
     ]
    },
    {
     "name": "stderr",
     "output_type": "stream",
     "text": [
      "Processing Graph Files:  44%|████▍     | 305/691 [6:17:27<7:56:54, 74.13s/it]"
     ]
    },
    {
     "name": "stdout",
     "output_type": "stream",
     "text": [
      "Centralities for graph saved to monthly_centralities_csv_new/centralities_1950-08.csv\n"
     ]
    },
    {
     "name": "stderr",
     "output_type": "stream",
     "text": [
      "Processing Graph Files:  44%|████▍     | 306/691 [6:18:49<8:11:52, 76.66s/it]"
     ]
    },
    {
     "name": "stdout",
     "output_type": "stream",
     "text": [
      "Centralities for graph saved to monthly_centralities_csv_new/centralities_1980-03.csv\n"
     ]
    },
    {
     "name": "stderr",
     "output_type": "stream",
     "text": [
      "Processing Graph Files:  44%|████▍     | 307/691 [6:20:29<8:55:59, 83.75s/it]"
     ]
    },
    {
     "name": "stdout",
     "output_type": "stream",
     "text": [
      "Centralities for graph saved to monthly_centralities_csv_new/centralities_1959-10.csv\n"
     ]
    },
    {
     "name": "stderr",
     "output_type": "stream",
     "text": [
      "Processing Graph Files:  45%|████▍     | 308/691 [6:22:22<9:49:01, 92.28s/it]"
     ]
    },
    {
     "name": "stdout",
     "output_type": "stream",
     "text": [
      "Centralities for graph saved to monthly_centralities_csv_new/centralities_1959-04.csv\n"
     ]
    },
    {
     "name": "stderr",
     "output_type": "stream",
     "text": [
      "Processing Graph Files:  45%|████▍     | 309/691 [6:23:49<9:38:22, 90.84s/it]"
     ]
    },
    {
     "name": "stdout",
     "output_type": "stream",
     "text": [
      "Centralities for graph saved to monthly_centralities_csv_new/centralities_1987-08.csv\n"
     ]
    },
    {
     "name": "stderr",
     "output_type": "stream",
     "text": [
      "Processing Graph Files:  45%|████▍     | 310/691 [6:25:27<9:50:33, 93.00s/it]"
     ]
    },
    {
     "name": "stdout",
     "output_type": "stream",
     "text": [
      "Centralities for graph saved to monthly_centralities_csv_new/centralities_1959-12.csv\n"
     ]
    },
    {
     "name": "stderr",
     "output_type": "stream",
     "text": [
      "Processing Graph Files:  45%|████▌     | 311/691 [6:26:48<9:25:52, 89.35s/it]"
     ]
    },
    {
     "name": "stdout",
     "output_type": "stream",
     "text": [
      "Centralities for graph saved to monthly_centralities_csv_new/centralities_1980-01.csv\n"
     ]
    },
    {
     "name": "stderr",
     "output_type": "stream",
     "text": [
      "Processing Graph Files:  45%|████▌     | 312/691 [6:28:21<9:31:27, 90.47s/it]"
     ]
    },
    {
     "name": "stdout",
     "output_type": "stream",
     "text": [
      "Centralities for graph saved to monthly_centralities_csv_new/centralities_1959-06.csv\n"
     ]
    },
    {
     "name": "stderr",
     "output_type": "stream",
     "text": [
      "Processing Graph Files:  45%|████▌     | 313/691 [6:30:14<10:12:09, 97.17s/it]"
     ]
    },
    {
     "name": "stdout",
     "output_type": "stream",
     "text": [
      "Centralities for graph saved to monthly_centralities_csv_new/centralities_1957-03.csv\n"
     ]
    },
    {
     "name": "stderr",
     "output_type": "stream",
     "text": [
      "Processing Graph Files:  45%|████▌     | 314/691 [6:31:08<8:49:39, 84.30s/it] "
     ]
    },
    {
     "name": "stdout",
     "output_type": "stream",
     "text": [
      "Centralities for graph saved to monthly_centralities_csv_new/centralities_1971-07.csv\n"
     ]
    },
    {
     "name": "stderr",
     "output_type": "stream",
     "text": [
      "Processing Graph Files:  46%|████▌     | 315/691 [6:32:27<8:37:56, 82.65s/it]"
     ]
    },
    {
     "name": "stdout",
     "output_type": "stream",
     "text": [
      "Centralities for graph saved to monthly_centralities_csv_new/centralities_1990-10.csv\n"
     ]
    },
    {
     "name": "stderr",
     "output_type": "stream",
     "text": [
      "Processing Graph Files:  46%|████▌     | 316/691 [6:33:17<7:35:36, 72.90s/it]"
     ]
    },
    {
     "name": "stdout",
     "output_type": "stream",
     "text": [
      "Centralities for graph saved to monthly_centralities_csv_new/centralities_1949-03.csv\n"
     ]
    },
    {
     "name": "stderr",
     "output_type": "stream",
     "text": [
      "Processing Graph Files:  46%|████▌     | 317/691 [6:34:45<8:03:21, 77.54s/it]"
     ]
    },
    {
     "name": "stdout",
     "output_type": "stream",
     "text": [
      "Centralities for graph saved to monthly_centralities_csv_new/centralities_1990-04.csv\n"
     ]
    },
    {
     "name": "stderr",
     "output_type": "stream",
     "text": [
      "Processing Graph Files:  46%|████▌     | 318/691 [6:35:09<6:22:22, 61.51s/it]"
     ]
    },
    {
     "name": "stdout",
     "output_type": "stream",
     "text": [
      "Centralities for graph saved to monthly_centralities_csv_new/centralities_1947-12.csv\n"
     ]
    },
    {
     "name": "stderr",
     "output_type": "stream",
     "text": [
      "Processing Graph Files:  46%|████▌     | 319/691 [6:36:45<7:24:05, 71.63s/it]"
     ]
    },
    {
     "name": "stdout",
     "output_type": "stream",
     "text": [
      "Centralities for graph saved to monthly_centralities_csv_new/centralities_1999-08.csv\n"
     ]
    },
    {
     "name": "stderr",
     "output_type": "stream",
     "text": [
      "Processing Graph Files:  46%|████▋     | 320/691 [6:37:09<5:55:40, 57.52s/it]"
     ]
    },
    {
     "name": "stdout",
     "output_type": "stream",
     "text": [
      "Centralities for graph saved to monthly_centralities_csv_new/centralities_1947-06.csv\n"
     ]
    },
    {
     "name": "stderr",
     "output_type": "stream",
     "text": [
      "Processing Graph Files:  46%|████▋     | 321/691 [6:38:22<6:22:07, 61.97s/it]"
     ]
    },
    {
     "name": "stdout",
     "output_type": "stream",
     "text": [
      "Centralities for graph saved to monthly_centralities_csv_new/centralities_1961-02.csv\n"
     ]
    },
    {
     "name": "stderr",
     "output_type": "stream",
     "text": [
      "Processing Graph Files:  47%|████▋     | 322/691 [6:39:43<6:56:46, 67.77s/it]"
     ]
    },
    {
     "name": "stdout",
     "output_type": "stream",
     "text": [
      "Centralities for graph saved to monthly_centralities_csv_new/centralities_1992-01.csv\n"
     ]
    },
    {
     "name": "stderr",
     "output_type": "stream",
     "text": [
      "Processing Graph Files:  47%|████▋     | 323/691 [6:41:22<7:53:43, 77.24s/it]"
     ]
    },
    {
     "name": "stdout",
     "output_type": "stream",
     "text": [
      "Centralities for graph saved to monthly_centralities_csv_new/centralities_1995-08.csv\n"
     ]
    },
    {
     "name": "stderr",
     "output_type": "stream",
     "text": [
      "Processing Graph Files:  47%|████▋     | 324/691 [6:42:36<7:45:24, 76.09s/it]"
     ]
    },
    {
     "name": "stdout",
     "output_type": "stream",
     "text": [
      "Centralities for graph saved to monthly_centralities_csv_new/centralities_1963-07.csv\n"
     ]
    },
    {
     "name": "stderr",
     "output_type": "stream",
     "text": [
      "Processing Graph Files:  47%|████▋     | 325/691 [6:43:57<7:53:07, 77.56s/it]"
     ]
    },
    {
     "name": "stdout",
     "output_type": "stream",
     "text": [
      "Centralities for graph saved to monthly_centralities_csv_new/centralities_1982-04.csv\n"
     ]
    },
    {
     "name": "stderr",
     "output_type": "stream",
     "text": [
      "Processing Graph Files:  47%|████▋     | 326/691 [6:45:19<8:00:38, 79.01s/it]"
     ]
    },
    {
     "name": "stdout",
     "output_type": "stream",
     "text": [
      "Centralities for graph saved to monthly_centralities_csv_new/centralities_1982-10.csv\n"
     ]
    },
    {
     "name": "stderr",
     "output_type": "stream",
     "text": [
      "Processing Graph Files:  47%|████▋     | 327/691 [6:46:30<7:45:18, 76.70s/it]"
     ]
    },
    {
     "name": "stdout",
     "output_type": "stream",
     "text": [
      "Centralities for graph saved to monthly_centralities_csv_new/centralities_1955-06.csv\n"
     ]
    },
    {
     "name": "stderr",
     "output_type": "stream",
     "text": [
      "Processing Graph Files:  47%|████▋     | 328/691 [6:47:44<7:37:54, 75.69s/it]"
     ]
    },
    {
     "name": "stdout",
     "output_type": "stream",
     "text": [
      "Centralities for graph saved to monthly_centralities_csv_new/centralities_1955-12.csv\n"
     ]
    },
    {
     "name": "stderr",
     "output_type": "stream",
     "text": [
      "Processing Graph Files:  48%|████▊     | 329/691 [6:48:35<6:51:35, 68.22s/it]"
     ]
    },
    {
     "name": "stdout",
     "output_type": "stream",
     "text": [
      "Centralities for graph saved to monthly_centralities_csv_new/centralities_1973-02.csv\n"
     ]
    },
    {
     "name": "stderr",
     "output_type": "stream",
     "text": [
      "Processing Graph Files:  48%|████▊     | 330/691 [6:49:31<6:30:02, 64.83s/it]"
     ]
    },
    {
     "name": "stdout",
     "output_type": "stream",
     "text": [
      "Centralities for graph saved to monthly_centralities_csv_new/centralities_1973-03.csv\n"
     ]
    },
    {
     "name": "stderr",
     "output_type": "stream",
     "text": [
      "Processing Graph Files:  48%|████▊     | 331/691 [6:50:54<7:01:33, 70.26s/it]"
     ]
    },
    {
     "name": "stdout",
     "output_type": "stream",
     "text": [
      "Centralities for graph saved to monthly_centralities_csv_new/centralities_1955-07.csv\n"
     ]
    },
    {
     "name": "stderr",
     "output_type": "stream",
     "text": [
      "Processing Graph Files:  48%|████▊     | 332/691 [6:52:16<7:21:28, 73.78s/it]"
     ]
    },
    {
     "name": "stdout",
     "output_type": "stream",
     "text": [
      "Centralities for graph saved to monthly_centralities_csv_new/centralities_1982-11.csv\n"
     ]
    },
    {
     "name": "stderr",
     "output_type": "stream",
     "text": [
      "Processing Graph Files:  48%|████▊     | 333/691 [6:53:39<7:35:30, 76.34s/it]"
     ]
    },
    {
     "name": "stdout",
     "output_type": "stream",
     "text": [
      "Centralities for graph saved to monthly_centralities_csv_new/centralities_1982-05.csv\n"
     ]
    },
    {
     "name": "stderr",
     "output_type": "stream",
     "text": [
      "Processing Graph Files:  48%|████▊     | 334/691 [6:54:44<7:14:48, 73.08s/it]"
     ]
    },
    {
     "name": "stdout",
     "output_type": "stream",
     "text": [
      "Centralities for graph saved to monthly_centralities_csv_new/centralities_1963-06.csv\n"
     ]
    },
    {
     "name": "stderr",
     "output_type": "stream",
     "text": [
      "Processing Graph Files:  48%|████▊     | 335/691 [6:55:55<7:09:24, 72.37s/it]"
     ]
    },
    {
     "name": "stdout",
     "output_type": "stream",
     "text": [
      "Centralities for graph saved to monthly_centralities_csv_new/centralities_1963-12.csv\n"
     ]
    },
    {
     "name": "stderr",
     "output_type": "stream",
     "text": [
      "Processing Graph Files:  49%|████▊     | 336/691 [6:57:34<7:54:53, 80.26s/it]"
     ]
    },
    {
     "name": "stdout",
     "output_type": "stream",
     "text": [
      "Centralities for graph saved to monthly_centralities_csv_new/centralities_1995-09.csv\n"
     ]
    },
    {
     "name": "stderr",
     "output_type": "stream",
     "text": [
      "Processing Graph Files:  49%|████▉     | 337/691 [6:58:59<8:03:01, 81.87s/it]"
     ]
    },
    {
     "name": "stdout",
     "output_type": "stream",
     "text": [
      "Centralities for graph saved to monthly_centralities_csv_new/centralities_1961-03.csv\n"
     ]
    },
    {
     "name": "stderr",
     "output_type": "stream",
     "text": [
      "Processing Graph Files:  49%|████▉     | 338/691 [6:59:26<6:23:58, 65.26s/it]"
     ]
    },
    {
     "name": "stdout",
     "output_type": "stream",
     "text": [
      "Centralities for graph saved to monthly_centralities_csv_new/centralities_1947-07.csv\n"
     ]
    },
    {
     "name": "stderr",
     "output_type": "stream",
     "text": [
      "Processing Graph Files:  49%|████▉     | 339/691 [7:00:52<7:00:33, 71.69s/it]"
     ]
    },
    {
     "name": "stdout",
     "output_type": "stream",
     "text": [
      "Centralities for graph saved to monthly_centralities_csv_new/centralities_1999-09.csv\n"
     ]
    },
    {
     "name": "stderr",
     "output_type": "stream",
     "text": [
      "Processing Graph Files:  49%|████▉     | 340/691 [7:02:20<7:26:30, 76.33s/it]"
     ]
    },
    {
     "name": "stdout",
     "output_type": "stream",
     "text": [
      "Centralities for graph saved to monthly_centralities_csv_new/centralities_1990-05.csv\n"
     ]
    },
    {
     "name": "stderr",
     "output_type": "stream",
     "text": [
      "Processing Graph Files:  49%|████▉     | 341/691 [7:03:05<6:30:54, 67.01s/it]"
     ]
    },
    {
     "name": "stdout",
     "output_type": "stream",
     "text": [
      "Centralities for graph saved to monthly_centralities_csv_new/centralities_1949-02.csv\n"
     ]
    },
    {
     "name": "stderr",
     "output_type": "stream",
     "text": [
      "Processing Graph Files:  49%|████▉     | 342/691 [7:04:25<6:53:38, 71.11s/it]"
     ]
    },
    {
     "name": "stdout",
     "output_type": "stream",
     "text": [
      "Centralities for graph saved to monthly_centralities_csv_new/centralities_1990-11.csv\n"
     ]
    },
    {
     "name": "stderr",
     "output_type": "stream",
     "text": [
      "Processing Graph Files:  50%|████▉     | 343/691 [7:05:20<6:23:02, 66.04s/it]"
     ]
    },
    {
     "name": "stdout",
     "output_type": "stream",
     "text": [
      "Centralities for graph saved to monthly_centralities_csv_new/centralities_1971-12.csv\n"
     ]
    },
    {
     "name": "stderr",
     "output_type": "stream",
     "text": [
      "Processing Graph Files:  50%|████▉     | 344/691 [7:06:10<5:54:47, 61.35s/it]"
     ]
    },
    {
     "name": "stdout",
     "output_type": "stream",
     "text": [
      "Centralities for graph saved to monthly_centralities_csv_new/centralities_1971-06.csv\n"
     ]
    },
    {
     "name": "stderr",
     "output_type": "stream",
     "text": [
      "Processing Graph Files:  50%|████▉     | 345/691 [7:07:43<6:47:49, 70.72s/it]"
     ]
    },
    {
     "name": "stdout",
     "output_type": "stream",
     "text": [
      "Centralities for graph saved to monthly_centralities_csv_new/centralities_1957-02.csv\n"
     ]
    },
    {
     "name": "stderr",
     "output_type": "stream",
     "text": [
      "Processing Graph Files:  50%|█████     | 346/691 [7:09:20<7:31:55, 78.60s/it]"
     ]
    },
    {
     "name": "stdout",
     "output_type": "stream",
     "text": [
      "Centralities for graph saved to monthly_centralities_csv_new/centralities_1959-07.csv\n"
     ]
    },
    {
     "name": "stderr",
     "output_type": "stream",
     "text": [
      "Processing Graph Files:  50%|█████     | 347/691 [7:10:41<7:34:54, 79.34s/it]"
     ]
    },
    {
     "name": "stdout",
     "output_type": "stream",
     "text": [
      "Centralities for graph saved to monthly_centralities_csv_new/centralities_1987-09.csv\n"
     ]
    },
    {
     "name": "stderr",
     "output_type": "stream",
     "text": [
      "Processing Graph Files:  50%|█████     | 348/691 [7:12:06<7:44:20, 81.23s/it]"
     ]
    },
    {
     "name": "stdout",
     "output_type": "stream",
     "text": [
      "Centralities for graph saved to monthly_centralities_csv_new/centralities_1987-10.csv\n"
     ]
    },
    {
     "name": "stderr",
     "output_type": "stream",
     "text": [
      "Processing Graph Files:  51%|█████     | 349/691 [7:13:33<7:52:53, 82.96s/it]"
     ]
    },
    {
     "name": "stdout",
     "output_type": "stream",
     "text": [
      "Centralities for graph saved to monthly_centralities_csv_new/centralities_1987-04.csv\n"
     ]
    },
    {
     "name": "stderr",
     "output_type": "stream",
     "text": [
      "Processing Graph Files:  51%|█████     | 350/691 [7:14:49<7:39:43, 80.89s/it]"
     ]
    },
    {
     "name": "stdout",
     "output_type": "stream",
     "text": [
      "Centralities for graph saved to monthly_centralities_csv_new/centralities_1950-12.csv\n"
     ]
    },
    {
     "name": "stderr",
     "output_type": "stream",
     "text": [
      "Processing Graph Files:  51%|█████     | 351/691 [7:16:19<7:53:17, 83.52s/it]"
     ]
    },
    {
     "name": "stdout",
     "output_type": "stream",
     "text": [
      "Centralities for graph saved to monthly_centralities_csv_new/centralities_2003-02.csv\n"
     ]
    },
    {
     "name": "stderr",
     "output_type": "stream",
     "text": [
      "Processing Graph Files:  51%|█████     | 352/691 [7:17:44<7:53:49, 83.86s/it]"
     ]
    },
    {
     "name": "stdout",
     "output_type": "stream",
     "text": [
      "Centralities for graph saved to monthly_centralities_csv_new/centralities_1989-01.csv\n"
     ]
    },
    {
     "name": "stderr",
     "output_type": "stream",
     "text": [
      "Processing Graph Files:  51%|█████     | 353/691 [7:18:54<7:29:44, 79.84s/it]"
     ]
    },
    {
     "name": "stdout",
     "output_type": "stream",
     "text": [
      "Centralities for graph saved to monthly_centralities_csv_new/centralities_1950-06.csv\n"
     ]
    },
    {
     "name": "stderr",
     "output_type": "stream",
     "text": [
      "Processing Graph Files:  51%|█████     | 354/691 [7:20:00<7:04:52, 75.65s/it]"
     ]
    },
    {
     "name": "stdout",
     "output_type": "stream",
     "text": [
      "Centralities for graph saved to monthly_centralities_csv_new/centralities_1978-07.csv\n"
     ]
    },
    {
     "name": "stderr",
     "output_type": "stream",
     "text": [
      "Processing Graph Files:  51%|█████▏    | 355/691 [7:20:56<6:31:20, 69.88s/it]"
     ]
    },
    {
     "name": "stdout",
     "output_type": "stream",
     "text": [
      "Centralities for graph saved to monthly_centralities_csv_new/centralities_1976-02.csv\n"
     ]
    },
    {
     "name": "stderr",
     "output_type": "stream",
     "text": [
      "Processing Graph Files:  52%|█████▏    | 356/691 [7:22:34<7:16:08, 78.11s/it]"
     ]
    },
    {
     "name": "stdout",
     "output_type": "stream",
     "text": [
      "Centralities for graph saved to monthly_centralities_csv_new/centralities_1997-01.csv\n"
     ]
    },
    {
     "name": "stderr",
     "output_type": "stream",
     "text": [
      "Processing Graph Files:  52%|█████▏    | 357/691 [7:23:54<7:17:44, 78.64s/it]"
     ]
    },
    {
     "name": "stdout",
     "output_type": "stream",
     "text": [
      "Centralities for graph saved to monthly_centralities_csv_new/centralities_1990-08.csv\n"
     ]
    },
    {
     "name": "stderr",
     "output_type": "stream",
     "text": [
      "Processing Graph Files:  52%|█████▏    | 358/691 [7:25:18<7:25:36, 80.29s/it]"
     ]
    },
    {
     "name": "stdout",
     "output_type": "stream",
     "text": [
      "Centralities for graph saved to monthly_centralities_csv_new/centralities_1999-10.csv\n"
     ]
    },
    {
     "name": "stderr",
     "output_type": "stream",
     "text": [
      "Processing Graph Files:  52%|█████▏    | 359/691 [7:26:56<7:54:01, 85.67s/it]"
     ]
    },
    {
     "name": "stdout",
     "output_type": "stream",
     "text": [
      "Centralities for graph saved to monthly_centralities_csv_new/centralities_1999-04.csv\n"
     ]
    },
    {
     "name": "stderr",
     "output_type": "stream",
     "text": [
      "Processing Graph Files:  52%|█████▏    | 360/691 [7:27:34<6:33:12, 71.28s/it]"
     ]
    },
    {
     "name": "stdout",
     "output_type": "stream",
     "text": [
      "Centralities for graph saved to monthly_centralities_csv_new/centralities_1968-02.csv\n"
     ]
    },
    {
     "name": "stderr",
     "output_type": "stream",
     "text": [
      "Processing Graph Files:  52%|█████▏    | 361/691 [7:28:27<6:01:41, 65.76s/it]"
     ]
    },
    {
     "name": "stdout",
     "output_type": "stream",
     "text": [
      "Centralities for graph saved to monthly_centralities_csv_new/centralities_1966-07.csv\n"
     ]
    },
    {
     "name": "stderr",
     "output_type": "stream",
     "text": [
      "Processing Graph Files:  52%|█████▏    | 362/691 [7:30:08<6:58:44, 76.37s/it]"
     ]
    },
    {
     "name": "stdout",
     "output_type": "stream",
     "text": [
      "Centralities for graph saved to monthly_centralities_csv_new/centralities_1995-04.csv\n"
     ]
    },
    {
     "name": "stderr",
     "output_type": "stream",
     "text": [
      "Processing Graph Files:  53%|█████▎    | 363/691 [7:31:39<7:21:42, 80.80s/it]"
     ]
    },
    {
     "name": "stdout",
     "output_type": "stream",
     "text": [
      "Centralities for graph saved to monthly_centralities_csv_new/centralities_1995-10.csv\n"
     ]
    },
    {
     "name": "stderr",
     "output_type": "stream",
     "text": [
      "Processing Graph Files:  53%|█████▎    | 364/691 [7:32:46<6:57:27, 76.60s/it]"
     ]
    },
    {
     "name": "stdout",
     "output_type": "stream",
     "text": [
      "Centralities for graph saved to monthly_centralities_csv_new/centralities_1964-02.csv\n"
     ]
    },
    {
     "name": "stderr",
     "output_type": "stream",
     "text": [
      "Processing Graph Files:  53%|█████▎    | 365/691 [7:34:08<7:04:56, 78.21s/it]"
     ]
    },
    {
     "name": "stdout",
     "output_type": "stream",
     "text": [
      "Centralities for graph saved to monthly_centralities_csv_new/centralities_1982-08.csv\n"
     ]
    },
    {
     "name": "stderr",
     "output_type": "stream",
     "text": [
      "Processing Graph Files:  53%|█████▎    | 366/691 [7:35:35<7:18:39, 80.98s/it]"
     ]
    },
    {
     "name": "stdout",
     "output_type": "stream",
     "text": [
      "Centralities for graph saved to monthly_centralities_csv_new/centralities_1985-01.csv\n"
     ]
    },
    {
     "name": "stderr",
     "output_type": "stream",
     "text": [
      "Processing Graph Files:  53%|█████▎    | 367/691 [7:37:13<7:45:22, 86.18s/it]"
     ]
    },
    {
     "name": "stdout",
     "output_type": "stream",
     "text": [
      "Centralities for graph saved to monthly_centralities_csv_new/centralities_2001-07.csv\n"
     ]
    },
    {
     "name": "stderr",
     "output_type": "stream",
     "text": [
      "Processing Graph Files:  53%|█████▎    | 368/691 [7:38:18<7:08:18, 79.56s/it]"
     ]
    },
    {
     "name": "stdout",
     "output_type": "stream",
     "text": [
      "Centralities for graph saved to monthly_centralities_csv_new/centralities_1952-03.csv\n"
     ]
    },
    {
     "name": "stderr",
     "output_type": "stream",
     "text": [
      "Processing Graph Files:  53%|█████▎    | 369/691 [7:39:15<6:31:56, 73.03s/it]"
     ]
    },
    {
     "name": "stdout",
     "output_type": "stream",
     "text": [
      "Centralities for graph saved to monthly_centralities_csv_new/centralities_1974-07.csv\n"
     ]
    },
    {
     "name": "stderr",
     "output_type": "stream",
     "text": [
      "Processing Graph Files:  54%|█████▎    | 370/691 [7:40:13<6:05:26, 68.31s/it]"
     ]
    },
    {
     "name": "stdout",
     "output_type": "stream",
     "text": [
      "Centralities for graph saved to monthly_centralities_csv_new/centralities_1974-06.csv\n"
     ]
    },
    {
     "name": "stderr",
     "output_type": "stream",
     "text": [
      "Processing Graph Files:  54%|█████▎    | 371/691 [7:41:12<5:50:18, 65.68s/it]"
     ]
    },
    {
     "name": "stdout",
     "output_type": "stream",
     "text": [
      "Centralities for graph saved to monthly_centralities_csv_new/centralities_1974-12.csv\n"
     ]
    },
    {
     "name": "stderr",
     "output_type": "stream",
     "text": [
      "Processing Graph Files:  54%|█████▍    | 372/691 [7:42:09<5:35:44, 63.15s/it]"
     ]
    },
    {
     "name": "stdout",
     "output_type": "stream",
     "text": [
      "Centralities for graph saved to monthly_centralities_csv_new/centralities_1952-02.csv\n"
     ]
    },
    {
     "name": "stderr",
     "output_type": "stream",
     "text": [
      "Processing Graph Files:  54%|█████▍    | 373/691 [7:43:47<6:28:46, 73.35s/it]"
     ]
    },
    {
     "name": "stdout",
     "output_type": "stream",
     "text": [
      "Centralities for graph saved to monthly_centralities_csv_new/centralities_2001-12.csv\n"
     ]
    },
    {
     "name": "stderr",
     "output_type": "stream",
     "text": [
      "Processing Graph Files:  54%|█████▍    | 374/691 [7:45:24<7:05:39, 80.57s/it]"
     ]
    },
    {
     "name": "stdout",
     "output_type": "stream",
     "text": [
      "Centralities for graph saved to monthly_centralities_csv_new/centralities_2001-06.csv\n"
     ]
    },
    {
     "name": "stderr",
     "output_type": "stream",
     "text": [
      "Processing Graph Files:  54%|█████▍    | 375/691 [7:46:41<6:58:50, 79.53s/it]"
     ]
    },
    {
     "name": "stdout",
     "output_type": "stream",
     "text": [
      "Centralities for graph saved to monthly_centralities_csv_new/centralities_1982-09.csv\n"
     ]
    },
    {
     "name": "stderr",
     "output_type": "stream",
     "text": [
      "Processing Graph Files:  54%|█████▍    | 376/691 [7:48:00<6:56:43, 79.38s/it]"
     ]
    },
    {
     "name": "stdout",
     "output_type": "stream",
     "text": [
      "Centralities for graph saved to monthly_centralities_csv_new/centralities_1964-03.csv\n"
     ]
    },
    {
     "name": "stderr",
     "output_type": "stream",
     "text": [
      "Processing Graph Files:  55%|█████▍    | 377/691 [7:49:33<7:17:23, 83.58s/it]"
     ]
    },
    {
     "name": "stdout",
     "output_type": "stream",
     "text": [
      "Centralities for graph saved to monthly_centralities_csv_new/centralities_1995-11.csv\n"
     ]
    },
    {
     "name": "stderr",
     "output_type": "stream",
     "text": [
      "Processing Graph Files:  55%|█████▍    | 378/691 [7:51:05<7:28:05, 85.90s/it]"
     ]
    },
    {
     "name": "stdout",
     "output_type": "stream",
     "text": [
      "Centralities for graph saved to monthly_centralities_csv_new/centralities_1995-05.csv\n"
     ]
    },
    {
     "name": "stderr",
     "output_type": "stream",
     "text": [
      "Processing Graph Files:  55%|█████▍    | 379/691 [7:51:50<6:22:41, 73.60s/it]"
     ]
    },
    {
     "name": "stdout",
     "output_type": "stream",
     "text": [
      "Centralities for graph saved to monthly_centralities_csv_new/centralities_1966-12.csv\n"
     ]
    },
    {
     "name": "stderr",
     "output_type": "stream",
     "text": [
      "Processing Graph Files:  55%|█████▍    | 380/691 [7:52:51<6:02:41, 69.97s/it]"
     ]
    },
    {
     "name": "stdout",
     "output_type": "stream",
     "text": [
      "Centralities for graph saved to monthly_centralities_csv_new/centralities_1966-06.csv\n"
     ]
    },
    {
     "name": "stderr",
     "output_type": "stream",
     "text": [
      "Processing Graph Files:  55%|█████▌    | 381/691 [7:53:33<5:18:00, 61.55s/it]"
     ]
    },
    {
     "name": "stdout",
     "output_type": "stream",
     "text": [
      "Centralities for graph saved to monthly_centralities_csv_new/centralities_1968-03.csv\n"
     ]
    },
    {
     "name": "stderr",
     "output_type": "stream",
     "text": [
      "Processing Graph Files:  55%|█████▌    | 382/691 [7:55:07<6:06:59, 71.26s/it]"
     ]
    },
    {
     "name": "stdout",
     "output_type": "stream",
     "text": [
      "Centralities for graph saved to monthly_centralities_csv_new/centralities_1999-05.csv\n"
     ]
    },
    {
     "name": "stderr",
     "output_type": "stream",
     "text": [
      "Processing Graph Files:  55%|█████▌    | 383/691 [7:56:46<6:48:35, 79.59s/it]"
     ]
    },
    {
     "name": "stdout",
     "output_type": "stream",
     "text": [
      "Centralities for graph saved to monthly_centralities_csv_new/centralities_1999-11.csv\n"
     ]
    },
    {
     "name": "stderr",
     "output_type": "stream",
     "text": [
      "Processing Graph Files:  56%|█████▌    | 384/691 [7:57:58<6:36:13, 77.44s/it]"
     ]
    },
    {
     "name": "stdout",
     "output_type": "stream",
     "text": [
      "Centralities for graph saved to monthly_centralities_csv_new/centralities_1990-09.csv\n"
     ]
    },
    {
     "name": "stderr",
     "output_type": "stream",
     "text": [
      "Processing Graph Files:  56%|█████▌    | 385/691 [7:58:52<5:58:17, 70.25s/it]"
     ]
    },
    {
     "name": "stdout",
     "output_type": "stream",
     "text": [
      "Centralities for graph saved to monthly_centralities_csv_new/centralities_1976-03.csv\n"
     ]
    },
    {
     "name": "stderr",
     "output_type": "stream",
     "text": [
      "Processing Graph Files:  56%|█████▌    | 386/691 [7:59:59<5:52:10, 69.28s/it]"
     ]
    },
    {
     "name": "stdout",
     "output_type": "stream",
     "text": [
      "Centralities for graph saved to monthly_centralities_csv_new/centralities_1978-12.csv\n"
     ]
    },
    {
     "name": "stderr",
     "output_type": "stream",
     "text": [
      "Processing Graph Files:  56%|█████▌    | 387/691 [8:01:01<5:40:40, 67.24s/it]"
     ]
    },
    {
     "name": "stdout",
     "output_type": "stream",
     "text": [
      "Centralities for graph saved to monthly_centralities_csv_new/centralities_1978-06.csv\n"
     ]
    },
    {
     "name": "stderr",
     "output_type": "stream",
     "text": [
      "Processing Graph Files:  56%|█████▌    | 388/691 [8:02:18<5:53:37, 70.02s/it]"
     ]
    },
    {
     "name": "stdout",
     "output_type": "stream",
     "text": [
      "Centralities for graph saved to monthly_centralities_csv_new/centralities_1950-07.csv\n"
     ]
    },
    {
     "name": "stderr",
     "output_type": "stream",
     "text": [
      "Processing Graph Files:  56%|█████▋    | 389/691 [8:03:55<6:33:25, 78.16s/it]"
     ]
    },
    {
     "name": "stdout",
     "output_type": "stream",
     "text": [
      "Centralities for graph saved to monthly_centralities_csv_new/centralities_2003-03.csv\n"
     ]
    },
    {
     "name": "stderr",
     "output_type": "stream",
     "text": [
      "Processing Graph Files:  56%|█████▋    | 390/691 [8:05:21<6:44:16, 80.58s/it]"
     ]
    },
    {
     "name": "stdout",
     "output_type": "stream",
     "text": [
      "Centralities for graph saved to monthly_centralities_csv_new/centralities_1987-05.csv\n"
     ]
    },
    {
     "name": "stderr",
     "output_type": "stream",
     "text": [
      "Processing Graph Files:  57%|█████▋    | 391/691 [8:06:46<6:48:29, 81.70s/it]"
     ]
    },
    {
     "name": "stdout",
     "output_type": "stream",
     "text": [
      "Centralities for graph saved to monthly_centralities_csv_new/centralities_1987-11.csv\n"
     ]
    },
    {
     "name": "stderr",
     "output_type": "stream",
     "text": [
      "Processing Graph Files:  57%|█████▋    | 392/691 [8:08:16<6:59:45, 84.23s/it]"
     ]
    },
    {
     "name": "stdout",
     "output_type": "stream",
     "text": [
      "Centralities for graph saved to monthly_centralities_csv_new/centralities_1987-07.csv\n"
     ]
    },
    {
     "name": "stderr",
     "output_type": "stream",
     "text": [
      "Processing Graph Files:  57%|█████▋    | 393/691 [8:10:07<7:39:10, 92.45s/it]"
     ]
    },
    {
     "name": "stdout",
     "output_type": "stream",
     "text": [
      "Centralities for graph saved to monthly_centralities_csv_new/centralities_1959-09.csv\n"
     ]
    },
    {
     "name": "stderr",
     "output_type": "stream",
     "text": [
      "Processing Graph Files:  57%|█████▋    | 394/691 [8:11:18<7:05:24, 85.94s/it]"
     ]
    },
    {
     "name": "stdout",
     "output_type": "stream",
     "text": [
      "Centralities for graph saved to monthly_centralities_csv_new/centralities_1950-05.csv\n"
     ]
    },
    {
     "name": "stderr",
     "output_type": "stream",
     "text": [
      "Processing Graph Files:  57%|█████▋    | 395/691 [8:13:04<7:33:18, 91.89s/it]"
     ]
    },
    {
     "name": "stdout",
     "output_type": "stream",
     "text": [
      "Centralities for graph saved to monthly_centralities_csv_new/centralities_2003-01.csv\n"
     ]
    },
    {
     "name": "stderr",
     "output_type": "stream",
     "text": [
      "Processing Graph Files:  57%|█████▋    | 396/691 [8:14:19<7:06:27, 86.74s/it]"
     ]
    },
    {
     "name": "stdout",
     "output_type": "stream",
     "text": [
      "Centralities for graph saved to monthly_centralities_csv_new/centralities_1950-11.csv\n"
     ]
    },
    {
     "name": "stderr",
     "output_type": "stream",
     "text": [
      "Processing Graph Files:  57%|█████▋    | 397/691 [8:15:33<6:46:20, 82.93s/it]"
     ]
    },
    {
     "name": "stdout",
     "output_type": "stream",
     "text": [
      "Centralities for graph saved to monthly_centralities_csv_new/centralities_1989-02.csv\n"
     ]
    },
    {
     "name": "stderr",
     "output_type": "stream",
     "text": [
      "Processing Graph Files:  58%|█████▊    | 398/691 [8:16:36<6:16:35, 77.12s/it]"
     ]
    },
    {
     "name": "stdout",
     "output_type": "stream",
     "text": [
      "Centralities for graph saved to monthly_centralities_csv_new/centralities_1978-10.csv\n"
     ]
    },
    {
     "name": "stderr",
     "output_type": "stream",
     "text": [
      "Processing Graph Files:  58%|█████▊    | 399/691 [8:17:38<5:53:09, 72.57s/it]"
     ]
    },
    {
     "name": "stdout",
     "output_type": "stream",
     "text": [
      "Centralities for graph saved to monthly_centralities_csv_new/centralities_1978-04.csv\n"
     ]
    },
    {
     "name": "stderr",
     "output_type": "stream",
     "text": [
      "Processing Graph Files:  58%|█████▊    | 400/691 [8:18:33<5:25:53, 67.19s/it]"
     ]
    },
    {
     "name": "stdout",
     "output_type": "stream",
     "text": [
      "Centralities for graph saved to monthly_centralities_csv_new/centralities_1976-01.csv\n"
     ]
    },
    {
     "name": "stderr",
     "output_type": "stream",
     "text": [
      "Processing Graph Files:  58%|█████▊    | 401/691 [8:19:27<5:05:35, 63.22s/it]"
     ]
    },
    {
     "name": "stdout",
     "output_type": "stream",
     "text": [
      "Centralities for graph saved to monthly_centralities_csv_new/centralities_1971-08.csv\n"
     ]
    },
    {
     "name": "stderr",
     "output_type": "stream",
     "text": [
      "Processing Graph Files:  58%|█████▊    | 402/691 [8:20:48<5:29:51, 68.48s/it]"
     ]
    },
    {
     "name": "stdout",
     "output_type": "stream",
     "text": [
      "Centralities for graph saved to monthly_centralities_csv_new/centralities_1997-02.csv\n"
     ]
    },
    {
     "name": "stderr",
     "output_type": "stream",
     "text": [
      "Processing Graph Files:  58%|█████▊    | 403/691 [8:22:25<6:10:44, 77.24s/it]"
     ]
    },
    {
     "name": "stdout",
     "output_type": "stream",
     "text": [
      "Centralities for graph saved to monthly_centralities_csv_new/centralities_1999-07.csv\n"
     ]
    },
    {
     "name": "stderr",
     "output_type": "stream",
     "text": [
      "Processing Graph Files:  58%|█████▊    | 404/691 [8:22:52<4:57:28, 62.19s/it]"
     ]
    },
    {
     "name": "stdout",
     "output_type": "stream",
     "text": [
      "Centralities for graph saved to monthly_centralities_csv_new/centralities_1947-09.csv\n"
     ]
    },
    {
     "name": "stderr",
     "output_type": "stream",
     "text": [
      "Processing Graph Files:  59%|█████▊    | 405/691 [8:23:32<4:23:59, 55.38s/it]"
     ]
    },
    {
     "name": "stdout",
     "output_type": "stream",
     "text": [
      "Centralities for graph saved to monthly_centralities_csv_new/centralities_1968-01.csv\n"
     ]
    },
    {
     "name": "stderr",
     "output_type": "stream",
     "text": [
      "Processing Graph Files:  59%|█████▉    | 406/691 [8:24:13<4:03:23, 51.24s/it]"
     ]
    },
    {
     "name": "stdout",
     "output_type": "stream",
     "text": [
      "Centralities for graph saved to monthly_centralities_csv_new/centralities_1966-10.csv\n"
     ]
    },
    {
     "name": "stderr",
     "output_type": "stream",
     "text": [
      "Processing Graph Files:  59%|█████▉    | 407/691 [8:25:21<4:25:06, 56.01s/it]"
     ]
    },
    {
     "name": "stdout",
     "output_type": "stream",
     "text": [
      "Centralities for graph saved to monthly_centralities_csv_new/centralities_1966-04.csv\n"
     ]
    },
    {
     "name": "stderr",
     "output_type": "stream",
     "text": [
      "Processing Graph Files:  59%|█████▉    | 408/691 [8:26:56<5:20:04, 67.86s/it]"
     ]
    },
    {
     "name": "stdout",
     "output_type": "stream",
     "text": [
      "Centralities for graph saved to monthly_centralities_csv_new/centralities_1995-07.csv\n"
     ]
    },
    {
     "name": "stderr",
     "output_type": "stream",
     "text": [
      "Processing Graph Files:  59%|█████▉    | 409/691 [8:27:42<4:47:34, 61.18s/it]"
     ]
    },
    {
     "name": "stdout",
     "output_type": "stream",
     "text": [
      "Centralities for graph saved to monthly_centralities_csv_new/centralities_1963-08.csv\n"
     ]
    },
    {
     "name": "stderr",
     "output_type": "stream",
     "text": [
      "Processing Graph Files:  59%|█████▉    | 410/691 [8:28:47<4:51:45, 62.30s/it]"
     ]
    },
    {
     "name": "stdout",
     "output_type": "stream",
     "text": [
      "Centralities for graph saved to monthly_centralities_csv_new/centralities_1964-01.csv\n"
     ]
    },
    {
     "name": "stderr",
     "output_type": "stream",
     "text": [
      "Processing Graph Files:  59%|█████▉    | 411/691 [8:30:02<5:08:49, 66.18s/it]"
     ]
    },
    {
     "name": "stdout",
     "output_type": "stream",
     "text": [
      "Centralities for graph saved to monthly_centralities_csv_new/centralities_1985-02.csv\n"
     ]
    },
    {
     "name": "stderr",
     "output_type": "stream",
     "text": [
      "Processing Graph Files:  60%|█████▉    | 412/691 [8:31:29<5:36:46, 72.43s/it]"
     ]
    },
    {
     "name": "stdout",
     "output_type": "stream",
     "text": [
      "Centralities for graph saved to monthly_centralities_csv_new/centralities_2001-10.csv\n"
     ]
    },
    {
     "name": "stderr",
     "output_type": "stream",
     "text": [
      "Processing Graph Files:  60%|█████▉    | 413/691 [8:32:43<5:38:13, 73.00s/it]"
     ]
    },
    {
     "name": "stdout",
     "output_type": "stream",
     "text": [
      "Centralities for graph saved to monthly_centralities_csv_new/centralities_1955-09.csv\n"
     ]
    },
    {
     "name": "stderr",
     "output_type": "stream",
     "text": [
      "Processing Graph Files:  60%|█████▉    | 414/691 [8:34:17<6:05:47, 79.23s/it]"
     ]
    },
    {
     "name": "stdout",
     "output_type": "stream",
     "text": [
      "Centralities for graph saved to monthly_centralities_csv_new/centralities_2001-04.csv\n"
     ]
    },
    {
     "name": "stderr",
     "output_type": "stream",
     "text": [
      "Processing Graph Files:  60%|██████    | 415/691 [8:35:10<5:28:43, 71.46s/it]"
     ]
    },
    {
     "name": "stdout",
     "output_type": "stream",
     "text": [
      "Centralities for graph saved to monthly_centralities_csv_new/centralities_1974-04.csv\n"
     ]
    },
    {
     "name": "stderr",
     "output_type": "stream",
     "text": [
      "Processing Graph Files:  60%|██████    | 416/691 [8:36:07<5:06:45, 66.93s/it]"
     ]
    },
    {
     "name": "stdout",
     "output_type": "stream",
     "text": [
      "Centralities for graph saved to monthly_centralities_csv_new/centralities_1974-10.csv\n"
     ]
    },
    {
     "name": "stderr",
     "output_type": "stream",
     "text": [
      "Processing Graph Files:  60%|██████    | 417/691 [8:37:05<4:54:10, 64.42s/it]"
     ]
    },
    {
     "name": "stdout",
     "output_type": "stream",
     "text": [
      "Centralities for graph saved to monthly_centralities_csv_new/centralities_1974-11.csv\n"
     ]
    },
    {
     "name": "stderr",
     "output_type": "stream",
     "text": [
      "Processing Graph Files:  60%|██████    | 418/691 [8:38:00<4:40:21, 61.62s/it]"
     ]
    },
    {
     "name": "stdout",
     "output_type": "stream",
     "text": [
      "Centralities for graph saved to monthly_centralities_csv_new/centralities_1974-05.csv\n"
     ]
    },
    {
     "name": "stderr",
     "output_type": "stream",
     "text": [
      "Processing Graph Files:  61%|██████    | 419/691 [8:39:33<5:22:14, 71.08s/it]"
     ]
    },
    {
     "name": "stdout",
     "output_type": "stream",
     "text": [
      "Centralities for graph saved to monthly_centralities_csv_new/centralities_2001-05.csv\n"
     ]
    },
    {
     "name": "stderr",
     "output_type": "stream",
     "text": [
      "Processing Graph Files:  61%|██████    | 420/691 [8:41:08<5:52:37, 78.07s/it]"
     ]
    },
    {
     "name": "stdout",
     "output_type": "stream",
     "text": [
      "Centralities for graph saved to monthly_centralities_csv_new/centralities_2001-11.csv\n"
     ]
    },
    {
     "name": "stderr",
     "output_type": "stream",
     "text": [
      "Processing Graph Files:  61%|██████    | 421/691 [8:42:06<5:24:34, 72.13s/it]"
     ]
    },
    {
     "name": "stdout",
     "output_type": "stream",
     "text": [
      "Centralities for graph saved to monthly_centralities_csv_new/centralities_1952-01.csv\n"
     ]
    },
    {
     "name": "stderr",
     "output_type": "stream",
     "text": [
      "Processing Graph Files:  61%|██████    | 422/691 [8:43:22<5:28:46, 73.33s/it]"
     ]
    },
    {
     "name": "stdout",
     "output_type": "stream",
     "text": [
      "Centralities for graph saved to monthly_centralities_csv_new/centralities_1955-08.csv\n"
     ]
    },
    {
     "name": "stderr",
     "output_type": "stream",
     "text": [
      "Processing Graph Files:  61%|██████    | 423/691 [8:44:50<5:46:26, 77.56s/it]"
     ]
    },
    {
     "name": "stdout",
     "output_type": "stream",
     "text": [
      "Centralities for graph saved to monthly_centralities_csv_new/centralities_1985-03.csv\n"
     ]
    },
    {
     "name": "stderr",
     "output_type": "stream",
     "text": [
      "Processing Graph Files:  61%|██████▏   | 424/691 [8:46:02<5:38:18, 76.02s/it]"
     ]
    },
    {
     "name": "stdout",
     "output_type": "stream",
     "text": [
      "Centralities for graph saved to monthly_centralities_csv_new/centralities_1963-09.csv\n"
     ]
    },
    {
     "name": "stderr",
     "output_type": "stream",
     "text": [
      "Processing Graph Files:  62%|██████▏   | 425/691 [8:47:38<6:03:26, 81.98s/it]"
     ]
    },
    {
     "name": "stdout",
     "output_type": "stream",
     "text": [
      "Centralities for graph saved to monthly_centralities_csv_new/centralities_1995-06.csv\n"
     ]
    },
    {
     "name": "stderr",
     "output_type": "stream",
     "text": [
      "Processing Graph Files:  62%|██████▏   | 426/691 [8:49:13<6:19:54, 86.02s/it]"
     ]
    },
    {
     "name": "stdout",
     "output_type": "stream",
     "text": [
      "Centralities for graph saved to monthly_centralities_csv_new/centralities_1995-12.csv\n"
     ]
    },
    {
     "name": "stderr",
     "output_type": "stream",
     "text": [
      "Processing Graph Files:  62%|██████▏   | 427/691 [8:50:14<5:44:35, 78.31s/it]"
     ]
    },
    {
     "name": "stdout",
     "output_type": "stream",
     "text": [
      "Centralities for graph saved to monthly_centralities_csv_new/centralities_1966-05.csv\n"
     ]
    },
    {
     "name": "stderr",
     "output_type": "stream",
     "text": [
      "Processing Graph Files:  62%|██████▏   | 428/691 [8:50:54<4:53:48, 67.03s/it]"
     ]
    },
    {
     "name": "stdout",
     "output_type": "stream",
     "text": [
      "Centralities for graph saved to monthly_centralities_csv_new/centralities_1966-11.csv\n"
     ]
    },
    {
     "name": "stderr",
     "output_type": "stream",
     "text": [
      "Processing Graph Files:  62%|██████▏   | 429/691 [8:51:21<3:59:26, 54.83s/it]"
     ]
    },
    {
     "name": "stdout",
     "output_type": "stream",
     "text": [
      "Centralities for graph saved to monthly_centralities_csv_new/centralities_1947-08.csv\n"
     ]
    },
    {
     "name": "stderr",
     "output_type": "stream",
     "text": [
      "Processing Graph Files:  62%|██████▏   | 430/691 [8:52:57<4:52:10, 67.17s/it]"
     ]
    },
    {
     "name": "stdout",
     "output_type": "stream",
     "text": [
      "Centralities for graph saved to monthly_centralities_csv_new/centralities_1999-12.csv\n"
     ]
    },
    {
     "name": "stderr",
     "output_type": "stream",
     "text": [
      "Processing Graph Files:  62%|██████▏   | 431/691 [8:54:35<5:32:04, 76.63s/it]"
     ]
    },
    {
     "name": "stdout",
     "output_type": "stream",
     "text": [
      "Centralities for graph saved to monthly_centralities_csv_new/centralities_1999-06.csv\n"
     ]
    },
    {
     "name": "stderr",
     "output_type": "stream",
     "text": [
      "Processing Graph Files:  63%|██████▎   | 432/691 [8:56:14<5:59:26, 83.27s/it]"
     ]
    },
    {
     "name": "stdout",
     "output_type": "stream",
     "text": [
      "Centralities for graph saved to monthly_centralities_csv_new/centralities_1997-03.csv\n"
     ]
    },
    {
     "name": "stderr",
     "output_type": "stream",
     "text": [
      "Processing Graph Files:  63%|██████▎   | 433/691 [8:57:07<5:19:02, 74.20s/it]"
     ]
    },
    {
     "name": "stdout",
     "output_type": "stream",
     "text": [
      "Centralities for graph saved to monthly_centralities_csv_new/centralities_1971-09.csv\n"
     ]
    },
    {
     "name": "stderr",
     "output_type": "stream",
     "text": [
      "Processing Graph Files:  63%|██████▎   | 434/691 [8:58:09<5:01:44, 70.45s/it]"
     ]
    },
    {
     "name": "stdout",
     "output_type": "stream",
     "text": [
      "Centralities for graph saved to monthly_centralities_csv_new/centralities_1978-05.csv\n"
     ]
    },
    {
     "name": "stderr",
     "output_type": "stream",
     "text": [
      "Processing Graph Files:  63%|██████▎   | 435/691 [8:59:12<4:51:12, 68.25s/it]"
     ]
    },
    {
     "name": "stdout",
     "output_type": "stream",
     "text": [
      "Centralities for graph saved to monthly_centralities_csv_new/centralities_1978-11.csv\n"
     ]
    },
    {
     "name": "stderr",
     "output_type": "stream",
     "text": [
      "Processing Graph Files:  63%|██████▎   | 436/691 [9:00:33<5:06:24, 72.10s/it]"
     ]
    },
    {
     "name": "stdout",
     "output_type": "stream",
     "text": [
      "Centralities for graph saved to monthly_centralities_csv_new/centralities_1989-03.csv\n"
     ]
    },
    {
     "name": "stderr",
     "output_type": "stream",
     "text": [
      "Processing Graph Files:  63%|██████▎   | 437/691 [9:01:59<5:23:06, 76.32s/it]"
     ]
    },
    {
     "name": "stdout",
     "output_type": "stream",
     "text": [
      "Centralities for graph saved to monthly_centralities_csv_new/centralities_1950-10.csv\n"
     ]
    },
    {
     "name": "stderr",
     "output_type": "stream",
     "text": [
      "Processing Graph Files:  63%|██████▎   | 438/691 [9:03:12<5:16:55, 75.16s/it]"
     ]
    },
    {
     "name": "stdout",
     "output_type": "stream",
     "text": [
      "Centralities for graph saved to monthly_centralities_csv_new/centralities_1950-04.csv\n"
     ]
    },
    {
     "name": "stderr",
     "output_type": "stream",
     "text": [
      "Processing Graph Files:  64%|██████▎   | 439/691 [9:04:40<5:32:18, 79.12s/it]"
     ]
    },
    {
     "name": "stdout",
     "output_type": "stream",
     "text": [
      "Centralities for graph saved to monthly_centralities_csv_new/centralities_1987-12.csv\n"
     ]
    },
    {
     "name": "stderr",
     "output_type": "stream",
     "text": [
      "Processing Graph Files:  64%|██████▎   | 440/691 [9:05:40<5:06:48, 73.34s/it]"
     ]
    },
    {
     "name": "stdout",
     "output_type": "stream",
     "text": [
      "Centralities for graph saved to monthly_centralities_csv_new/centralities_1959-08.csv\n"
     ]
    },
    {
     "name": "stderr",
     "output_type": "stream",
     "text": [
      "Processing Graph Files:  64%|██████▍   | 441/691 [9:07:01<5:15:27, 75.71s/it]"
     ]
    },
    {
     "name": "stdout",
     "output_type": "stream",
     "text": [
      "Centralities for graph saved to monthly_centralities_csv_new/centralities_1987-06.csv\n"
     ]
    },
    {
     "name": "stderr",
     "output_type": "stream",
     "text": [
      "Processing Graph Files:  64%|██████▍   | 442/691 [9:08:41<5:44:19, 82.97s/it]"
     ]
    },
    {
     "name": "stdout",
     "output_type": "stream",
     "text": [
      "Centralities for graph saved to monthly_centralities_csv_new/centralities_2003-10.csv\n"
     ]
    },
    {
     "name": "stderr",
     "output_type": "stream",
     "text": [
      "Processing Graph Files:  64%|██████▍   | 443/691 [9:10:16<5:57:27, 86.48s/it]"
     ]
    },
    {
     "name": "stdout",
     "output_type": "stream",
     "text": [
      "Centralities for graph saved to monthly_centralities_csv_new/centralities_1957-09.csv\n"
     ]
    },
    {
     "name": "stderr",
     "output_type": "stream",
     "text": [
      "Processing Graph Files:  64%|██████▍   | 444/691 [9:12:05<6:24:37, 93.43s/it]"
     ]
    },
    {
     "name": "stdout",
     "output_type": "stream",
     "text": [
      "Centralities for graph saved to monthly_centralities_csv_new/centralities_2003-04.csv\n"
     ]
    },
    {
     "name": "stderr",
     "output_type": "stream",
     "text": [
      "Processing Graph Files:  64%|██████▍   | 445/691 [9:13:30<6:12:40, 90.90s/it]"
     ]
    },
    {
     "name": "stdout",
     "output_type": "stream",
     "text": [
      "Centralities for graph saved to monthly_centralities_csv_new/centralities_1989-07.csv\n"
     ]
    },
    {
     "name": "stderr",
     "output_type": "stream",
     "text": [
      "Processing Graph Files:  65%|██████▍   | 446/691 [9:14:52<5:59:30, 88.04s/it]"
     ]
    },
    {
     "name": "stdout",
     "output_type": "stream",
     "text": [
      "Centralities for graph saved to monthly_centralities_csv_new/centralities_1987-02.csv\n"
     ]
    },
    {
     "name": "stderr",
     "output_type": "stream",
     "text": [
      "Processing Graph Files:  65%|██████▍   | 447/691 [9:15:40<5:09:50, 76.19s/it]"
     ]
    },
    {
     "name": "stdout",
     "output_type": "stream",
     "text": [
      "Centralities for graph saved to monthly_centralities_csv_new/centralities_1976-04.csv\n"
     ]
    },
    {
     "name": "stderr",
     "output_type": "stream",
     "text": [
      "Processing Graph Files:  65%|██████▍   | 448/691 [9:16:28<4:33:40, 67.58s/it]"
     ]
    },
    {
     "name": "stdout",
     "output_type": "stream",
     "text": [
      "Centralities for graph saved to monthly_centralities_csv_new/centralities_1976-10.csv\n"
     ]
    },
    {
     "name": "stderr",
     "output_type": "stream",
     "text": [
      "Processing Graph Files:  65%|██████▍   | 449/691 [9:17:32<4:28:43, 66.63s/it]"
     ]
    },
    {
     "name": "stdout",
     "output_type": "stream",
     "text": [
      "Centralities for graph saved to monthly_centralities_csv_new/centralities_1978-01.csv\n"
     ]
    },
    {
     "name": "stderr",
     "output_type": "stream",
     "text": [
      "Processing Graph Files:  65%|██████▌   | 450/691 [9:18:51<4:41:51, 70.17s/it]"
     ]
    },
    {
     "name": "stdout",
     "output_type": "stream",
     "text": [
      "Centralities for graph saved to monthly_centralities_csv_new/centralities_1999-02.csv\n"
     ]
    },
    {
     "name": "stderr",
     "output_type": "stream",
     "text": [
      "Processing Graph Files:  65%|██████▌   | 451/691 [9:20:05<4:46:04, 71.52s/it]"
     ]
    },
    {
     "name": "stdout",
     "output_type": "stream",
     "text": [
      "Centralities for graph saved to monthly_centralities_csv_new/centralities_1949-09.csv\n"
     ]
    },
    {
     "name": "stderr",
     "output_type": "stream",
     "text": [
      "Processing Graph Files:  65%|██████▌   | 452/691 [9:21:47<5:20:46, 80.53s/it]"
     ]
    },
    {
     "name": "stdout",
     "output_type": "stream",
     "text": [
      "Centralities for graph saved to monthly_centralities_csv_new/centralities_1997-07.csv\n"
     ]
    },
    {
     "name": "stderr",
     "output_type": "stream",
     "text": [
      "Processing Graph Files:  66%|██████▌   | 453/691 [9:23:15<5:28:15, 82.75s/it]"
     ]
    },
    {
     "name": "stdout",
     "output_type": "stream",
     "text": [
      "Centralities for graph saved to monthly_centralities_csv_new/centralities_1961-08.csv\n"
     ]
    },
    {
     "name": "stderr",
     "output_type": "stream",
     "text": [
      "Processing Graph Files:  66%|██████▌   | 454/691 [9:24:18<5:03:59, 76.96s/it]"
     ]
    },
    {
     "name": "stdout",
     "output_type": "stream",
     "text": [
      "Centralities for graph saved to monthly_centralities_csv_new/centralities_1966-01.csv\n"
     ]
    },
    {
     "name": "stderr",
     "output_type": "stream",
     "text": [
      "Processing Graph Files:  66%|██████▌   | 455/691 [9:24:59<4:19:53, 66.07s/it]"
     ]
    },
    {
     "name": "stdout",
     "output_type": "stream",
     "text": [
      "Centralities for graph saved to monthly_centralities_csv_new/centralities_1968-04.csv\n"
     ]
    },
    {
     "name": "stderr",
     "output_type": "stream",
     "text": [
      "Processing Graph Files:  66%|██████▌   | 456/691 [9:25:44<3:54:34, 59.89s/it]"
     ]
    },
    {
     "name": "stdout",
     "output_type": "stream",
     "text": [
      "Centralities for graph saved to monthly_centralities_csv_new/centralities_1968-10.csv\n"
     ]
    },
    {
     "name": "stderr",
     "output_type": "stream",
     "text": [
      "Processing Graph Files:  66%|██████▌   | 457/691 [9:27:13<4:26:53, 68.43s/it]"
     ]
    },
    {
     "name": "stdout",
     "output_type": "stream",
     "text": [
      "Centralities for graph saved to monthly_centralities_csv_new/centralities_1995-02.csv\n"
     ]
    },
    {
     "name": "stderr",
     "output_type": "stream",
     "text": [
      "Processing Graph Files:  66%|██████▋   | 458/691 [9:28:24<4:28:51, 69.23s/it]"
     ]
    },
    {
     "name": "stdout",
     "output_type": "stream",
     "text": [
      "Centralities for graph saved to monthly_centralities_csv_new/centralities_1964-10.csv\n"
     ]
    },
    {
     "name": "stderr",
     "output_type": "stream",
     "text": [
      "Processing Graph Files:  66%|██████▋   | 459/691 [9:29:42<4:38:25, 72.01s/it]"
     ]
    },
    {
     "name": "stdout",
     "output_type": "stream",
     "text": [
      "Centralities for graph saved to monthly_centralities_csv_new/centralities_1964-04.csv\n"
     ]
    },
    {
     "name": "stderr",
     "output_type": "stream",
     "text": [
      "Processing Graph Files:  67%|██████▋   | 460/691 [9:30:47<4:28:57, 69.86s/it]"
     ]
    },
    {
     "name": "stdout",
     "output_type": "stream",
     "text": [
      "Centralities for graph saved to monthly_centralities_csv_new/centralities_1952-05.csv\n"
     ]
    },
    {
     "name": "stderr",
     "output_type": "stream",
     "text": [
      "Processing Graph Files:  67%|██████▋   | 461/691 [9:32:00<4:30:52, 70.66s/it]"
     ]
    },
    {
     "name": "stdout",
     "output_type": "stream",
     "text": [
      "Centralities for graph saved to monthly_centralities_csv_new/centralities_1952-11.csv\n"
     ]
    },
    {
     "name": "stderr",
     "output_type": "stream",
     "text": [
      "Processing Graph Files:  67%|██████▋   | 462/691 [9:33:21<4:41:24, 73.73s/it]"
     ]
    },
    {
     "name": "stdout",
     "output_type": "stream",
     "text": [
      "Centralities for graph saved to monthly_centralities_csv_new/centralities_2001-01.csv\n"
     ]
    },
    {
     "name": "stderr",
     "output_type": "stream",
     "text": [
      "Processing Graph Files:  67%|██████▋   | 463/691 [9:34:48<4:55:18, 77.71s/it]"
     ]
    },
    {
     "name": "stdout",
     "output_type": "stream",
     "text": [
      "Centralities for graph saved to monthly_centralities_csv_new/centralities_1985-07.csv\n"
     ]
    },
    {
     "name": "stderr",
     "output_type": "stream",
     "text": [
      "Processing Graph Files:  67%|██████▋   | 464/691 [9:35:46<4:31:33, 71.78s/it]"
     ]
    },
    {
     "name": "stdout",
     "output_type": "stream",
     "text": [
      "Centralities for graph saved to monthly_centralities_csv_new/centralities_1974-01.csv\n"
     ]
    },
    {
     "name": "stderr",
     "output_type": "stream",
     "text": [
      "Processing Graph Files:  67%|██████▋   | 465/691 [9:36:44<4:15:00, 67.70s/it]"
     ]
    },
    {
     "name": "stdout",
     "output_type": "stream",
     "text": [
      "Centralities for graph saved to monthly_centralities_csv_new/centralities_1973-08.csv\n"
     ]
    },
    {
     "name": "stderr",
     "output_type": "stream",
     "text": [
      "Processing Graph Files:  67%|██████▋   | 466/691 [9:37:40<4:00:34, 64.15s/it]"
     ]
    },
    {
     "name": "stdout",
     "output_type": "stream",
     "text": [
      "Centralities for graph saved to monthly_centralities_csv_new/centralities_1973-09.csv\n"
     ]
    },
    {
     "name": "stderr",
     "output_type": "stream",
     "text": [
      "Processing Graph Files:  68%|██████▊   | 467/691 [9:39:09<4:27:16, 71.59s/it]"
     ]
    },
    {
     "name": "stdout",
     "output_type": "stream",
     "text": [
      "Centralities for graph saved to monthly_centralities_csv_new/centralities_1985-12.csv\n"
     ]
    },
    {
     "name": "stderr",
     "output_type": "stream",
     "text": [
      "Processing Graph Files:  68%|██████▊   | 468/691 [9:40:35<4:42:23, 75.98s/it]"
     ]
    },
    {
     "name": "stdout",
     "output_type": "stream",
     "text": [
      "Centralities for graph saved to monthly_centralities_csv_new/centralities_1985-06.csv\n"
     ]
    },
    {
     "name": "stderr",
     "output_type": "stream",
     "text": [
      "Processing Graph Files:  68%|██████▊   | 469/691 [9:41:50<4:39:48, 75.62s/it]"
     ]
    },
    {
     "name": "stdout",
     "output_type": "stream",
     "text": [
      "Centralities for graph saved to monthly_centralities_csv_new/centralities_1952-10.csv\n"
     ]
    },
    {
     "name": "stderr",
     "output_type": "stream",
     "text": [
      "Processing Graph Files:  68%|██████▊   | 470/691 [9:42:56<4:28:38, 72.94s/it]"
     ]
    },
    {
     "name": "stdout",
     "output_type": "stream",
     "text": [
      "Centralities for graph saved to monthly_centralities_csv_new/centralities_1952-04.csv\n"
     ]
    },
    {
     "name": "stderr",
     "output_type": "stream",
     "text": [
      "Processing Graph Files:  68%|██████▊   | 471/691 [9:44:15<4:34:23, 74.83s/it]"
     ]
    },
    {
     "name": "stdout",
     "output_type": "stream",
     "text": [
      "Centralities for graph saved to monthly_centralities_csv_new/centralities_1964-05.csv\n"
     ]
    },
    {
     "name": "stderr",
     "output_type": "stream",
     "text": [
      "Processing Graph Files:  68%|██████▊   | 472/691 [9:45:27<4:29:06, 73.73s/it]"
     ]
    },
    {
     "name": "stdout",
     "output_type": "stream",
     "text": [
      "Centralities for graph saved to monthly_centralities_csv_new/centralities_1964-11.csv\n"
     ]
    },
    {
     "name": "stderr",
     "output_type": "stream",
     "text": [
      "Processing Graph Files:  68%|██████▊   | 473/691 [9:47:09<4:58:38, 82.20s/it]"
     ]
    },
    {
     "name": "stdout",
     "output_type": "stream",
     "text": [
      "Centralities for graph saved to monthly_centralities_csv_new/centralities_1995-03.csv\n"
     ]
    },
    {
     "name": "stderr",
     "output_type": "stream",
     "text": [
      "Processing Graph Files:  69%|██████▊   | 474/691 [9:47:54<4:16:55, 71.04s/it]"
     ]
    },
    {
     "name": "stdout",
     "output_type": "stream",
     "text": [
      "Centralities for graph saved to monthly_centralities_csv_new/centralities_1968-11.csv\n"
     ]
    },
    {
     "name": "stderr",
     "output_type": "stream",
     "text": [
      "Processing Graph Files:  69%|██████▊   | 475/691 [9:48:36<3:44:57, 62.49s/it]"
     ]
    },
    {
     "name": "stdout",
     "output_type": "stream",
     "text": [
      "Centralities for graph saved to monthly_centralities_csv_new/centralities_1968-05.csv\n"
     ]
    },
    {
     "name": "stderr",
     "output_type": "stream",
     "text": [
      "Processing Graph Files:  69%|██████▉   | 476/691 [9:49:57<4:03:30, 67.95s/it]"
     ]
    },
    {
     "name": "stdout",
     "output_type": "stream",
     "text": [
      "Centralities for graph saved to monthly_centralities_csv_new/centralities_1961-09.csv\n"
     ]
    },
    {
     "name": "stderr",
     "output_type": "stream",
     "text": [
      "Processing Graph Files:  69%|██████▉   | 477/691 [9:51:32<4:31:32, 76.14s/it]"
     ]
    },
    {
     "name": "stdout",
     "output_type": "stream",
     "text": [
      "Centralities for graph saved to monthly_centralities_csv_new/centralities_1997-06.csv\n"
     ]
    },
    {
     "name": "stderr",
     "output_type": "stream",
     "text": [
      "Processing Graph Files:  69%|██████▉   | 478/691 [9:52:45<4:26:56, 75.20s/it]"
     ]
    },
    {
     "name": "stdout",
     "output_type": "stream",
     "text": [
      "Centralities for graph saved to monthly_centralities_csv_new/centralities_1949-08.csv\n"
     ]
    },
    {
     "name": "stderr",
     "output_type": "stream",
     "text": [
      "Processing Graph Files:  69%|██████▉   | 479/691 [9:54:24<4:50:40, 82.27s/it]"
     ]
    },
    {
     "name": "stdout",
     "output_type": "stream",
     "text": [
      "Centralities for graph saved to monthly_centralities_csv_new/centralities_1997-12.csv\n"
     ]
    },
    {
     "name": "stderr",
     "output_type": "stream",
     "text": [
      "Processing Graph Files:  69%|██████▉   | 480/691 [9:56:07<5:10:52, 88.40s/it]"
     ]
    },
    {
     "name": "stdout",
     "output_type": "stream",
     "text": [
      "Centralities for graph saved to monthly_centralities_csv_new/centralities_1999-03.csv\n"
     ]
    },
    {
     "name": "stderr",
     "output_type": "stream",
     "text": [
      "Processing Graph Files:  70%|██████▉   | 481/691 [9:56:55<4:27:17, 76.37s/it]"
     ]
    },
    {
     "name": "stdout",
     "output_type": "stream",
     "text": [
      "Centralities for graph saved to monthly_centralities_csv_new/centralities_1976-11.csv\n"
     ]
    },
    {
     "name": "stderr",
     "output_type": "stream",
     "text": [
      "Processing Graph Files:  70%|██████▉   | 482/691 [9:57:49<4:03:00, 69.76s/it]"
     ]
    },
    {
     "name": "stdout",
     "output_type": "stream",
     "text": [
      "Centralities for graph saved to monthly_centralities_csv_new/centralities_1976-05.csv\n"
     ]
    },
    {
     "name": "stderr",
     "output_type": "stream",
     "text": [
      "Processing Graph Files:  70%|██████▉   | 483/691 [9:59:20<4:24:09, 76.20s/it]"
     ]
    },
    {
     "name": "stdout",
     "output_type": "stream",
     "text": [
      "Centralities for graph saved to monthly_centralities_csv_new/centralities_1987-03.csv\n"
     ]
    },
    {
     "name": "stderr",
     "output_type": "stream",
     "text": [
      "Processing Graph Files:  70%|███████   | 484/691 [10:00:18<4:04:06, 70.76s/it]"
     ]
    },
    {
     "name": "stdout",
     "output_type": "stream",
     "text": [
      "Centralities for graph saved to monthly_centralities_csv_new/centralities_1989-06.csv\n"
     ]
    },
    {
     "name": "stderr",
     "output_type": "stream",
     "text": [
      "Processing Graph Files:  70%|███████   | 485/691 [10:02:00<4:34:47, 80.03s/it]"
     ]
    },
    {
     "name": "stdout",
     "output_type": "stream",
     "text": [
      "Centralities for graph saved to monthly_centralities_csv_new/centralities_2003-05.csv\n"
     ]
    },
    {
     "name": "stderr",
     "output_type": "stream",
     "text": [
      "Processing Graph Files:  70%|███████   | 486/691 [10:03:13<4:26:11, 77.91s/it]"
     ]
    },
    {
     "name": "stdout",
     "output_type": "stream",
     "text": [
      "Centralities for graph saved to monthly_centralities_csv_new/centralities_1950-01.csv\n"
     ]
    },
    {
     "name": "stderr",
     "output_type": "stream",
     "text": [
      "Processing Graph Files:  70%|███████   | 487/691 [10:05:03<4:57:24, 87.47s/it]"
     ]
    },
    {
     "name": "stdout",
     "output_type": "stream",
     "text": [
      "Centralities for graph saved to monthly_centralities_csv_new/centralities_2003-11.csv\n"
     ]
    },
    {
     "name": "stderr",
     "output_type": "stream",
     "text": [
      "Processing Graph Files:  71%|███████   | 488/691 [10:06:30<4:56:02, 87.50s/it]"
     ]
    },
    {
     "name": "stdout",
     "output_type": "stream",
     "text": [
      "Centralities for graph saved to monthly_centralities_csv_new/centralities_1989-12.csv\n"
     ]
    },
    {
     "name": "stderr",
     "output_type": "stream",
     "text": [
      "Processing Graph Files:  71%|███████   | 489/691 [10:08:00<4:56:48, 88.16s/it]"
     ]
    },
    {
     "name": "stdout",
     "output_type": "stream",
     "text": [
      "Centralities for graph saved to monthly_centralities_csv_new/centralities_1957-08.csv\n"
     ]
    },
    {
     "name": "stderr",
     "output_type": "stream",
     "text": [
      "Processing Graph Files:  71%|███████   | 490/691 [10:09:50<5:17:12, 94.69s/it]"
     ]
    },
    {
     "name": "stdout",
     "output_type": "stream",
     "text": [
      "Centralities for graph saved to monthly_centralities_csv_new/centralities_2003-07.csv\n"
     ]
    },
    {
     "name": "stderr",
     "output_type": "stream",
     "text": [
      "Processing Graph Files:  71%|███████   | 491/691 [10:11:09<4:59:40, 89.90s/it]"
     ]
    },
    {
     "name": "stdout",
     "output_type": "stream",
     "text": [
      "Centralities for graph saved to monthly_centralities_csv_new/centralities_1989-04.csv\n"
     ]
    },
    {
     "name": "stderr",
     "output_type": "stream",
     "text": [
      "Processing Graph Files:  71%|███████   | 492/691 [10:12:31<4:50:45, 87.67s/it]"
     ]
    },
    {
     "name": "stdout",
     "output_type": "stream",
     "text": [
      "Centralities for graph saved to monthly_centralities_csv_new/centralities_1989-10.csv\n"
     ]
    },
    {
     "name": "stderr",
     "output_type": "stream",
     "text": [
      "Processing Graph Files:  71%|███████▏  | 493/691 [10:13:47<4:37:05, 83.97s/it]"
     ]
    },
    {
     "name": "stdout",
     "output_type": "stream",
     "text": [
      "Centralities for graph saved to monthly_centralities_csv_new/centralities_1950-03.csv\n"
     ]
    },
    {
     "name": "stderr",
     "output_type": "stream",
     "text": [
      "Processing Graph Files:  71%|███████▏  | 494/691 [10:15:09<4:34:15, 83.53s/it]"
     ]
    },
    {
     "name": "stdout",
     "output_type": "stream",
     "text": [
      "Centralities for graph saved to monthly_centralities_csv_new/centralities_1980-08.csv\n"
     ]
    },
    {
     "name": "stderr",
     "output_type": "stream",
     "text": [
      "Processing Graph Files:  72%|███████▏  | 495/691 [10:16:30<4:30:15, 82.73s/it]"
     ]
    },
    {
     "name": "stdout",
     "output_type": "stream",
     "text": [
      "Centralities for graph saved to monthly_centralities_csv_new/centralities_1987-01.csv\n"
     ]
    },
    {
     "name": "stderr",
     "output_type": "stream",
     "text": [
      "Processing Graph Files:  72%|███████▏  | 496/691 [10:17:24<4:00:28, 73.99s/it]"
     ]
    },
    {
     "name": "stdout",
     "output_type": "stream",
     "text": [
      "Centralities for graph saved to monthly_centralities_csv_new/centralities_1976-07.csv\n"
     ]
    },
    {
     "name": "stderr",
     "output_type": "stream",
     "text": [
      "Processing Graph Files:  72%|███████▏  | 497/691 [10:18:18<3:40:31, 68.20s/it]"
     ]
    },
    {
     "name": "stdout",
     "output_type": "stream",
     "text": [
      "Centralities for graph saved to monthly_centralities_csv_new/centralities_1978-02.csv\n"
     ]
    },
    {
     "name": "stderr",
     "output_type": "stream",
     "text": [
      "Processing Graph Files:  72%|███████▏  | 498/691 [10:19:51<4:02:36, 75.42s/it]"
     ]
    },
    {
     "name": "stdout",
     "output_type": "stream",
     "text": [
      "Centralities for graph saved to monthly_centralities_csv_new/centralities_1999-01.csv\n"
     ]
    },
    {
     "name": "stderr",
     "output_type": "stream",
     "text": [
      "Processing Graph Files:  72%|███████▏  | 499/691 [10:21:17<4:11:39, 78.64s/it]"
     ]
    },
    {
     "name": "stdout",
     "output_type": "stream",
     "text": [
      "Centralities for graph saved to monthly_centralities_csv_new/centralities_1997-04.csv\n"
     ]
    },
    {
     "name": "stderr",
     "output_type": "stream",
     "text": [
      "Processing Graph Files:  72%|███████▏  | 500/691 [10:22:51<4:24:53, 83.21s/it]"
     ]
    },
    {
     "name": "stdout",
     "output_type": "stream",
     "text": [
      "Centralities for graph saved to monthly_centralities_csv_new/centralities_1997-10.csv\n"
     ]
    },
    {
     "name": "stderr",
     "output_type": "stream",
     "text": [
      "Processing Graph Files:  73%|███████▎  | 501/691 [10:23:52<4:02:39, 76.63s/it]"
     ]
    },
    {
     "name": "stdout",
     "output_type": "stream",
     "text": [
      "Centralities for graph saved to monthly_centralities_csv_new/centralities_1966-02.csv\n"
     ]
    },
    {
     "name": "stderr",
     "output_type": "stream",
     "text": [
      "Processing Graph Files:  73%|███████▎  | 502/691 [10:24:40<3:34:06, 67.97s/it]"
     ]
    },
    {
     "name": "stdout",
     "output_type": "stream",
     "text": [
      "Centralities for graph saved to monthly_centralities_csv_new/centralities_1968-07.csv\n"
     ]
    },
    {
     "name": "stderr",
     "output_type": "stream",
     "text": [
      "Processing Graph Files:  73%|███████▎  | 503/691 [10:26:11<3:55:23, 75.12s/it]"
     ]
    },
    {
     "name": "stdout",
     "output_type": "stream",
     "text": [
      "Centralities for graph saved to monthly_centralities_csv_new/centralities_1995-01.csv\n"
     ]
    },
    {
     "name": "stderr",
     "output_type": "stream",
     "text": [
      "Processing Graph Files:  73%|███████▎  | 504/691 [10:27:33<4:00:22, 77.12s/it]"
     ]
    },
    {
     "name": "stdout",
     "output_type": "stream",
     "text": [
      "Centralities for graph saved to monthly_centralities_csv_new/centralities_1992-08.csv\n"
     ]
    },
    {
     "name": "stderr",
     "output_type": "stream",
     "text": [
      "Processing Graph Files:  73%|███████▎  | 505/691 [10:28:54<4:02:39, 78.27s/it]"
     ]
    },
    {
     "name": "stdout",
     "output_type": "stream",
     "text": [
      "Centralities for graph saved to monthly_centralities_csv_new/centralities_1964-07.csv\n"
     ]
    },
    {
     "name": "stderr",
     "output_type": "stream",
     "text": [
      "Processing Graph Files:  73%|███████▎  | 506/691 [10:30:19<4:07:16, 80.20s/it]"
     ]
    },
    {
     "name": "stdout",
     "output_type": "stream",
     "text": [
      "Centralities for graph saved to monthly_centralities_csv_new/centralities_2001-02.csv\n"
     ]
    },
    {
     "name": "stderr",
     "output_type": "stream",
     "text": [
      "Processing Graph Files:  73%|███████▎  | 507/691 [10:31:32<3:59:23, 78.06s/it]"
     ]
    },
    {
     "name": "stdout",
     "output_type": "stream",
     "text": [
      "Centralities for graph saved to monthly_centralities_csv_new/centralities_1952-12.csv\n"
     ]
    },
    {
     "name": "stderr",
     "output_type": "stream",
     "text": [
      "Processing Graph Files:  74%|███████▎  | 508/691 [10:32:39<3:47:55, 74.73s/it]"
     ]
    },
    {
     "name": "stdout",
     "output_type": "stream",
     "text": [
      "Centralities for graph saved to monthly_centralities_csv_new/centralities_1952-06.csv\n"
     ]
    },
    {
     "name": "stderr",
     "output_type": "stream",
     "text": [
      "Processing Graph Files:  74%|███████▎  | 509/691 [10:34:07<3:58:50, 78.74s/it]"
     ]
    },
    {
     "name": "stdout",
     "output_type": "stream",
     "text": [
      "Centralities for graph saved to monthly_centralities_csv_new/centralities_1985-10.csv\n"
     ]
    },
    {
     "name": "stderr",
     "output_type": "stream",
     "text": [
      "Processing Graph Files:  74%|███████▍  | 510/691 [10:35:35<4:06:21, 81.67s/it]"
     ]
    },
    {
     "name": "stdout",
     "output_type": "stream",
     "text": [
      "Centralities for graph saved to monthly_centralities_csv_new/centralities_1985-04.csv\n"
     ]
    },
    {
     "name": "stderr",
     "output_type": "stream",
     "text": [
      "Processing Graph Files:  74%|███████▍  | 511/691 [10:36:26<3:37:10, 72.39s/it]"
     ]
    },
    {
     "name": "stdout",
     "output_type": "stream",
     "text": [
      "Centralities for graph saved to monthly_centralities_csv_new/centralities_1974-02.csv\n"
     ]
    },
    {
     "name": "stderr",
     "output_type": "stream",
     "text": [
      "Processing Graph Files:  74%|███████▍  | 512/691 [10:37:21<3:20:33, 67.23s/it]"
     ]
    },
    {
     "name": "stdout",
     "output_type": "stream",
     "text": [
      "Centralities for graph saved to monthly_centralities_csv_new/centralities_1974-03.csv\n"
     ]
    },
    {
     "name": "stderr",
     "output_type": "stream",
     "text": [
      "Processing Graph Files:  74%|███████▍  | 513/691 [10:38:47<3:36:13, 72.88s/it]"
     ]
    },
    {
     "name": "stdout",
     "output_type": "stream",
     "text": [
      "Centralities for graph saved to monthly_centralities_csv_new/centralities_1985-05.csv\n"
     ]
    },
    {
     "name": "stderr",
     "output_type": "stream",
     "text": [
      "Processing Graph Files:  74%|███████▍  | 514/691 [10:40:14<3:47:16, 77.05s/it]"
     ]
    },
    {
     "name": "stdout",
     "output_type": "stream",
     "text": [
      "Centralities for graph saved to monthly_centralities_csv_new/centralities_1985-11.csv\n"
     ]
    },
    {
     "name": "stderr",
     "output_type": "stream",
     "text": [
      "Processing Graph Files:  75%|███████▍  | 515/691 [10:41:26<3:41:14, 75.42s/it]"
     ]
    },
    {
     "name": "stdout",
     "output_type": "stream",
     "text": [
      "Centralities for graph saved to monthly_centralities_csv_new/centralities_1952-07.csv\n"
     ]
    },
    {
     "name": "stderr",
     "output_type": "stream",
     "text": [
      "Processing Graph Files:  75%|███████▍  | 516/691 [10:42:59<3:55:54, 80.88s/it]"
     ]
    },
    {
     "name": "stdout",
     "output_type": "stream",
     "text": [
      "Centralities for graph saved to monthly_centralities_csv_new/centralities_2001-03.csv\n"
     ]
    },
    {
     "name": "stderr",
     "output_type": "stream",
     "text": [
      "Processing Graph Files:  75%|███████▍  | 517/691 [10:44:13<3:48:34, 78.82s/it]"
     ]
    },
    {
     "name": "stdout",
     "output_type": "stream",
     "text": [
      "Centralities for graph saved to monthly_centralities_csv_new/centralities_1964-12.csv\n"
     ]
    },
    {
     "name": "stderr",
     "output_type": "stream",
     "text": [
      "Processing Graph Files:  75%|███████▍  | 518/691 [10:45:29<3:44:20, 77.81s/it]"
     ]
    },
    {
     "name": "stdout",
     "output_type": "stream",
     "text": [
      "Centralities for graph saved to monthly_centralities_csv_new/centralities_1964-06.csv\n"
     ]
    },
    {
     "name": "stderr",
     "output_type": "stream",
     "text": [
      "Processing Graph Files:  75%|███████▌  | 519/691 [10:46:49<3:44:43, 78.39s/it]"
     ]
    },
    {
     "name": "stdout",
     "output_type": "stream",
     "text": [
      "Centralities for graph saved to monthly_centralities_csv_new/centralities_1992-09.csv\n"
     ]
    },
    {
     "name": "stderr",
     "output_type": "stream",
     "text": [
      "Processing Graph Files:  75%|███████▌  | 520/691 [10:47:33<3:14:37, 68.29s/it]"
     ]
    },
    {
     "name": "stdout",
     "output_type": "stream",
     "text": [
      "Centralities for graph saved to monthly_centralities_csv_new/centralities_1968-06.csv\n"
     ]
    },
    {
     "name": "stderr",
     "output_type": "stream",
     "text": [
      "Processing Graph Files:  75%|███████▌  | 521/691 [10:48:21<2:55:42, 62.01s/it]"
     ]
    },
    {
     "name": "stdout",
     "output_type": "stream",
     "text": [
      "Centralities for graph saved to monthly_centralities_csv_new/centralities_1968-12.csv\n"
     ]
    },
    {
     "name": "stderr",
     "output_type": "stream",
     "text": [
      "Processing Graph Files:  76%|███████▌  | 522/691 [10:49:33<3:03:24, 65.11s/it]"
     ]
    },
    {
     "name": "stdout",
     "output_type": "stream",
     "text": [
      "Centralities for graph saved to monthly_centralities_csv_new/centralities_1966-03.csv\n"
     ]
    },
    {
     "name": "stderr",
     "output_type": "stream",
     "text": [
      "Processing Graph Files:  76%|███████▌  | 523/691 [10:51:07<3:26:22, 73.71s/it]"
     ]
    },
    {
     "name": "stdout",
     "output_type": "stream",
     "text": [
      "Centralities for graph saved to monthly_centralities_csv_new/centralities_1997-11.csv\n"
     ]
    },
    {
     "name": "stderr",
     "output_type": "stream",
     "text": [
      "Processing Graph Files:  76%|███████▌  | 524/691 [10:52:44<3:44:59, 80.84s/it]"
     ]
    },
    {
     "name": "stdout",
     "output_type": "stream",
     "text": [
      "Centralities for graph saved to monthly_centralities_csv_new/centralities_1997-05.csv\n"
     ]
    },
    {
     "name": "stderr",
     "output_type": "stream",
     "text": [
      "Processing Graph Files:  76%|███████▌  | 525/691 [10:53:47<3:28:37, 75.40s/it]"
     ]
    },
    {
     "name": "stdout",
     "output_type": "stream",
     "text": [
      "Centralities for graph saved to monthly_centralities_csv_new/centralities_1978-03.csv\n"
     ]
    },
    {
     "name": "stderr",
     "output_type": "stream",
     "text": [
      "Processing Graph Files:  76%|███████▌  | 526/691 [10:54:42<3:10:28, 69.27s/it]"
     ]
    },
    {
     "name": "stdout",
     "output_type": "stream",
     "text": [
      "Centralities for graph saved to monthly_centralities_csv_new/centralities_1976-06.csv\n"
     ]
    },
    {
     "name": "stderr",
     "output_type": "stream",
     "text": [
      "Processing Graph Files:  76%|███████▋  | 527/691 [10:55:31<2:52:41, 63.18s/it]"
     ]
    },
    {
     "name": "stdout",
     "output_type": "stream",
     "text": [
      "Centralities for graph saved to monthly_centralities_csv_new/centralities_1976-12.csv\n"
     ]
    },
    {
     "name": "stderr",
     "output_type": "stream",
     "text": [
      "Processing Graph Files:  76%|███████▋  | 528/691 [10:56:52<3:05:53, 68.43s/it]"
     ]
    },
    {
     "name": "stdout",
     "output_type": "stream",
     "text": [
      "Centralities for graph saved to monthly_centralities_csv_new/centralities_1980-09.csv\n"
     ]
    },
    {
     "name": "stderr",
     "output_type": "stream",
     "text": [
      "Processing Graph Files:  77%|███████▋  | 529/691 [10:58:46<3:42:08, 82.28s/it]"
     ]
    },
    {
     "name": "stdout",
     "output_type": "stream",
     "text": [
      "Centralities for graph saved to monthly_centralities_csv_new/centralities_2003-12.csv\n"
     ]
    },
    {
     "name": "stderr",
     "output_type": "stream",
     "text": [
      "Processing Graph Files:  77%|███████▋  | 530/691 [10:59:52<3:27:17, 77.25s/it]"
     ]
    },
    {
     "name": "stdout",
     "output_type": "stream",
     "text": [
      "Centralities for graph saved to monthly_centralities_csv_new/centralities_1950-02.csv\n"
     ]
    },
    {
     "name": "stderr",
     "output_type": "stream",
     "text": [
      "Processing Graph Files:  77%|███████▋  | 531/691 [11:01:16<3:31:26, 79.29s/it]"
     ]
    },
    {
     "name": "stdout",
     "output_type": "stream",
     "text": [
      "Centralities for graph saved to monthly_centralities_csv_new/centralities_1989-11.csv\n"
     ]
    },
    {
     "name": "stderr",
     "output_type": "stream",
     "text": [
      "Processing Graph Files:  77%|███████▋  | 532/691 [11:02:37<3:31:27, 79.79s/it]"
     ]
    },
    {
     "name": "stdout",
     "output_type": "stream",
     "text": [
      "Centralities for graph saved to monthly_centralities_csv_new/centralities_1989-05.csv\n"
     ]
    },
    {
     "name": "stderr",
     "output_type": "stream",
     "text": [
      "Processing Graph Files:  77%|███████▋  | 533/691 [11:04:27<3:54:04, 88.89s/it]"
     ]
    },
    {
     "name": "stdout",
     "output_type": "stream",
     "text": [
      "Centralities for graph saved to monthly_centralities_csv_new/centralities_2003-06.csv\n"
     ]
    },
    {
     "name": "stderr",
     "output_type": "stream",
     "text": [
      "Processing Graph Files:  77%|███████▋  | 534/691 [11:05:45<3:43:52, 85.56s/it]"
     ]
    },
    {
     "name": "stdout",
     "output_type": "stream",
     "text": [
      "Centralities for graph saved to monthly_centralities_csv_new/centralities_1993-06.csv\n"
     ]
    },
    {
     "name": "stderr",
     "output_type": "stream",
     "text": [
      "Processing Graph Files:  77%|███████▋  | 535/691 [11:07:12<3:43:52, 86.11s/it]"
     ]
    },
    {
     "name": "stdout",
     "output_type": "stream",
     "text": [
      "Centralities for graph saved to monthly_centralities_csv_new/centralities_1993-12.csv\n"
     ]
    },
    {
     "name": "stderr",
     "output_type": "stream",
     "text": [
      "Processing Graph Files:  78%|███████▊  | 536/691 [11:08:19<3:27:44, 80.42s/it]"
     ]
    },
    {
     "name": "stdout",
     "output_type": "stream",
     "text": [
      "Centralities for graph saved to monthly_centralities_csv_new/centralities_1965-09.csv\n"
     ]
    },
    {
     "name": "stderr",
     "output_type": "stream",
     "text": [
      "Processing Graph Files:  78%|███████▊  | 537/691 [11:09:42<3:28:11, 81.11s/it]"
     ]
    },
    {
     "name": "stdout",
     "output_type": "stream",
     "text": [
      "Centralities for graph saved to monthly_centralities_csv_new/centralities_1983-03.csv\n"
     ]
    },
    {
     "name": "stderr",
     "output_type": "stream",
     "text": [
      "Processing Graph Files:  78%|███████▊  | 538/691 [11:10:50<3:16:47, 77.17s/it]"
     ]
    },
    {
     "name": "stdout",
     "output_type": "stream",
     "text": [
      "Centralities for graph saved to monthly_centralities_csv_new/centralities_1954-01.csv\n"
     ]
    },
    {
     "name": "stderr",
     "output_type": "stream",
     "text": [
      "Processing Graph Files:  78%|███████▊  | 539/691 [11:12:02<3:11:37, 75.64s/it]"
     ]
    },
    {
     "name": "stdout",
     "output_type": "stream",
     "text": [
      "Centralities for graph saved to monthly_centralities_csv_new/centralities_1953-08.csv\n"
     ]
    },
    {
     "name": "stderr",
     "output_type": "stream",
     "text": [
      "Processing Graph Files:  78%|███████▊  | 540/691 [11:12:52<2:51:19, 68.08s/it]"
     ]
    },
    {
     "name": "stdout",
     "output_type": "stream",
     "text": [
      "Centralities for graph saved to monthly_centralities_csv_new/centralities_1972-11.csv\n"
     ]
    },
    {
     "name": "stderr",
     "output_type": "stream",
     "text": [
      "Processing Graph Files:  78%|███████▊  | 541/691 [11:13:47<2:40:19, 64.13s/it]"
     ]
    },
    {
     "name": "stdout",
     "output_type": "stream",
     "text": [
      "Centralities for graph saved to monthly_centralities_csv_new/centralities_1972-05.csv\n"
     ]
    },
    {
     "name": "stderr",
     "output_type": "stream",
     "text": [
      "Processing Graph Files:  78%|███████▊  | 542/691 [11:15:25<3:03:58, 74.09s/it]"
     ]
    },
    {
     "name": "stdout",
     "output_type": "stream",
     "text": [
      "Centralities for graph saved to monthly_centralities_csv_new/centralities_1958-01.csv\n"
     ]
    },
    {
     "name": "stderr",
     "output_type": "stream",
     "text": [
      "Processing Graph Files:  79%|███████▊  | 543/691 [11:16:48<3:09:35, 76.86s/it]"
     ]
    },
    {
     "name": "stdout",
     "output_type": "stream",
     "text": [
      "Centralities for graph saved to monthly_centralities_csv_new/centralities_1981-12.csv\n"
     ]
    },
    {
     "name": "stderr",
     "output_type": "stream",
     "text": [
      "Processing Graph Files:  79%|███████▊  | 544/691 [11:18:09<3:11:23, 78.12s/it]"
     ]
    },
    {
     "name": "stdout",
     "output_type": "stream",
     "text": [
      "Centralities for graph saved to monthly_centralities_csv_new/centralities_1981-06.csv\n"
     ]
    },
    {
     "name": "stderr",
     "output_type": "stream",
     "text": [
      "Processing Graph Files:  79%|███████▉  | 545/691 [11:19:47<3:24:35, 84.08s/it]"
     ]
    },
    {
     "name": "stdout",
     "output_type": "stream",
     "text": [
      "Centralities for graph saved to monthly_centralities_csv_new/centralities_1956-10.csv\n"
     ]
    },
    {
     "name": "stderr",
     "output_type": "stream",
     "text": [
      "Processing Graph Files:  79%|███████▉  | 546/691 [11:21:20<3:29:17, 86.60s/it]"
     ]
    },
    {
     "name": "stdout",
     "output_type": "stream",
     "text": [
      "Centralities for graph saved to monthly_centralities_csv_new/centralities_2002-09.csv\n"
     ]
    },
    {
     "name": "stderr",
     "output_type": "stream",
     "text": [
      "Processing Graph Files:  79%|███████▉  | 547/691 [11:22:27<3:14:00, 80.84s/it]"
     ]
    },
    {
     "name": "stdout",
     "output_type": "stream",
     "text": [
      "Centralities for graph saved to monthly_centralities_csv_new/centralities_1956-04.csv\n"
     ]
    },
    {
     "name": "stderr",
     "output_type": "stream",
     "text": [
      "Processing Graph Files:  79%|███████▉  | 548/691 [11:23:23<2:55:08, 73.49s/it]"
     ]
    },
    {
     "name": "stdout",
     "output_type": "stream",
     "text": [
      "Centralities for graph saved to monthly_centralities_csv_new/centralities_1977-09.csv\n"
     ]
    },
    {
     "name": "stderr",
     "output_type": "stream",
     "text": [
      "Processing Graph Files:  79%|███████▉  | 549/691 [11:24:48<3:01:37, 76.74s/it]"
     ]
    },
    {
     "name": "stdout",
     "output_type": "stream",
     "text": [
      "Centralities for graph saved to monthly_centralities_csv_new/centralities_1991-03.csv\n"
     ]
    },
    {
     "name": "stderr",
     "output_type": "stream",
     "text": [
      "Processing Graph Files:  80%|███████▉  | 550/691 [11:25:18<2:27:53, 62.93s/it]"
     ]
    },
    {
     "name": "stdout",
     "output_type": "stream",
     "text": [
      "Centralities for graph saved to monthly_centralities_csv_new/centralities_1948-10.csv\n"
     ]
    },
    {
     "name": "stderr",
     "output_type": "stream",
     "text": [
      "Processing Graph Files:  80%|███████▉  | 551/691 [11:25:40<1:58:08, 50.63s/it]"
     ]
    },
    {
     "name": "stdout",
     "output_type": "stream",
     "text": [
      "Centralities for graph saved to monthly_centralities_csv_new/centralities_1948-04.csv\n"
     ]
    },
    {
     "name": "stderr",
     "output_type": "stream",
     "text": [
      "Processing Graph Files:  80%|███████▉  | 552/691 [11:26:27<1:54:23, 49.38s/it]"
     ]
    },
    {
     "name": "stdout",
     "output_type": "stream",
     "text": [
      "Centralities for graph saved to monthly_centralities_csv_new/centralities_1969-09.csv\n"
     ]
    },
    {
     "name": "stderr",
     "output_type": "stream",
     "text": [
      "Processing Graph Files:  80%|████████  | 553/691 [11:28:03<2:25:46, 63.38s/it]"
     ]
    },
    {
     "name": "stdout",
     "output_type": "stream",
     "text": [
      "Centralities for graph saved to monthly_centralities_csv_new/centralities_1960-05.csv\n"
     ]
    },
    {
     "name": "stderr",
     "output_type": "stream",
     "text": [
      "Processing Graph Files:  80%|████████  | 554/691 [11:29:40<2:47:51, 73.52s/it]"
     ]
    },
    {
     "name": "stdout",
     "output_type": "stream",
     "text": [
      "Centralities for graph saved to monthly_centralities_csv_new/centralities_1960-11.csv\n"
     ]
    },
    {
     "name": "stderr",
     "output_type": "stream",
     "text": [
      "Processing Graph Files:  80%|████████  | 555/691 [11:31:15<3:01:35, 80.12s/it]"
     ]
    },
    {
     "name": "stdout",
     "output_type": "stream",
     "text": [
      "Centralities for graph saved to monthly_centralities_csv_new/centralities_1960-10.csv\n"
     ]
    },
    {
     "name": "stderr",
     "output_type": "stream",
     "text": [
      "Processing Graph Files:  80%|████████  | 556/691 [11:33:43<3:45:35, 100.26s/it]"
     ]
    },
    {
     "name": "stdout",
     "output_type": "stream",
     "text": [
      "Centralities for graph saved to monthly_centralities_csv_new/centralities_1960-04.csv\n"
     ]
    },
    {
     "name": "stderr",
     "output_type": "stream",
     "text": [
      "Processing Graph Files:  81%|████████  | 557/691 [11:34:31<3:09:12, 84.72s/it] "
     ]
    },
    {
     "name": "stdout",
     "output_type": "stream",
     "text": [
      "Centralities for graph saved to monthly_centralities_csv_new/centralities_1969-08.csv\n"
     ]
    },
    {
     "name": "stderr",
     "output_type": "stream",
     "text": [
      "Processing Graph Files:  81%|████████  | 558/691 [11:34:56<2:28:05, 66.81s/it]"
     ]
    },
    {
     "name": "stdout",
     "output_type": "stream",
     "text": [
      "Centralities for graph saved to monthly_centralities_csv_new/centralities_1948-05.csv\n"
     ]
    },
    {
     "name": "stderr",
     "output_type": "stream",
     "text": [
      "Processing Graph Files:  81%|████████  | 559/691 [11:35:26<2:02:40, 55.76s/it]"
     ]
    },
    {
     "name": "stdout",
     "output_type": "stream",
     "text": [
      "Centralities for graph saved to monthly_centralities_csv_new/centralities_1948-11.csv\n"
     ]
    },
    {
     "name": "stderr",
     "output_type": "stream",
     "text": [
      "Processing Graph Files:  81%|████████  | 560/691 [11:36:37<2:11:28, 60.21s/it]"
     ]
    },
    {
     "name": "stdout",
     "output_type": "stream",
     "text": [
      "Centralities for graph saved to monthly_centralities_csv_new/centralities_1991-02.csv\n"
     ]
    },
    {
     "name": "stderr",
     "output_type": "stream",
     "text": [
      "Processing Graph Files:  81%|████████  | 561/691 [11:37:22<2:00:35, 55.65s/it]"
     ]
    },
    {
     "name": "stdout",
     "output_type": "stream",
     "text": [
      "Centralities for graph saved to monthly_centralities_csv_new/centralities_1970-01.csv\n"
     ]
    },
    {
     "name": "stderr",
     "output_type": "stream",
     "text": [
      "Processing Graph Files:  81%|████████▏ | 562/691 [11:38:16<1:58:47, 55.25s/it]"
     ]
    },
    {
     "name": "stdout",
     "output_type": "stream",
     "text": [
      "Centralities for graph saved to monthly_centralities_csv_new/centralities_1977-08.csv\n"
     ]
    },
    {
     "name": "stderr",
     "output_type": "stream",
     "text": [
      "Processing Graph Files:  81%|████████▏ | 563/691 [11:39:20<2:03:18, 57.80s/it]"
     ]
    },
    {
     "name": "stdout",
     "output_type": "stream",
     "text": [
      "Centralities for graph saved to monthly_centralities_csv_new/centralities_1956-05.csv\n"
     ]
    },
    {
     "name": "stderr",
     "output_type": "stream",
     "text": [
      "Processing Graph Files:  82%|████████▏ | 564/691 [11:40:57<2:27:35, 69.73s/it]"
     ]
    },
    {
     "name": "stdout",
     "output_type": "stream",
     "text": [
      "Centralities for graph saved to monthly_centralities_csv_new/centralities_1956-11.csv\n"
     ]
    },
    {
     "name": "stderr",
     "output_type": "stream",
     "text": [
      "Processing Graph Files:  82%|████████▏ | 565/691 [11:42:37<2:44:56, 78.54s/it]"
     ]
    },
    {
     "name": "stdout",
     "output_type": "stream",
     "text": [
      "Centralities for graph saved to monthly_centralities_csv_new/centralities_2002-08.csv\n"
     ]
    },
    {
     "name": "stderr",
     "output_type": "stream",
     "text": [
      "Processing Graph Files:  82%|████████▏ | 566/691 [11:44:03<2:48:27, 80.86s/it]"
     ]
    },
    {
     "name": "stdout",
     "output_type": "stream",
     "text": [
      "Centralities for graph saved to monthly_centralities_csv_new/centralities_1981-07.csv\n"
     ]
    },
    {
     "name": "stderr",
     "output_type": "stream",
     "text": [
      "Processing Graph Files:  82%|████████▏ | 567/691 [11:44:54<2:28:47, 71.99s/it]"
     ]
    },
    {
     "name": "stdout",
     "output_type": "stream",
     "text": [
      "Centralities for graph saved to monthly_centralities_csv_new/centralities_1972-04.csv\n"
     ]
    },
    {
     "name": "stderr",
     "output_type": "stream",
     "text": [
      "Processing Graph Files:  82%|████████▏ | 568/691 [11:45:47<2:15:47, 66.24s/it]"
     ]
    },
    {
     "name": "stdout",
     "output_type": "stream",
     "text": [
      "Centralities for graph saved to monthly_centralities_csv_new/centralities_1972-10.csv\n"
     ]
    },
    {
     "name": "stderr",
     "output_type": "stream",
     "text": [
      "Processing Graph Files:  82%|████████▏ | 569/691 [11:46:58<2:17:41, 67.72s/it]"
     ]
    },
    {
     "name": "stdout",
     "output_type": "stream",
     "text": [
      "Centralities for graph saved to monthly_centralities_csv_new/centralities_1953-09.csv\n"
     ]
    },
    {
     "name": "stderr",
     "output_type": "stream",
     "text": [
      "Processing Graph Files:  82%|████████▏ | 570/691 [11:48:10<2:18:54, 68.88s/it]"
     ]
    },
    {
     "name": "stdout",
     "output_type": "stream",
     "text": [
      "Centralities for graph saved to monthly_centralities_csv_new/centralities_1983-02.csv\n"
     ]
    },
    {
     "name": "stderr",
     "output_type": "stream",
     "text": [
      "Processing Graph Files:  83%|████████▎ | 571/691 [11:49:21<2:18:59, 69.50s/it]"
     ]
    },
    {
     "name": "stdout",
     "output_type": "stream",
     "text": [
      "Centralities for graph saved to monthly_centralities_csv_new/centralities_1965-08.csv\n"
     ]
    },
    {
     "name": "stderr",
     "output_type": "stream",
     "text": [
      "Processing Graph Files:  83%|████████▎ | 572/691 [11:50:28<2:16:42, 68.93s/it]"
     ]
    },
    {
     "name": "stdout",
     "output_type": "stream",
     "text": [
      "Centralities for graph saved to monthly_centralities_csv_new/centralities_1962-01.csv\n"
     ]
    },
    {
     "name": "stderr",
     "output_type": "stream",
     "text": [
      "Processing Graph Files:  83%|████████▎ | 573/691 [11:51:49<2:22:18, 72.36s/it]"
     ]
    },
    {
     "name": "stdout",
     "output_type": "stream",
     "text": [
      "Centralities for graph saved to monthly_centralities_csv_new/centralities_1993-07.csv\n"
     ]
    },
    {
     "name": "stderr",
     "output_type": "stream",
     "text": [
      "Processing Graph Files:  83%|████████▎ | 574/691 [11:53:10<2:26:42, 75.23s/it]"
     ]
    },
    {
     "name": "stdout",
     "output_type": "stream",
     "text": [
      "Centralities for graph saved to monthly_centralities_csv_new/centralities_1993-11.csv\n"
     ]
    },
    {
     "name": "stderr",
     "output_type": "stream",
     "text": [
      "Processing Graph Files:  83%|████████▎ | 575/691 [11:54:30<2:27:38, 76.37s/it]"
     ]
    },
    {
     "name": "stdout",
     "output_type": "stream",
     "text": [
      "Centralities for graph saved to monthly_centralities_csv_new/centralities_1993-05.csv\n"
     ]
    },
    {
     "name": "stderr",
     "output_type": "stream",
     "text": [
      "Processing Graph Files:  83%|████████▎ | 576/691 [11:55:40<2:23:07, 74.67s/it]"
     ]
    },
    {
     "name": "stdout",
     "output_type": "stream",
     "text": [
      "Centralities for graph saved to monthly_centralities_csv_new/centralities_1962-03.csv\n"
     ]
    },
    {
     "name": "stderr",
     "output_type": "stream",
     "text": [
      "Processing Graph Files:  84%|████████▎ | 577/691 [11:56:59<2:24:11, 75.89s/it]"
     ]
    },
    {
     "name": "stdout",
     "output_type": "stream",
     "text": [
      "Centralities for graph saved to monthly_centralities_csv_new/centralities_1984-09.csv\n"
     ]
    },
    {
     "name": "stderr",
     "output_type": "stream",
     "text": [
      "Processing Graph Files:  84%|████████▎ | 578/691 [11:58:02<2:15:27, 71.92s/it]"
     ]
    },
    {
     "name": "stdout",
     "output_type": "stream",
     "text": [
      "Centralities for graph saved to monthly_centralities_csv_new/centralities_1954-02.csv\n"
     ]
    },
    {
     "name": "stderr",
     "output_type": "stream",
     "text": [
      "Processing Graph Files:  84%|████████▍ | 579/691 [11:58:53<2:02:54, 65.85s/it]"
     ]
    },
    {
     "name": "stdout",
     "output_type": "stream",
     "text": [
      "Centralities for graph saved to monthly_centralities_csv_new/centralities_1972-06.csv\n"
     ]
    },
    {
     "name": "stderr",
     "output_type": "stream",
     "text": [
      "Processing Graph Files:  84%|████████▍ | 580/691 [11:59:48<1:55:34, 62.48s/it]"
     ]
    },
    {
     "name": "stdout",
     "output_type": "stream",
     "text": [
      "Centralities for graph saved to monthly_centralities_csv_new/centralities_1972-12.csv\n"
     ]
    },
    {
     "name": "stderr",
     "output_type": "stream",
     "text": [
      "Processing Graph Files:  84%|████████▍ | 581/691 [12:01:11<2:05:48, 68.62s/it]"
     ]
    },
    {
     "name": "stdout",
     "output_type": "stream",
     "text": [
      "Centralities for graph saved to monthly_centralities_csv_new/centralities_1981-05.csv\n"
     ]
    },
    {
     "name": "stderr",
     "output_type": "stream",
     "text": [
      "Processing Graph Files:  84%|████████▍ | 582/691 [12:02:58<2:25:39, 80.18s/it]"
     ]
    },
    {
     "name": "stdout",
     "output_type": "stream",
     "text": [
      "Centralities for graph saved to monthly_centralities_csv_new/centralities_1958-02.csv\n"
     ]
    },
    {
     "name": "stderr",
     "output_type": "stream",
     "text": [
      "Processing Graph Files:  84%|████████▍ | 583/691 [12:04:19<2:24:55, 80.52s/it]"
     ]
    },
    {
     "name": "stdout",
     "output_type": "stream",
     "text": [
      "Centralities for graph saved to monthly_centralities_csv_new/centralities_1981-11.csv\n"
     ]
    },
    {
     "name": "stderr",
     "output_type": "stream",
     "text": [
      "Processing Graph Files:  85%|████████▍ | 584/691 [12:05:57<2:32:54, 85.75s/it]"
     ]
    },
    {
     "name": "stdout",
     "output_type": "stream",
     "text": [
      "Centralities for graph saved to monthly_centralities_csv_new/centralities_1956-07.csv\n"
     ]
    },
    {
     "name": "stderr",
     "output_type": "stream",
     "text": [
      "Processing Graph Files:  85%|████████▍ | 585/691 [12:07:14<2:26:34, 82.97s/it]"
     ]
    },
    {
     "name": "stdout",
     "output_type": "stream",
     "text": [
      "Centralities for graph saved to monthly_centralities_csv_new/centralities_1988-09.csv\n"
     ]
    },
    {
     "name": "stderr",
     "output_type": "stream",
     "text": [
      "Processing Graph Files:  85%|████████▍ | 586/691 [12:08:06<2:08:49, 73.61s/it]"
     ]
    },
    {
     "name": "stdout",
     "output_type": "stream",
     "text": [
      "Centralities for graph saved to monthly_centralities_csv_new/centralities_1970-03.csv\n"
     ]
    },
    {
     "name": "stderr",
     "output_type": "stream",
     "text": [
      "Processing Graph Files:  85%|████████▍ | 587/691 [12:08:30<1:42:03, 58.88s/it]"
     ]
    },
    {
     "name": "stdout",
     "output_type": "stream",
     "text": [
      "Centralities for graph saved to monthly_centralities_csv_new/centralities_1948-07.csv\n"
     ]
    },
    {
     "name": "stderr",
     "output_type": "stream",
     "text": [
      "Processing Graph Files:  85%|████████▌ | 588/691 [12:10:03<1:58:26, 69.00s/it]"
     ]
    },
    {
     "name": "stdout",
     "output_type": "stream",
     "text": [
      "Centralities for graph saved to monthly_centralities_csv_new/centralities_1996-09.csv\n"
     ]
    },
    {
     "name": "stderr",
     "output_type": "stream",
     "text": [
      "Processing Graph Files:  85%|████████▌ | 589/691 [12:11:42<2:12:43, 78.07s/it]"
     ]
    },
    {
     "name": "stdout",
     "output_type": "stream",
     "text": [
      "Centralities for graph saved to monthly_centralities_csv_new/centralities_1960-12.csv\n"
     ]
    },
    {
     "name": "stderr",
     "output_type": "stream",
     "text": [
      "Processing Graph Files:  85%|████████▌ | 590/691 [12:13:30<2:26:28, 87.02s/it]"
     ]
    },
    {
     "name": "stdout",
     "output_type": "stream",
     "text": [
      "Centralities for graph saved to monthly_centralities_csv_new/centralities_1960-06.csv\n"
     ]
    },
    {
     "name": "stderr",
     "output_type": "stream",
     "text": [
      "Processing Graph Files:  86%|████████▌ | 591/691 [12:15:05<2:29:16, 89.56s/it]"
     ]
    },
    {
     "name": "stdout",
     "output_type": "stream",
     "text": [
      "Centralities for graph saved to monthly_centralities_csv_new/centralities_1960-07.csv\n"
     ]
    },
    {
     "name": "stderr",
     "output_type": "stream",
     "text": [
      "Processing Graph Files:  86%|████████▌ | 592/691 [12:15:45<2:02:52, 74.47s/it]"
     ]
    },
    {
     "name": "stdout",
     "output_type": "stream",
     "text": [
      "Centralities for graph saved to monthly_centralities_csv_new/centralities_1948-12.csv\n"
     ]
    },
    {
     "name": "stderr",
     "output_type": "stream",
     "text": [
      "Processing Graph Files:  86%|████████▌ | 593/691 [12:17:06<2:04:54, 76.48s/it]"
     ]
    },
    {
     "name": "stdout",
     "output_type": "stream",
     "text": [
      "Centralities for graph saved to monthly_centralities_csv_new/centralities_1991-01.csv\n"
     ]
    },
    {
     "name": "stderr",
     "output_type": "stream",
     "text": [
      "Processing Graph Files:  86%|████████▌ | 594/691 [12:18:41<2:12:32, 81.99s/it]"
     ]
    },
    {
     "name": "stdout",
     "output_type": "stream",
     "text": [
      "Centralities for graph saved to monthly_centralities_csv_new/centralities_1996-08.csv\n"
     ]
    },
    {
     "name": "stderr",
     "output_type": "stream",
     "text": [
      "Processing Graph Files:  86%|████████▌ | 595/691 [12:19:04<1:43:18, 64.57s/it]"
     ]
    },
    {
     "name": "stdout",
     "output_type": "stream",
     "text": [
      "Centralities for graph saved to monthly_centralities_csv_new/centralities_1948-06.csv\n"
     ]
    },
    {
     "name": "stderr",
     "output_type": "stream",
     "text": [
      "Processing Graph Files:  86%|████████▋ | 596/691 [12:19:51<1:33:28, 59.04s/it]"
     ]
    },
    {
     "name": "stdout",
     "output_type": "stream",
     "text": [
      "Centralities for graph saved to monthly_centralities_csv_new/centralities_1970-02.csv\n"
     ]
    },
    {
     "name": "stderr",
     "output_type": "stream",
     "text": [
      "Processing Graph Files:  86%|████████▋ | 597/691 [12:21:14<1:43:48, 66.26s/it]"
     ]
    },
    {
     "name": "stdout",
     "output_type": "stream",
     "text": [
      "Centralities for graph saved to monthly_centralities_csv_new/centralities_1988-08.csv\n"
     ]
    },
    {
     "name": "stderr",
     "output_type": "stream",
     "text": [
      "Processing Graph Files:  87%|████████▋ | 598/691 [12:22:57<2:00:02, 77.44s/it]"
     ]
    },
    {
     "name": "stdout",
     "output_type": "stream",
     "text": [
      "Centralities for graph saved to monthly_centralities_csv_new/centralities_1956-12.csv\n"
     ]
    },
    {
     "name": "stderr",
     "output_type": "stream",
     "text": [
      "Processing Graph Files:  87%|████████▋ | 599/691 [12:24:09<1:56:07, 75.74s/it]"
     ]
    },
    {
     "name": "stdout",
     "output_type": "stream",
     "text": [
      "Centralities for graph saved to monthly_centralities_csv_new/centralities_1956-06.csv\n"
     ]
    },
    {
     "name": "stderr",
     "output_type": "stream",
     "text": [
      "Processing Graph Files:  87%|████████▋ | 600/691 [12:25:31<1:57:47, 77.67s/it]"
     ]
    },
    {
     "name": "stdout",
     "output_type": "stream",
     "text": [
      "Centralities for graph saved to monthly_centralities_csv_new/centralities_1981-10.csv\n"
     ]
    },
    {
     "name": "stderr",
     "output_type": "stream",
     "text": [
      "Processing Graph Files:  87%|████████▋ | 601/691 [12:27:08<2:05:16, 83.52s/it]"
     ]
    },
    {
     "name": "stdout",
     "output_type": "stream",
     "text": [
      "Centralities for graph saved to monthly_centralities_csv_new/centralities_1958-03.csv\n"
     ]
    },
    {
     "name": "stderr",
     "output_type": "stream",
     "text": [
      "Processing Graph Files:  87%|████████▋ | 602/691 [12:28:29<2:02:44, 82.75s/it]"
     ]
    },
    {
     "name": "stdout",
     "output_type": "stream",
     "text": [
      "Centralities for graph saved to monthly_centralities_csv_new/centralities_1981-04.csv\n"
     ]
    },
    {
     "name": "stderr",
     "output_type": "stream",
     "text": [
      "Processing Graph Files:  87%|████████▋ | 603/691 [12:29:23<1:48:44, 74.14s/it]"
     ]
    },
    {
     "name": "stdout",
     "output_type": "stream",
     "text": [
      "Centralities for graph saved to monthly_centralities_csv_new/centralities_1972-07.csv\n"
     ]
    },
    {
     "name": "stderr",
     "output_type": "stream",
     "text": [
      "Processing Graph Files:  87%|████████▋ | 604/691 [12:30:37<1:47:16, 73.98s/it]"
     ]
    },
    {
     "name": "stdout",
     "output_type": "stream",
     "text": [
      "Centralities for graph saved to monthly_centralities_csv_new/centralities_1954-03.csv\n"
     ]
    },
    {
     "name": "stderr",
     "output_type": "stream",
     "text": [
      "Processing Graph Files:  88%|████████▊ | 605/691 [12:31:54<1:47:15, 74.83s/it]"
     ]
    },
    {
     "name": "stdout",
     "output_type": "stream",
     "text": [
      "Centralities for graph saved to monthly_centralities_csv_new/centralities_1984-08.csv\n"
     ]
    },
    {
     "name": "stderr",
     "output_type": "stream",
     "text": [
      "Processing Graph Files:  88%|████████▊ | 606/691 [12:33:17<1:49:35, 77.36s/it]"
     ]
    },
    {
     "name": "stdout",
     "output_type": "stream",
     "text": [
      "Centralities for graph saved to monthly_centralities_csv_new/centralities_1983-01.csv\n"
     ]
    },
    {
     "name": "stderr",
     "output_type": "stream",
     "text": [
      "Processing Graph Files:  88%|████████▊ | 607/691 [12:34:19<1:41:52, 72.77s/it]"
     ]
    },
    {
     "name": "stdout",
     "output_type": "stream",
     "text": [
      "Centralities for graph saved to monthly_centralities_csv_new/centralities_1962-02.csv\n"
     ]
    },
    {
     "name": "stderr",
     "output_type": "stream",
     "text": [
      "Processing Graph Files:  88%|████████▊ | 608/691 [12:35:38<1:43:07, 74.55s/it]"
     ]
    },
    {
     "name": "stdout",
     "output_type": "stream",
     "text": [
      "Centralities for graph saved to monthly_centralities_csv_new/centralities_1993-04.csv\n"
     ]
    },
    {
     "name": "stderr",
     "output_type": "stream",
     "text": [
      "Processing Graph Files:  88%|████████▊ | 609/691 [12:37:01<1:45:32, 77.22s/it]"
     ]
    },
    {
     "name": "stdout",
     "output_type": "stream",
     "text": [
      "Centralities for graph saved to monthly_centralities_csv_new/centralities_1993-10.csv\n"
     ]
    },
    {
     "name": "stderr",
     "output_type": "stream",
     "text": [
      "Processing Graph Files:  88%|████████▊ | 610/691 [12:38:24<1:46:20, 78.78s/it]"
     ]
    },
    {
     "name": "stdout",
     "output_type": "stream",
     "text": [
      "Centralities for graph saved to monthly_centralities_csv_new/centralities_1994-09.csv\n"
     ]
    },
    {
     "name": "stderr",
     "output_type": "stream",
     "text": [
      "Processing Graph Files:  88%|████████▊ | 611/691 [12:39:32<1:40:47, 75.60s/it]"
     ]
    },
    {
     "name": "stdout",
     "output_type": "stream",
     "text": [
      "Centralities for graph saved to monthly_centralities_csv_new/centralities_1962-12.csv\n"
     ]
    },
    {
     "name": "stderr",
     "output_type": "stream",
     "text": [
      "Processing Graph Files:  89%|████████▊ | 612/691 [12:40:33<1:33:45, 71.21s/it]"
     ]
    },
    {
     "name": "stdout",
     "output_type": "stream",
     "text": [
      "Centralities for graph saved to monthly_centralities_csv_new/centralities_1962-06.csv\n"
     ]
    },
    {
     "name": "stderr",
     "output_type": "stream",
     "text": [
      "Processing Graph Files:  89%|████████▊ | 613/691 [12:41:46<1:33:26, 71.87s/it]"
     ]
    },
    {
     "name": "stdout",
     "output_type": "stream",
     "text": [
      "Centralities for graph saved to monthly_centralities_csv_new/centralities_1954-07.csv\n"
     ]
    },
    {
     "name": "stderr",
     "output_type": "stream",
     "text": [
      "Processing Graph Files:  89%|████████▉ | 614/691 [12:43:08<1:35:58, 74.79s/it]"
     ]
    },
    {
     "name": "stdout",
     "output_type": "stream",
     "text": [
      "Centralities for graph saved to monthly_centralities_csv_new/centralities_1983-05.csv\n"
     ]
    },
    {
     "name": "stderr",
     "output_type": "stream",
     "text": [
      "Processing Graph Files:  89%|████████▉ | 615/691 [12:44:29<1:37:13, 76.75s/it]"
     ]
    },
    {
     "name": "stdout",
     "output_type": "stream",
     "text": [
      "Centralities for graph saved to monthly_centralities_csv_new/centralities_1983-11.csv\n"
     ]
    },
    {
     "name": "stderr",
     "output_type": "stream",
     "text": [
      "Processing Graph Files:  89%|████████▉ | 616/691 [12:45:25<1:27:59, 70.40s/it]"
     ]
    },
    {
     "name": "stdout",
     "output_type": "stream",
     "text": [
      "Centralities for graph saved to monthly_centralities_csv_new/centralities_1972-03.csv\n"
     ]
    },
    {
     "name": "stderr",
     "output_type": "stream",
     "text": [
      "Processing Graph Files:  89%|████████▉ | 617/691 [12:46:47<1:31:15, 73.99s/it]"
     ]
    },
    {
     "name": "stdout",
     "output_type": "stream",
     "text": [
      "Centralities for graph saved to monthly_centralities_csv_new/centralities_1956-02.csv\n"
     ]
    },
    {
     "name": "stderr",
     "output_type": "stream",
     "text": [
      "Processing Graph Files:  89%|████████▉ | 618/691 [12:48:08<1:32:40, 76.17s/it]"
     ]
    },
    {
     "name": "stdout",
     "output_type": "stream",
     "text": [
      "Centralities for graph saved to monthly_centralities_csv_new/centralities_1986-09.csv\n"
     ]
    },
    {
     "name": "stderr",
     "output_type": "stream",
     "text": [
      "Processing Graph Files:  90%|████████▉ | 619/691 [12:49:48<1:39:49, 83.18s/it]"
     ]
    },
    {
     "name": "stdout",
     "output_type": "stream",
     "text": [
      "Centralities for graph saved to monthly_centralities_csv_new/centralities_1958-07.csv\n"
     ]
    },
    {
     "name": "stderr",
     "output_type": "stream",
     "text": [
      "Processing Graph Files:  90%|████████▉ | 620/691 [12:50:37<1:26:18, 72.94s/it]"
     ]
    },
    {
     "name": "stdout",
     "output_type": "stream",
     "text": [
      "Centralities for graph saved to monthly_centralities_csv_new/centralities_1970-06.csv\n"
     ]
    },
    {
     "name": "stderr",
     "output_type": "stream",
     "text": [
      "Processing Graph Files:  90%|████████▉ | 621/691 [12:51:28<1:17:19, 66.28s/it]"
     ]
    },
    {
     "name": "stdout",
     "output_type": "stream",
     "text": [
      "Centralities for graph saved to monthly_centralities_csv_new/centralities_1970-12.csv\n"
     ]
    },
    {
     "name": "stderr",
     "output_type": "stream",
     "text": [
      "Processing Graph Files:  90%|█████████ | 622/691 [12:53:03<1:26:17, 75.04s/it]"
     ]
    },
    {
     "name": "stdout",
     "output_type": "stream",
     "text": [
      "Centralities for graph saved to monthly_centralities_csv_new/centralities_1998-09.csv\n"
     ]
    },
    {
     "name": "stderr",
     "output_type": "stream",
     "text": [
      "Processing Graph Files:  90%|█████████ | 623/691 [12:53:25<1:07:05, 59.19s/it]"
     ]
    },
    {
     "name": "stdout",
     "output_type": "stream",
     "text": [
      "Centralities for graph saved to monthly_centralities_csv_new/centralities_1946-07.csv\n"
     ]
    },
    {
     "name": "stderr",
     "output_type": "stream",
     "text": [
      "Processing Graph Files:  90%|█████████ | 624/691 [12:53:47<53:31, 47.94s/it]  "
     ]
    },
    {
     "name": "stdout",
     "output_type": "stream",
     "text": [
      "Centralities for graph saved to monthly_centralities_csv_new/centralities_1948-02.csv\n"
     ]
    },
    {
     "name": "stderr",
     "output_type": "stream",
     "text": [
      "Processing Graph Files:  90%|█████████ | 625/691 [12:55:10<1:04:13, 58.38s/it]"
     ]
    },
    {
     "name": "stdout",
     "output_type": "stream",
     "text": [
      "Centralities for graph saved to monthly_centralities_csv_new/centralities_1991-11.csv\n"
     ]
    },
    {
     "name": "stderr",
     "output_type": "stream",
     "text": [
      "Processing Graph Files:  91%|█████████ | 626/691 [12:56:35<1:11:47, 66.28s/it]"
     ]
    },
    {
     "name": "stdout",
     "output_type": "stream",
     "text": [
      "Centralities for graph saved to monthly_centralities_csv_new/centralities_1991-05.csv\n"
     ]
    },
    {
     "name": "stderr",
     "output_type": "stream",
     "text": [
      "Processing Graph Files:  91%|█████████ | 627/691 [12:58:21<1:23:32, 78.32s/it]"
     ]
    },
    {
     "name": "stdout",
     "output_type": "stream",
     "text": [
      "Centralities for graph saved to monthly_centralities_csv_new/centralities_1960-03.csv\n"
     ]
    },
    {
     "name": "stderr",
     "output_type": "stream",
     "text": [
      "Processing Graph Files:  91%|█████████ | 628/691 [12:59:55<1:27:09, 83.00s/it]"
     ]
    },
    {
     "name": "stdout",
     "output_type": "stream",
     "text": [
      "Centralities for graph saved to monthly_centralities_csv_new/centralities_1960-02.csv\n"
     ]
    },
    {
     "name": "stderr",
     "output_type": "stream",
     "text": [
      "Processing Graph Files:  91%|█████████ | 629/691 [13:01:18<1:25:42, 82.94s/it]"
     ]
    },
    {
     "name": "stdout",
     "output_type": "stream",
     "text": [
      "Centralities for graph saved to monthly_centralities_csv_new/centralities_1991-04.csv\n"
     ]
    },
    {
     "name": "stderr",
     "output_type": "stream",
     "text": [
      "Processing Graph Files:  91%|█████████ | 630/691 [13:02:37<1:23:05, 81.72s/it]"
     ]
    },
    {
     "name": "stdout",
     "output_type": "stream",
     "text": [
      "Centralities for graph saved to monthly_centralities_csv_new/centralities_1991-10.csv\n"
     ]
    },
    {
     "name": "stderr",
     "output_type": "stream",
     "text": [
      "Processing Graph Files:  91%|█████████▏| 631/691 [13:03:01<1:04:38, 64.65s/it]"
     ]
    },
    {
     "name": "stdout",
     "output_type": "stream",
     "text": [
      "Centralities for graph saved to monthly_centralities_csv_new/centralities_1948-03.csv\n"
     ]
    },
    {
     "name": "stderr",
     "output_type": "stream",
     "text": [
      "Processing Graph Files:  91%|█████████▏| 632/691 [13:03:21<50:23, 51.25s/it]  "
     ]
    },
    {
     "name": "stdout",
     "output_type": "stream",
     "text": [
      "Centralities for graph saved to monthly_centralities_csv_new/centralities_1946-06.csv\n"
     ]
    },
    {
     "name": "stderr",
     "output_type": "stream",
     "text": [
      "Processing Graph Files:  92%|█████████▏| 633/691 [13:03:44<41:09, 42.58s/it]"
     ]
    },
    {
     "name": "stdout",
     "output_type": "stream",
     "text": [
      "Centralities for graph saved to monthly_centralities_csv_new/centralities_1946-12.csv\n"
     ]
    },
    {
     "name": "stderr",
     "output_type": "stream",
     "text": [
      "Processing Graph Files:  92%|█████████▏| 634/691 [13:05:15<54:16, 57.14s/it]"
     ]
    },
    {
     "name": "stdout",
     "output_type": "stream",
     "text": [
      "Centralities for graph saved to monthly_centralities_csv_new/centralities_1998-08.csv\n"
     ]
    },
    {
     "name": "stderr",
     "output_type": "stream",
     "text": [
      "Processing Graph Files:  92%|█████████▏| 635/691 [13:06:05<51:16, 54.93s/it]"
     ]
    },
    {
     "name": "stdout",
     "output_type": "stream",
     "text": [
      "Centralities for graph saved to monthly_centralities_csv_new/centralities_1970-07.csv\n"
     ]
    },
    {
     "name": "stderr",
     "output_type": "stream",
     "text": [
      "Processing Graph Files:  92%|█████████▏| 636/691 [13:07:40<1:01:21, 66.93s/it]"
     ]
    },
    {
     "name": "stdout",
     "output_type": "stream",
     "text": [
      "Centralities for graph saved to monthly_centralities_csv_new/centralities_1958-06.csv\n"
     ]
    },
    {
     "name": "stderr",
     "output_type": "stream",
     "text": [
      "Processing Graph Files:  92%|█████████▏| 637/691 [13:09:05<1:05:12, 72.46s/it]"
     ]
    },
    {
     "name": "stdout",
     "output_type": "stream",
     "text": [
      "Centralities for graph saved to monthly_centralities_csv_new/centralities_1986-08.csv\n"
     ]
    },
    {
     "name": "stderr",
     "output_type": "stream",
     "text": [
      "Processing Graph Files:  92%|█████████▏| 638/691 [13:10:48<1:12:05, 81.62s/it]"
     ]
    },
    {
     "name": "stdout",
     "output_type": "stream",
     "text": [
      "Centralities for graph saved to monthly_centralities_csv_new/centralities_1958-12.csv\n"
     ]
    },
    {
     "name": "stderr",
     "output_type": "stream",
     "text": [
      "Processing Graph Files:  92%|█████████▏| 639/691 [13:12:08<1:10:20, 81.16s/it]"
     ]
    },
    {
     "name": "stdout",
     "output_type": "stream",
     "text": [
      "Centralities for graph saved to monthly_centralities_csv_new/centralities_1981-01.csv\n"
     ]
    },
    {
     "name": "stderr",
     "output_type": "stream",
     "text": [
      "Processing Graph Files:  93%|█████████▎| 640/691 [13:13:17<1:05:49, 77.43s/it]"
     ]
    },
    {
     "name": "stdout",
     "output_type": "stream",
     "text": [
      "Centralities for graph saved to monthly_centralities_csv_new/centralities_1956-03.csv\n"
     ]
    },
    {
     "name": "stderr",
     "output_type": "stream",
     "text": [
      "Processing Graph Files:  93%|█████████▎| 641/691 [13:14:09<58:10, 69.82s/it]  "
     ]
    },
    {
     "name": "stdout",
     "output_type": "stream",
     "text": [
      "Centralities for graph saved to monthly_centralities_csv_new/centralities_1972-02.csv\n"
     ]
    },
    {
     "name": "stderr",
     "output_type": "stream",
     "text": [
      "Processing Graph Files:  93%|█████████▎| 642/691 [13:15:29<59:40, 73.07s/it]"
     ]
    },
    {
     "name": "stdout",
     "output_type": "stream",
     "text": [
      "Centralities for graph saved to monthly_centralities_csv_new/centralities_1983-10.csv\n"
     ]
    },
    {
     "name": "stderr",
     "output_type": "stream",
     "text": [
      "Processing Graph Files:  93%|█████████▎| 643/691 [13:16:50<1:00:19, 75.40s/it]"
     ]
    },
    {
     "name": "stdout",
     "output_type": "stream",
     "text": [
      "Centralities for graph saved to monthly_centralities_csv_new/centralities_1983-04.csv\n"
     ]
    },
    {
     "name": "stderr",
     "output_type": "stream",
     "text": [
      "Processing Graph Files:  93%|█████████▎| 644/691 [13:18:03<58:20, 74.49s/it]  "
     ]
    },
    {
     "name": "stdout",
     "output_type": "stream",
     "text": [
      "Centralities for graph saved to monthly_centralities_csv_new/centralities_1954-12.csv\n"
     ]
    },
    {
     "name": "stderr",
     "output_type": "stream",
     "text": [
      "Processing Graph Files:  93%|█████████▎| 645/691 [13:19:14<56:20, 73.49s/it]"
     ]
    },
    {
     "name": "stdout",
     "output_type": "stream",
     "text": [
      "Centralities for graph saved to monthly_centralities_csv_new/centralities_1954-06.csv\n"
     ]
    },
    {
     "name": "stderr",
     "output_type": "stream",
     "text": [
      "Processing Graph Files:  93%|█████████▎| 646/691 [13:20:16<52:37, 70.16s/it]"
     ]
    },
    {
     "name": "stdout",
     "output_type": "stream",
     "text": [
      "Centralities for graph saved to monthly_centralities_csv_new/centralities_1962-07.csv\n"
     ]
    },
    {
     "name": "stderr",
     "output_type": "stream",
     "text": [
      "Processing Graph Files:  94%|█████████▎| 647/691 [13:21:31<52:35, 71.71s/it]"
     ]
    },
    {
     "name": "stdout",
     "output_type": "stream",
     "text": [
      "Centralities for graph saved to monthly_centralities_csv_new/centralities_1993-01.csv\n"
     ]
    },
    {
     "name": "stderr",
     "output_type": "stream",
     "text": [
      "Processing Graph Files:  94%|█████████▍| 648/691 [13:22:56<54:06, 75.50s/it]"
     ]
    },
    {
     "name": "stdout",
     "output_type": "stream",
     "text": [
      "Centralities for graph saved to monthly_centralities_csv_new/centralities_1994-08.csv\n"
     ]
    },
    {
     "name": "stderr",
     "output_type": "stream",
     "text": [
      "Processing Graph Files:  94%|█████████▍| 649/691 [13:24:19<54:28, 77.83s/it]"
     ]
    },
    {
     "name": "stdout",
     "output_type": "stream",
     "text": [
      "Centralities for graph saved to monthly_centralities_csv_new/centralities_1993-03.csv\n"
     ]
    },
    {
     "name": "stderr",
     "output_type": "stream",
     "text": [
      "Processing Graph Files:  94%|█████████▍| 650/691 [13:25:32<52:09, 76.33s/it]"
     ]
    },
    {
     "name": "stdout",
     "output_type": "stream",
     "text": [
      "Centralities for graph saved to monthly_centralities_csv_new/centralities_1962-05.csv\n"
     ]
    },
    {
     "name": "stderr",
     "output_type": "stream",
     "text": [
      "Processing Graph Files:  94%|█████████▍| 651/691 [13:26:28<46:55, 70.39s/it]"
     ]
    },
    {
     "name": "stdout",
     "output_type": "stream",
     "text": [
      "Centralities for graph saved to monthly_centralities_csv_new/centralities_1962-11.csv\n"
     ]
    },
    {
     "name": "stderr",
     "output_type": "stream",
     "text": [
      "Processing Graph Files:  94%|█████████▍| 652/691 [13:27:40<46:01, 70.80s/it]"
     ]
    },
    {
     "name": "stdout",
     "output_type": "stream",
     "text": [
      "Centralities for graph saved to monthly_centralities_csv_new/centralities_1954-10.csv\n"
     ]
    },
    {
     "name": "stderr",
     "output_type": "stream",
     "text": [
      "Processing Graph Files:  95%|█████████▍| 653/691 [13:29:11<48:43, 76.94s/it]"
     ]
    },
    {
     "name": "stdout",
     "output_type": "stream",
     "text": [
      "Centralities for graph saved to monthly_centralities_csv_new/centralities_2000-09.csv\n"
     ]
    },
    {
     "name": "stderr",
     "output_type": "stream",
     "text": [
      "Processing Graph Files:  95%|█████████▍| 654/691 [13:30:20<45:57, 74.51s/it]"
     ]
    },
    {
     "name": "stdout",
     "output_type": "stream",
     "text": [
      "Centralities for graph saved to monthly_centralities_csv_new/centralities_1954-04.csv\n"
     ]
    },
    {
     "name": "stderr",
     "output_type": "stream",
     "text": [
      "Processing Graph Files:  95%|█████████▍| 655/691 [13:31:43<46:11, 77.00s/it]"
     ]
    },
    {
     "name": "stdout",
     "output_type": "stream",
     "text": [
      "Centralities for graph saved to monthly_centralities_csv_new/centralities_1983-12.csv\n"
     ]
    },
    {
     "name": "stderr",
     "output_type": "stream",
     "text": [
      "Processing Graph Files:  95%|█████████▍| 656/691 [13:33:02<45:12, 77.49s/it]"
     ]
    },
    {
     "name": "stdout",
     "output_type": "stream",
     "text": [
      "Centralities for graph saved to monthly_centralities_csv_new/centralities_1983-06.csv\n"
     ]
    },
    {
     "name": "stderr",
     "output_type": "stream",
     "text": [
      "Processing Graph Files:  95%|█████████▌| 657/691 [13:33:53<39:31, 69.75s/it]"
     ]
    },
    {
     "name": "stdout",
     "output_type": "stream",
     "text": [
      "Centralities for graph saved to monthly_centralities_csv_new/centralities_1975-09.csv\n"
     ]
    },
    {
     "name": "stderr",
     "output_type": "stream",
     "text": [
      "Processing Graph Files:  95%|█████████▌| 658/691 [13:34:54<36:52, 67.03s/it]"
     ]
    },
    {
     "name": "stdout",
     "output_type": "stream",
     "text": [
      "Centralities for graph saved to monthly_centralities_csv_new/centralities_1956-01.csv\n"
     ]
    },
    {
     "name": "stderr",
     "output_type": "stream",
     "text": [
      "Processing Graph Files:  95%|█████████▌| 659/691 [13:36:00<35:34, 66.69s/it]"
     ]
    },
    {
     "name": "stdout",
     "output_type": "stream",
     "text": [
      "Centralities for graph saved to monthly_centralities_csv_new/centralities_1951-08.csv\n"
     ]
    },
    {
     "name": "stderr",
     "output_type": "stream",
     "text": [
      "Processing Graph Files:  96%|█████████▌| 660/691 [13:37:36<39:01, 75.54s/it]"
     ]
    },
    {
     "name": "stdout",
     "output_type": "stream",
     "text": [
      "Centralities for graph saved to monthly_centralities_csv_new/centralities_1958-04.csv\n"
     ]
    },
    {
     "name": "stderr",
     "output_type": "stream",
     "text": [
      "Processing Graph Files:  96%|█████████▌| 661/691 [13:38:59<38:52, 77.75s/it]"
     ]
    },
    {
     "name": "stdout",
     "output_type": "stream",
     "text": [
      "Centralities for graph saved to monthly_centralities_csv_new/centralities_1981-03.csv\n"
     ]
    },
    {
     "name": "stderr",
     "output_type": "stream",
     "text": [
      "Processing Graph Files:  96%|█████████▌| 662/691 [13:40:34<40:03, 82.90s/it]"
     ]
    },
    {
     "name": "stdout",
     "output_type": "stream",
     "text": [
      "Centralities for graph saved to monthly_centralities_csv_new/centralities_1958-10.csv\n"
     ]
    },
    {
     "name": "stderr",
     "output_type": "stream",
     "text": [
      "Processing Graph Files:  96%|█████████▌| 663/691 [13:41:25<34:12, 73.31s/it]"
     ]
    },
    {
     "name": "stdout",
     "output_type": "stream",
     "text": [
      "Centralities for graph saved to monthly_centralities_csv_new/centralities_1970-11.csv\n"
     ]
    },
    {
     "name": "stderr",
     "output_type": "stream",
     "text": [
      "Processing Graph Files:  96%|█████████▌| 664/691 [13:42:11<29:15, 65.03s/it]"
     ]
    },
    {
     "name": "stdout",
     "output_type": "stream",
     "text": [
      "Centralities for graph saved to monthly_centralities_csv_new/centralities_1970-05.csv\n"
     ]
    },
    {
     "name": "stderr",
     "output_type": "stream",
     "text": [
      "Processing Graph Files:  96%|█████████▌| 665/691 [13:43:20<28:48, 66.46s/it]"
     ]
    },
    {
     "name": "stdout",
     "output_type": "stream",
     "text": [
      "Centralities for graph saved to monthly_centralities_csv_new/centralities_1979-09.csv\n"
     ]
    },
    {
     "name": "stderr",
     "output_type": "stream",
     "text": [
      "Processing Graph Files:  96%|█████████▋| 666/691 [13:43:44<22:17, 53.49s/it]"
     ]
    },
    {
     "name": "stdout",
     "output_type": "stream",
     "text": [
      "Centralities for graph saved to monthly_centralities_csv_new/centralities_1946-10.csv\n"
     ]
    },
    {
     "name": "stderr",
     "output_type": "stream",
     "text": [
      "Processing Graph Files:  97%|█████████▋| 667/691 [13:45:08<25:04, 62.68s/it]"
     ]
    },
    {
     "name": "stdout",
     "output_type": "stream",
     "text": [
      "Centralities for graph saved to monthly_centralities_csv_new/centralities_1991-06.csv\n"
     ]
    },
    {
     "name": "stderr",
     "output_type": "stream",
     "text": [
      "Processing Graph Files:  97%|█████████▋| 668/691 [13:45:29<19:14, 50.18s/it]"
     ]
    },
    {
     "name": "stdout",
     "output_type": "stream",
     "text": [
      "Centralities for graph saved to monthly_centralities_csv_new/centralities_1948-01.csv\n"
     ]
    },
    {
     "name": "stderr",
     "output_type": "stream",
     "text": [
      "Processing Graph Files:  97%|█████████▋| 669/691 [13:46:53<22:05, 60.26s/it]"
     ]
    },
    {
     "name": "stdout",
     "output_type": "stream",
     "text": [
      "Centralities for graph saved to monthly_centralities_csv_new/centralities_1991-12.csv\n"
     ]
    },
    {
     "name": "stderr",
     "output_type": "stream",
     "text": [
      "Processing Graph Files:  97%|█████████▋| 670/691 [13:47:37<19:23, 55.38s/it]"
     ]
    },
    {
     "name": "stdout",
     "output_type": "stream",
     "text": [
      "Centralities for graph saved to monthly_centralities_csv_new/centralities_1967-09.csv\n"
     ]
    },
    {
     "name": "stderr",
     "output_type": "stream",
     "text": [
      "Processing Graph Files:  97%|█████████▋| 671/691 [13:48:22<17:25, 52.29s/it]"
     ]
    },
    {
     "name": "stdout",
     "output_type": "stream",
     "text": [
      "Centralities for graph saved to monthly_centralities_csv_new/centralities_1967-08.csv\n"
     ]
    },
    {
     "name": "stderr",
     "output_type": "stream",
     "text": [
      "Processing Graph Files:  97%|█████████▋| 672/691 [13:49:55<20:29, 64.70s/it]"
     ]
    },
    {
     "name": "stdout",
     "output_type": "stream",
     "text": [
      "Centralities for graph saved to monthly_centralities_csv_new/centralities_1960-01.csv\n"
     ]
    },
    {
     "name": "stderr",
     "output_type": "stream",
     "text": [
      "Processing Graph Files:  97%|█████████▋| 673/691 [13:51:19<21:07, 70.42s/it]"
     ]
    },
    {
     "name": "stdout",
     "output_type": "stream",
     "text": [
      "Centralities for graph saved to monthly_centralities_csv_new/centralities_1991-07.csv\n"
     ]
    },
    {
     "name": "stderr",
     "output_type": "stream",
     "text": [
      "Processing Graph Files:  98%|█████████▊| 674/691 [13:51:41<15:51, 55.99s/it]"
     ]
    },
    {
     "name": "stdout",
     "output_type": "stream",
     "text": [
      "Centralities for graph saved to monthly_centralities_csv_new/centralities_1946-11.csv\n"
     ]
    },
    {
     "name": "stderr",
     "output_type": "stream",
     "text": [
      "Processing Graph Files:  98%|█████████▊| 675/691 [13:51:56<11:34, 43.43s/it]"
     ]
    },
    {
     "name": "stdout",
     "output_type": "stream",
     "text": [
      "Centralities for graph saved to monthly_centralities_csv_new/centralities_1946-05.csv\n"
     ]
    },
    {
     "name": "stderr",
     "output_type": "stream",
     "text": [
      "Processing Graph Files:  98%|█████████▊| 676/691 [13:53:11<13:14, 52.93s/it]"
     ]
    },
    {
     "name": "stdout",
     "output_type": "stream",
     "text": [
      "Centralities for graph saved to monthly_centralities_csv_new/centralities_1979-08.csv\n"
     ]
    },
    {
     "name": "stderr",
     "output_type": "stream",
     "text": [
      "Processing Graph Files:  98%|█████████▊| 677/691 [13:53:59<11:59, 51.42s/it]"
     ]
    },
    {
     "name": "stdout",
     "output_type": "stream",
     "text": [
      "Centralities for graph saved to monthly_centralities_csv_new/centralities_1970-04.csv\n"
     ]
    },
    {
     "name": "stderr",
     "output_type": "stream",
     "text": [
      "Processing Graph Files:  98%|█████████▊| 678/691 [13:54:47<10:56, 50.49s/it]"
     ]
    },
    {
     "name": "stdout",
     "output_type": "stream",
     "text": [
      "Centralities for graph saved to monthly_centralities_csv_new/centralities_1970-10.csv\n"
     ]
    },
    {
     "name": "stderr",
     "output_type": "stream",
     "text": [
      "Processing Graph Files:  98%|█████████▊| 679/691 [13:56:26<13:00, 65.08s/it]"
     ]
    },
    {
     "name": "stdout",
     "output_type": "stream",
     "text": [
      "Centralities for graph saved to monthly_centralities_csv_new/centralities_1958-11.csv\n"
     ]
    },
    {
     "name": "stderr",
     "output_type": "stream",
     "text": [
      "Processing Graph Files:  98%|█████████▊| 680/691 [13:57:37<12:15, 66.87s/it]"
     ]
    },
    {
     "name": "stdout",
     "output_type": "stream",
     "text": [
      "Centralities for graph saved to monthly_centralities_csv_new/centralities_1981-02.csv\n"
     ]
    },
    {
     "name": "stderr",
     "output_type": "stream",
     "text": [
      "Processing Graph Files:  99%|█████████▊| 681/691 [13:59:15<12:42, 76.28s/it]"
     ]
    },
    {
     "name": "stdout",
     "output_type": "stream",
     "text": [
      "Centralities for graph saved to monthly_centralities_csv_new/centralities_1958-05.csv\n"
     ]
    },
    {
     "name": "stderr",
     "output_type": "stream",
     "text": [
      "Processing Graph Files:  99%|█████████▊| 682/691 [14:00:18<10:49, 72.21s/it]"
     ]
    },
    {
     "name": "stdout",
     "output_type": "stream",
     "text": [
      "Centralities for graph saved to monthly_centralities_csv_new/centralities_1951-09.csv\n"
     ]
    },
    {
     "name": "stderr",
     "output_type": "stream",
     "text": [
      "Processing Graph Files:  99%|█████████▉| 683/691 [14:01:14<08:57, 67.25s/it]"
     ]
    },
    {
     "name": "stdout",
     "output_type": "stream",
     "text": [
      "Centralities for graph saved to monthly_centralities_csv_new/centralities_1972-01.csv\n"
     ]
    },
    {
     "name": "stderr",
     "output_type": "stream",
     "text": [
      "Processing Graph Files:  99%|█████████▉| 684/691 [14:02:14<07:35, 65.14s/it]"
     ]
    },
    {
     "name": "stdout",
     "output_type": "stream",
     "text": [
      "Centralities for graph saved to monthly_centralities_csv_new/centralities_1975-08.csv\n"
     ]
    },
    {
     "name": "stderr",
     "output_type": "stream",
     "text": [
      "Processing Graph Files:  99%|█████████▉| 685/691 [14:03:39<07:06, 71.07s/it]"
     ]
    },
    {
     "name": "stdout",
     "output_type": "stream",
     "text": [
      "Centralities for graph saved to monthly_centralities_csv_new/centralities_1983-07.csv\n"
     ]
    },
    {
     "name": "stderr",
     "output_type": "stream",
     "text": [
      "Processing Graph Files:  99%|█████████▉| 686/691 [14:04:49<05:53, 70.73s/it]"
     ]
    },
    {
     "name": "stdout",
     "output_type": "stream",
     "text": [
      "Centralities for graph saved to monthly_centralities_csv_new/centralities_1954-05.csv\n"
     ]
    },
    {
     "name": "stderr",
     "output_type": "stream",
     "text": [
      "Processing Graph Files:  99%|█████████▉| 687/691 [14:05:58<04:41, 70.35s/it]"
     ]
    },
    {
     "name": "stdout",
     "output_type": "stream",
     "text": [
      "Centralities for graph saved to monthly_centralities_csv_new/centralities_1954-11.csv\n"
     ]
    },
    {
     "name": "stderr",
     "output_type": "stream",
     "text": [
      "Processing Graph Files: 100%|█████████▉| 688/691 [14:07:36<03:56, 78.71s/it]"
     ]
    },
    {
     "name": "stdout",
     "output_type": "stream",
     "text": [
      "Centralities for graph saved to monthly_centralities_csv_new/centralities_2000-08.csv\n"
     ]
    },
    {
     "name": "stderr",
     "output_type": "stream",
     "text": [
      "Processing Graph Files: 100%|█████████▉| 689/691 [14:08:32<02:23, 71.85s/it]"
     ]
    },
    {
     "name": "stdout",
     "output_type": "stream",
     "text": [
      "Centralities for graph saved to monthly_centralities_csv_new/centralities_1962-10.csv\n"
     ]
    },
    {
     "name": "stderr",
     "output_type": "stream",
     "text": [
      "Processing Graph Files: 100%|█████████▉| 690/691 [14:09:37<01:09, 69.68s/it]"
     ]
    },
    {
     "name": "stdout",
     "output_type": "stream",
     "text": [
      "Centralities for graph saved to monthly_centralities_csv_new/centralities_1962-04.csv\n"
     ]
    },
    {
     "name": "stderr",
     "output_type": "stream",
     "text": [
      "Processing Graph Files: 100%|██████████| 691/691 [14:10:49<00:00, 73.88s/it]"
     ]
    },
    {
     "name": "stdout",
     "output_type": "stream",
     "text": [
      "Centralities for graph saved to monthly_centralities_csv_new/centralities_1993-02.csv\n",
      "All centralities have been saved to monthly_centralities_csv_new\n"
     ]
    },
    {
     "name": "stderr",
     "output_type": "stream",
     "text": [
      "\n"
     ]
    }
   ],
   "source": [
    "input_folder = \"monthly_graphs_new\"\n",
    "output_folder = \"monthly_centralities_csv_new\"\n",
    "\n",
    "os.makedirs(output_folder, exist_ok=True)\n",
    "\n",
    "graph_files = [f for f in os.listdir(input_folder) if f.endswith(\".pkl\")]\n",
    "\n",
    "# iterate over all monthly graph files and compute centralities\n",
    "for graph_file in tqdm(graph_files, desc=\"Processing Graph Files\"):\n",
    "    input_file = os.path.join(input_folder, graph_file)\n",
    "    with open(input_file, \"rb\") as f:\n",
    "        G = pickle.load(f)\n",
    "    \n",
    "    month = graph_file.split('_')[1].split('.')[0]\n",
    "    \n",
    "    output_file = os.path.join(output_folder, f\"centralities_{month}.csv\")\n",
    "    \n",
    "    compute_centralities(G, output_file)\n",
    "\n",
    "print(f\"All centralities have been saved to {output_folder}\")"
   ]
  },
  {
   "cell_type": "code",
   "execution_count": null,
   "metadata": {},
   "outputs": [
    {
     "name": "stdout",
     "output_type": "stream",
     "text": [
      "Processed and updated: centralities_1977-06.csv\n",
      "Processed and updated: centralities_1977-12.csv\n",
      "Processed and updated: centralities_1979-03.csv\n",
      "Processed and updated: centralities_2002-12.csv\n",
      "Processed and updated: centralities_1951-02.csv\n",
      "Processed and updated: centralities_1988-11.csv\n",
      "Processed and updated: centralities_1988-05.csv\n",
      "Processed and updated: centralities_2002-06.csv\n",
      "Processed and updated: centralities_1981-09.csv\n",
      "Processed and updated: centralities_1967-03.csv\n",
      "Processed and updated: centralities_1969-06.csv\n",
      "Processed and updated: centralities_1969-12.csv\n",
      "Processed and updated: centralities_1996-11.csv\n",
      "Processed and updated: centralities_1996-05.csv\n",
      "Processed and updated: centralities_1965-12.csv\n",
      "Processed and updated: centralities_1965-06.csv\n",
      "Processed and updated: centralities_1993-09.csv\n",
      "Processed and updated: centralities_1975-03.csv\n",
      "Processed and updated: centralities_1953-07.csv\n",
      "Processed and updated: centralities_2000-03.csv\n",
      "Processed and updated: centralities_1984-05.csv\n",
      "Processed and updated: centralities_1984-11.csv\n",
      "Processed and updated: centralities_1984-10.csv\n",
      "Processed and updated: centralities_1984-04.csv\n",
      "Processed and updated: centralities_2000-02.csv\n",
      "Processed and updated: centralities_1953-12.csv\n",
      "Processed and updated: centralities_1953-06.csv\n",
      "Processed and updated: centralities_1975-02.csv\n",
      "Processed and updated: centralities_1993-08.csv\n",
      "Processed and updated: centralities_1994-01.csv\n",
      "Processed and updated: centralities_1965-07.csv\n",
      "Processed and updated: centralities_1996-04.csv\n",
      "Processed and updated: centralities_1996-10.csv\n",
      "Processed and updated: centralities_1998-01.csv\n",
      "Processed and updated: centralities_1969-07.csv\n",
      "Processed and updated: centralities_1967-02.csv\n",
      "Processed and updated: centralities_1986-01.csv\n",
      "Processed and updated: centralities_1981-08.csv\n",
      "Processed and updated: centralities_2002-07.csv\n",
      "Processed and updated: centralities_1988-04.csv\n",
      "Processed and updated: centralities_1988-10.csv\n",
      "Processed and updated: centralities_1951-03.csv\n",
      "Processed and updated: centralities_1979-02.csv\n",
      "Processed and updated: centralities_1977-07.csv\n",
      "Processed and updated: centralities_1977-11.csv\n",
      "Processed and updated: centralities_1977-05.csv\n",
      "Processed and updated: centralities_1988-06.csv\n",
      "Processed and updated: centralities_2002-05.csv\n",
      "Processed and updated: centralities_1956-08.csv\n",
      "Processed and updated: centralities_1951-01.csv\n",
      "Processed and updated: centralities_2002-11.csv\n",
      "Processed and updated: centralities_1988-12.csv\n",
      "Processed and updated: centralities_1986-03.csv\n",
      "Processed and updated: centralities_1960-09.csv\n",
      "Processed and updated: centralities_1969-11.csv\n",
      "Processed and updated: centralities_1969-05.csv\n",
      "Processed and updated: centralities_1998-03.csv\n",
      "Processed and updated: centralities_1996-06.csv\n",
      "Processed and updated: centralities_1996-12.csv\n",
      "Processed and updated: centralities_1948-08.csv\n",
      "Processed and updated: centralities_1965-05.csv\n",
      "Processed and updated: centralities_1965-11.csv\n",
      "Processed and updated: centralities_1994-03.csv\n",
      "Processed and updated: centralities_1972-09.csv\n",
      "Processed and updated: centralities_1953-10.csv\n",
      "Processed and updated: centralities_1953-04.csv\n",
      "Processed and updated: centralities_1984-12.csv\n",
      "Processed and updated: centralities_1984-06.csv\n",
      "Processed and updated: centralities_1984-07.csv\n",
      "Processed and updated: centralities_1953-05.csv\n",
      "Processed and updated: centralities_1953-11.csv\n",
      "Processed and updated: centralities_2000-01.csv\n",
      "Processed and updated: centralities_1972-08.csv\n",
      "Processed and updated: centralities_1975-01.csv\n",
      "Processed and updated: centralities_1994-02.csv\n",
      "Processed and updated: centralities_1965-10.csv\n",
      "Processed and updated: centralities_1965-04.csv\n",
      "Processed and updated: centralities_1948-09.csv\n",
      "Processed and updated: centralities_1996-07.csv\n",
      "Processed and updated: centralities_1998-02.csv\n",
      "Processed and updated: centralities_1969-04.csv\n",
      "Processed and updated: centralities_1969-10.csv\n",
      "Processed and updated: centralities_1967-01.csv\n",
      "Processed and updated: centralities_1960-08.csv\n",
      "Processed and updated: centralities_1986-02.csv\n",
      "Processed and updated: centralities_1956-09.csv\n",
      "Processed and updated: centralities_2002-10.csv\n",
      "Processed and updated: centralities_2002-04.csv\n",
      "Processed and updated: centralities_1988-07.csv\n",
      "Processed and updated: centralities_1979-01.csv\n",
      "Processed and updated: centralities_1977-04.csv\n",
      "Processed and updated: centralities_1977-10.csv\n",
      "Processed and updated: centralities_1979-05.csv\n",
      "Processed and updated: centralities_1979-11.csv\n",
      "Processed and updated: centralities_1970-09.csv\n",
      "Processed and updated: centralities_1958-08.csv\n",
      "Processed and updated: centralities_1986-12.csv\n",
      "Processed and updated: centralities_1986-06.csv\n",
      "Processed and updated: centralities_1988-03.csv\n",
      "Processed and updated: centralities_1951-10.csv\n",
      "Processed and updated: centralities_1951-04.csv\n",
      "Processed and updated: centralities_1967-05.csv\n",
      "Processed and updated: centralities_1967-11.csv\n",
      "Processed and updated: centralities_1996-03.csv\n",
      "Processed and updated: centralities_1998-12.csv\n",
      "Processed and updated: centralities_1946-08.csv\n",
      "Processed and updated: centralities_1998-06.csv\n",
      "Processed and updated: centralities_1962-09.csv\n",
      "Processed and updated: centralities_1994-06.csv\n",
      "Processed and updated: centralities_1994-12.csv\n",
      "Processed and updated: centralities_1975-11.csv\n",
      "Processed and updated: centralities_1975-05.csv\n",
      "Processed and updated: centralities_1984-03.csv\n",
      "Processed and updated: centralities_2000-05.csv\n",
      "Processed and updated: centralities_1954-08.csv\n",
      "Processed and updated: centralities_2000-11.csv\n",
      "Processed and updated: centralities_1953-01.csv\n",
      "Processed and updated: centralities_1954-09.csv\n",
      "Processed and updated: centralities_2000-10.csv\n",
      "Processed and updated: centralities_2000-04.csv\n",
      "Processed and updated: centralities_1984-02.csv\n",
      "Processed and updated: centralities_1975-04.csv\n",
      "Processed and updated: centralities_1975-10.csv\n",
      "Processed and updated: centralities_1994-07.csv\n",
      "Processed and updated: centralities_1965-01.csv\n",
      "Processed and updated: centralities_1962-08.csv\n",
      "Processed and updated: centralities_1998-07.csv\n",
      "Processed and updated: centralities_1946-09.csv\n",
      "Processed and updated: centralities_1996-02.csv\n",
      "Processed and updated: centralities_1967-10.csv\n",
      "Processed and updated: centralities_1967-04.csv\n",
      "Processed and updated: centralities_1969-01.csv\n",
      "Processed and updated: centralities_1951-05.csv\n",
      "Processed and updated: centralities_2002-01.csv\n",
      "Processed and updated: centralities_1951-11.csv\n",
      "Processed and updated: centralities_1988-02.csv\n",
      "Processed and updated: centralities_1986-07.csv\n",
      "Processed and updated: centralities_1958-09.csv\n",
      "Processed and updated: centralities_1970-08.csv\n",
      "Processed and updated: centralities_1977-01.csv\n",
      "Processed and updated: centralities_1979-10.csv\n",
      "Processed and updated: centralities_1979-04.csv\n",
      "Processed and updated: centralities_1979-12.csv\n",
      "Processed and updated: centralities_1979-06.csv\n",
      "Processed and updated: centralities_1977-03.csv\n",
      "Processed and updated: centralities_1986-05.csv\n",
      "Processed and updated: centralities_1986-11.csv\n",
      "Processed and updated: centralities_1951-07.csv\n",
      "Processed and updated: centralities_2002-03.csv\n",
      "Processed and updated: centralities_1969-03.csv\n",
      "Processed and updated: centralities_1967-12.csv\n",
      "Processed and updated: centralities_1967-06.csv\n",
      "Processed and updated: centralities_1991-09.csv\n",
      "Processed and updated: centralities_1998-05.csv\n",
      "Processed and updated: centralities_1998-11.csv\n",
      "Processed and updated: centralities_1965-03.csv\n",
      "Processed and updated: centralities_1994-11.csv\n",
      "Processed and updated: centralities_1994-05.csv\n",
      "Processed and updated: centralities_1975-06.csv\n",
      "Processed and updated: centralities_1975-12.csv\n",
      "Processed and updated: centralities_1983-09.csv\n",
      "Processed and updated: centralities_1953-02.csv\n",
      "Processed and updated: centralities_2000-12.csv\n",
      "Processed and updated: centralities_2000-06.csv\n",
      "Processed and updated: centralities_2000-07.csv\n",
      "Processed and updated: centralities_1953-03.csv\n",
      "Processed and updated: centralities_1984-01.csv\n",
      "Processed and updated: centralities_1983-08.csv\n",
      "Processed and updated: centralities_1975-07.csv\n",
      "Processed and updated: centralities_1994-04.csv\n",
      "Processed and updated: centralities_1994-10.csv\n",
      "Processed and updated: centralities_1965-02.csv\n",
      "Processed and updated: centralities_1998-10.csv\n",
      "Processed and updated: centralities_1998-04.csv\n",
      "Processed and updated: centralities_1991-08.csv\n",
      "Processed and updated: centralities_1996-01.csv\n",
      "Processed and updated: centralities_1967-07.csv\n",
      "Processed and updated: centralities_1969-02.csv\n",
      "Processed and updated: centralities_1951-12.csv\n",
      "Processed and updated: centralities_2002-02.csv\n",
      "Processed and updated: centralities_1988-01.csv\n",
      "Processed and updated: centralities_1951-06.csv\n",
      "Processed and updated: centralities_1986-10.csv\n",
      "Processed and updated: centralities_1986-04.csv\n",
      "Processed and updated: centralities_1977-02.csv\n",
      "Processed and updated: centralities_1979-07.csv\n",
      "Processed and updated: centralities_1963-10.csv\n",
      "Processed and updated: centralities_1963-04.csv\n",
      "Processed and updated: centralities_1992-02.csv\n",
      "Processed and updated: centralities_1974-08.csv\n",
      "Processed and updated: centralities_1973-01.csv\n",
      "Processed and updated: centralities_1955-05.csv\n",
      "Processed and updated: centralities_2001-08.csv\n",
      "Processed and updated: centralities_1955-11.csv\n",
      "Processed and updated: centralities_1982-07.csv\n",
      "Processed and updated: centralities_1971-04.csv\n",
      "Processed and updated: centralities_1971-10.csv\n",
      "Processed and updated: centralities_1978-08.csv\n",
      "Processed and updated: centralities_1950-09.csv\n",
      "Processed and updated: centralities_1959-11.csv\n",
      "Processed and updated: centralities_1980-02.csv\n",
      "Processed and updated: centralities_1959-05.csv\n",
      "Processed and updated: centralities_1961-01.csv\n",
      "Processed and updated: centralities_1966-08.csv\n",
      "Processed and updated: centralities_1947-11.csv\n",
      "Processed and updated: centralities_1947-05.csv\n",
      "Processed and updated: centralities_1990-07.csv\n",
      "Processed and updated: centralities_1990-06.csv\n",
      "Processed and updated: centralities_1949-01.csv\n",
      "Processed and updated: centralities_1990-12.csv\n",
      "Processed and updated: centralities_1947-04.csv\n",
      "Processed and updated: centralities_1947-10.csv\n",
      "Processed and updated: centralities_1966-09.csv\n",
      "Processed and updated: centralities_1959-04.csv\n",
      "Processed and updated: centralities_1980-03.csv\n",
      "Processed and updated: centralities_1959-10.csv\n",
      "Processed and updated: centralities_1950-08.csv\n",
      "Processed and updated: centralities_1957-01.csv\n",
      "Processed and updated: centralities_1978-09.csv\n",
      "Processed and updated: centralities_1971-11.csv\n",
      "Processed and updated: centralities_1971-05.csv\n",
      "Processed and updated: centralities_1982-12.csv\n",
      "Processed and updated: centralities_1982-06.csv\n",
      "Processed and updated: centralities_2001-09.csv\n",
      "Processed and updated: centralities_1955-10.csv\n",
      "Processed and updated: centralities_1955-04.csv\n",
      "Processed and updated: centralities_1974-09.csv\n",
      "Processed and updated: centralities_1992-03.csv\n",
      "Processed and updated: centralities_1963-05.csv\n",
      "Processed and updated: centralities_1963-11.csv\n",
      "Processed and updated: centralities_1963-07.csv\n",
      "Processed and updated: centralities_1995-08.csv\n",
      "Processed and updated: centralities_1992-01.csv\n",
      "Processed and updated: centralities_1973-02.csv\n",
      "Processed and updated: centralities_1955-12.csv\n",
      "Processed and updated: centralities_1955-06.csv\n",
      "Processed and updated: centralities_1982-10.csv\n",
      "Processed and updated: centralities_1982-04.csv\n",
      "Processed and updated: centralities_1971-07.csv\n",
      "Processed and updated: centralities_1957-03.csv\n",
      "Processed and updated: centralities_1959-06.csv\n",
      "Processed and updated: centralities_1959-12.csv\n",
      "Processed and updated: centralities_1980-01.csv\n",
      "Processed and updated: centralities_1987-08.csv\n",
      "Processed and updated: centralities_1961-02.csv\n",
      "Processed and updated: centralities_1947-06.csv\n",
      "Processed and updated: centralities_1999-08.csv\n",
      "Processed and updated: centralities_1947-12.csv\n",
      "Processed and updated: centralities_1990-04.csv\n",
      "Processed and updated: centralities_1990-10.csv\n",
      "Processed and updated: centralities_1949-03.csv\n",
      "Processed and updated: centralities_1949-02.csv\n",
      "Processed and updated: centralities_1990-11.csv\n",
      "Processed and updated: centralities_1990-05.csv\n",
      "Processed and updated: centralities_1999-09.csv\n",
      "Processed and updated: centralities_1947-07.csv\n",
      "Processed and updated: centralities_1961-03.csv\n",
      "Processed and updated: centralities_1987-09.csv\n",
      "Processed and updated: centralities_1959-07.csv\n",
      "Processed and updated: centralities_1957-02.csv\n",
      "Processed and updated: centralities_1971-06.csv\n",
      "Processed and updated: centralities_1971-12.csv\n",
      "Processed and updated: centralities_1982-05.csv\n",
      "Processed and updated: centralities_1982-11.csv\n",
      "Processed and updated: centralities_1955-07.csv\n",
      "Processed and updated: centralities_1973-03.csv\n",
      "Processed and updated: centralities_1995-09.csv\n",
      "Processed and updated: centralities_1963-12.csv\n",
      "Processed and updated: centralities_1963-06.csv\n",
      "Processed and updated: centralities_1963-02.csv\n",
      "Processed and updated: centralities_1992-04.csv\n",
      "Processed and updated: centralities_1992-10.csv\n",
      "Processed and updated: centralities_1973-07.csv\n",
      "Processed and updated: centralities_1982-01.csv\n",
      "Processed and updated: centralities_1985-08.csv\n",
      "Processed and updated: centralities_1955-03.csv\n",
      "Processed and updated: centralities_1971-02.csv\n",
      "Processed and updated: centralities_1980-10.csv\n",
      "Processed and updated: centralities_1959-03.csv\n",
      "Processed and updated: centralities_1980-04.csv\n",
      "Processed and updated: centralities_1957-12.csv\n",
      "Processed and updated: centralities_1989-08.csv\n",
      "Processed and updated: centralities_1957-06.csv\n",
      "Processed and updated: centralities_1961-07.csv\n",
      "Processed and updated: centralities_1997-08.csv\n",
      "Processed and updated: centralities_1949-12.csv\n",
      "Processed and updated: centralities_1990-01.csv\n",
      "Processed and updated: centralities_1949-06.csv\n",
      "Processed and updated: centralities_1947-03.csv\n",
      "Processed and updated: centralities_1947-02.csv\n",
      "Processed and updated: centralities_1949-07.csv\n",
      "Processed and updated: centralities_1997-09.csv\n",
      "Processed and updated: centralities_1961-12.csv\n",
      "Processed and updated: centralities_1961-06.csv\n",
      "Processed and updated: centralities_1957-07.csv\n",
      "Processed and updated: centralities_1989-09.csv\n",
      "Processed and updated: centralities_1980-05.csv\n",
      "Processed and updated: centralities_1959-02.csv\n",
      "Processed and updated: centralities_1980-11.csv\n",
      "Processed and updated: centralities_1971-03.csv\n",
      "Processed and updated: centralities_1955-02.csv\n",
      "Processed and updated: centralities_1985-09.csv\n",
      "Processed and updated: centralities_1973-06.csv\n",
      "Processed and updated: centralities_1973-12.csv\n",
      "Processed and updated: centralities_1992-11.csv\n",
      "Processed and updated: centralities_1992-05.csv\n",
      "Processed and updated: centralities_1963-03.csv\n",
      "Processed and updated: centralities_1963-01.csv\n",
      "Processed and updated: centralities_1964-08.csv\n",
      "Processed and updated: centralities_1992-07.csv\n",
      "Processed and updated: centralities_1973-04.csv\n",
      "Processed and updated: centralities_1973-10.csv\n",
      "Processed and updated: centralities_1982-02.csv\n",
      "Processed and updated: centralities_1952-09.csv\n",
      "Processed and updated: centralities_1976-08.csv\n",
      "Processed and updated: centralities_1980-07.csv\n",
      "Processed and updated: centralities_1957-05.csv\n",
      "Processed and updated: centralities_2003-08.csv\n",
      "Processed and updated: centralities_1957-11.csv\n",
      "Processed and updated: centralities_1968-08.csv\n",
      "Processed and updated: centralities_1961-10.csv\n",
      "Processed and updated: centralities_1961-04.csv\n",
      "Processed and updated: centralities_1949-05.csv\n",
      "Processed and updated: centralities_1949-11.csv\n",
      "Processed and updated: centralities_1990-02.csv\n",
      "Processed and updated: centralities_1947-01.csv\n",
      "Processed and updated: centralities_1990-03.csv\n",
      "Processed and updated: centralities_1949-10.csv\n",
      "Processed and updated: centralities_1949-04.csv\n",
      "Processed and updated: centralities_1961-05.csv\n",
      "Processed and updated: centralities_1961-11.csv\n",
      "Processed and updated: centralities_1968-09.csv\n",
      "Processed and updated: centralities_2003-09.csv\n",
      "Processed and updated: centralities_1957-10.csv\n",
      "Processed and updated: centralities_1957-04.csv\n",
      "Processed and updated: centralities_1959-01.csv\n",
      "Processed and updated: centralities_1980-12.csv\n",
      "Processed and updated: centralities_1980-06.csv\n",
      "Processed and updated: centralities_1976-09.csv\n",
      "Processed and updated: centralities_1952-08.csv\n",
      "Processed and updated: centralities_1955-01.csv\n",
      "Processed and updated: centralities_1982-03.csv\n",
      "Processed and updated: centralities_1973-11.csv\n",
      "Processed and updated: centralities_1973-05.csv\n",
      "Processed and updated: centralities_1992-06.csv\n",
      "Processed and updated: centralities_1992-12.csv\n",
      "Processed and updated: centralities_1964-09.csv\n",
      "Processed and updated: centralities_1964-04.csv\n",
      "Processed and updated: centralities_1964-10.csv\n",
      "Processed and updated: centralities_1995-02.csv\n",
      "Processed and updated: centralities_1973-08.csv\n",
      "Processed and updated: centralities_1974-01.csv\n",
      "Processed and updated: centralities_1985-07.csv\n",
      "Processed and updated: centralities_2001-01.csv\n",
      "Processed and updated: centralities_1952-11.csv\n",
      "Processed and updated: centralities_1952-05.csv\n",
      "Processed and updated: centralities_1978-01.csv\n",
      "Processed and updated: centralities_1976-10.csv\n",
      "Processed and updated: centralities_1976-04.csv\n",
      "Processed and updated: centralities_1987-02.csv\n",
      "Processed and updated: centralities_2003-04.csv\n",
      "Processed and updated: centralities_1989-07.csv\n",
      "Processed and updated: centralities_1957-09.csv\n",
      "Processed and updated: centralities_2003-10.csv\n",
      "Processed and updated: centralities_1968-10.csv\n",
      "Processed and updated: centralities_1968-04.csv\n",
      "Processed and updated: centralities_1966-01.csv\n",
      "Processed and updated: centralities_1961-08.csv\n",
      "Processed and updated: centralities_1997-07.csv\n",
      "Processed and updated: centralities_1949-09.csv\n",
      "Processed and updated: centralities_1999-02.csv\n",
      "Processed and updated: centralities_1999-03.csv\n",
      "Processed and updated: centralities_1997-12.csv\n",
      "Processed and updated: centralities_1949-08.csv\n",
      "Processed and updated: centralities_1997-06.csv\n",
      "Processed and updated: centralities_1961-09.csv\n",
      "Processed and updated: centralities_1968-05.csv\n",
      "Processed and updated: centralities_1968-11.csv\n",
      "Processed and updated: centralities_1957-08.csv\n",
      "Processed and updated: centralities_2003-11.csv\n",
      "Processed and updated: centralities_1950-01.csv\n",
      "Processed and updated: centralities_1989-12.csv\n",
      "Processed and updated: centralities_1989-06.csv\n",
      "Processed and updated: centralities_2003-05.csv\n",
      "Processed and updated: centralities_1987-03.csv\n",
      "Processed and updated: centralities_1976-05.csv\n",
      "Processed and updated: centralities_1976-11.csv\n",
      "Processed and updated: centralities_1952-04.csv\n",
      "Processed and updated: centralities_1952-10.csv\n",
      "Processed and updated: centralities_1985-06.csv\n",
      "Processed and updated: centralities_1985-12.csv\n",
      "Processed and updated: centralities_1973-09.csv\n",
      "Processed and updated: centralities_1995-03.csv\n",
      "Processed and updated: centralities_1964-11.csv\n",
      "Processed and updated: centralities_1964-05.csv\n",
      "Processed and updated: centralities_1964-07.csv\n",
      "Processed and updated: centralities_1992-08.csv\n",
      "Processed and updated: centralities_1995-01.csv\n",
      "Processed and updated: centralities_1974-02.csv\n",
      "Processed and updated: centralities_1985-04.csv\n",
      "Processed and updated: centralities_1985-10.csv\n",
      "Processed and updated: centralities_1952-06.csv\n",
      "Processed and updated: centralities_1952-12.csv\n",
      "Processed and updated: centralities_2001-02.csv\n",
      "Processed and updated: centralities_1978-02.csv\n",
      "Processed and updated: centralities_1976-07.csv\n",
      "Processed and updated: centralities_1987-01.csv\n",
      "Processed and updated: centralities_1980-08.csv\n",
      "Processed and updated: centralities_1989-10.csv\n",
      "Processed and updated: centralities_1950-03.csv\n",
      "Processed and updated: centralities_2003-07.csv\n",
      "Processed and updated: centralities_1989-04.csv\n",
      "Processed and updated: centralities_1968-07.csv\n",
      "Processed and updated: centralities_1966-02.csv\n",
      "Processed and updated: centralities_1997-10.csv\n",
      "Processed and updated: centralities_1997-04.csv\n",
      "Processed and updated: centralities_1999-01.csv\n",
      "Processed and updated: centralities_1997-05.csv\n",
      "Processed and updated: centralities_1997-11.csv\n",
      "Processed and updated: centralities_1966-03.csv\n",
      "Processed and updated: centralities_1968-12.csv\n",
      "Processed and updated: centralities_1968-06.csv\n",
      "Processed and updated: centralities_1989-05.csv\n",
      "Processed and updated: centralities_2003-06.csv\n",
      "Processed and updated: centralities_1950-02.csv\n",
      "Processed and updated: centralities_2003-12.csv\n",
      "Processed and updated: centralities_1989-11.csv\n",
      "Processed and updated: centralities_1980-09.csv\n",
      "Processed and updated: centralities_1976-12.csv\n",
      "Processed and updated: centralities_1976-06.csv\n",
      "Processed and updated: centralities_1978-03.csv\n",
      "Processed and updated: centralities_2001-03.csv\n",
      "Processed and updated: centralities_1952-07.csv\n",
      "Processed and updated: centralities_1985-11.csv\n",
      "Processed and updated: centralities_1985-05.csv\n",
      "Processed and updated: centralities_1974-03.csv\n",
      "Processed and updated: centralities_1992-09.csv\n",
      "Processed and updated: centralities_1964-06.csv\n",
      "Processed and updated: centralities_1964-12.csv\n",
      "Processed and updated: centralities_1964-02.csv\n",
      "Processed and updated: centralities_1995-10.csv\n",
      "Processed and updated: centralities_1995-04.csv\n",
      "Processed and updated: centralities_1974-07.csv\n",
      "Processed and updated: centralities_1952-03.csv\n",
      "Processed and updated: centralities_2001-07.csv\n",
      "Processed and updated: centralities_1985-01.csv\n",
      "Processed and updated: centralities_1982-08.csv\n",
      "Processed and updated: centralities_1976-02.csv\n",
      "Processed and updated: centralities_1978-07.csv\n",
      "Processed and updated: centralities_1950-06.csv\n",
      "Processed and updated: centralities_2003-02.csv\n",
      "Processed and updated: centralities_1950-12.csv\n",
      "Processed and updated: centralities_1989-01.csv\n",
      "Processed and updated: centralities_1987-04.csv\n",
      "Processed and updated: centralities_1987-10.csv\n",
      "Processed and updated: centralities_1966-07.csv\n",
      "Processed and updated: centralities_1968-02.csv\n",
      "Processed and updated: centralities_1999-04.csv\n",
      "Processed and updated: centralities_1999-10.csv\n",
      "Processed and updated: centralities_1990-08.csv\n",
      "Processed and updated: centralities_1997-01.csv\n",
      "Processed and updated: centralities_1990-09.csv\n",
      "Processed and updated: centralities_1999-11.csv\n",
      "Processed and updated: centralities_1999-05.csv\n",
      "Processed and updated: centralities_1968-03.csv\n",
      "Processed and updated: centralities_1966-06.csv\n",
      "Processed and updated: centralities_1966-12.csv\n",
      "Processed and updated: centralities_1987-11.csv\n",
      "Processed and updated: centralities_1987-05.csv\n",
      "Processed and updated: centralities_2003-03.csv\n",
      "Processed and updated: centralities_1950-07.csv\n",
      "Processed and updated: centralities_1978-06.csv\n",
      "Processed and updated: centralities_1978-12.csv\n",
      "Processed and updated: centralities_1976-03.csv\n",
      "Processed and updated: centralities_1982-09.csv\n",
      "Processed and updated: centralities_2001-06.csv\n",
      "Processed and updated: centralities_2001-12.csv\n",
      "Processed and updated: centralities_1952-02.csv\n",
      "Processed and updated: centralities_1974-12.csv\n",
      "Processed and updated: centralities_1974-06.csv\n",
      "Processed and updated: centralities_1995-05.csv\n",
      "Processed and updated: centralities_1995-11.csv\n",
      "Processed and updated: centralities_1964-03.csv\n",
      "Processed and updated: centralities_1964-01.csv\n",
      "Processed and updated: centralities_1963-08.csv\n",
      "Processed and updated: centralities_1995-07.csv\n",
      "Processed and updated: centralities_1974-10.csv\n",
      "Processed and updated: centralities_1974-04.csv\n",
      "Processed and updated: centralities_2001-04.csv\n",
      "Processed and updated: centralities_1955-09.csv\n",
      "Processed and updated: centralities_2001-10.csv\n",
      "Processed and updated: centralities_1985-02.csv\n",
      "Processed and updated: centralities_1971-08.csv\n",
      "Processed and updated: centralities_1976-01.csv\n",
      "Processed and updated: centralities_1978-04.csv\n",
      "Processed and updated: centralities_1978-10.csv\n",
      "Processed and updated: centralities_1950-11.csv\n",
      "Processed and updated: centralities_2003-01.csv\n",
      "Processed and updated: centralities_1989-02.csv\n",
      "Processed and updated: centralities_1950-05.csv\n",
      "Processed and updated: centralities_1959-09.csv\n",
      "Processed and updated: centralities_1987-07.csv\n",
      "Processed and updated: centralities_1966-04.csv\n",
      "Processed and updated: centralities_1966-10.csv\n",
      "Processed and updated: centralities_1968-01.csv\n",
      "Processed and updated: centralities_1947-09.csv\n",
      "Processed and updated: centralities_1999-07.csv\n",
      "Processed and updated: centralities_1997-02.csv\n",
      "Processed and updated: centralities_1997-03.csv\n",
      "Processed and updated: centralities_1999-06.csv\n",
      "Processed and updated: centralities_1999-12.csv\n",
      "Processed and updated: centralities_1947-08.csv\n",
      "Processed and updated: centralities_1966-11.csv\n",
      "Processed and updated: centralities_1966-05.csv\n",
      "Processed and updated: centralities_1987-06.csv\n",
      "Processed and updated: centralities_1959-08.csv\n",
      "Processed and updated: centralities_1987-12.csv\n",
      "Processed and updated: centralities_1950-04.csv\n",
      "Processed and updated: centralities_1989-03.csv\n",
      "Processed and updated: centralities_1950-10.csv\n",
      "Processed and updated: centralities_1978-11.csv\n",
      "Processed and updated: centralities_1978-05.csv\n",
      "Processed and updated: centralities_1971-09.csv\n",
      "Processed and updated: centralities_1985-03.csv\n",
      "Processed and updated: centralities_1955-08.csv\n",
      "Processed and updated: centralities_1952-01.csv\n",
      "Processed and updated: centralities_2001-11.csv\n",
      "Processed and updated: centralities_2001-05.csv\n",
      "Processed and updated: centralities_1974-05.csv\n",
      "Processed and updated: centralities_1974-11.csv\n",
      "Processed and updated: centralities_1995-12.csv\n",
      "Processed and updated: centralities_1995-06.csv\n",
      "Processed and updated: centralities_1963-09.csv\n",
      "Processed and updated: centralities_1970-12.csv\n",
      "Processed and updated: centralities_1970-06.csv\n",
      "Processed and updated: centralities_1958-07.csv\n",
      "Processed and updated: centralities_1986-09.csv\n",
      "Processed and updated: centralities_1956-02.csv\n",
      "Processed and updated: centralities_1960-03.csv\n",
      "Processed and updated: centralities_1991-05.csv\n",
      "Processed and updated: centralities_1948-02.csv\n",
      "Processed and updated: centralities_1991-11.csv\n",
      "Processed and updated: centralities_1946-07.csv\n",
      "Processed and updated: centralities_1998-09.csv\n",
      "Processed and updated: centralities_1962-06.csv\n",
      "Processed and updated: centralities_1962-12.csv\n",
      "Processed and updated: centralities_1994-09.csv\n",
      "Processed and updated: centralities_1972-03.csv\n",
      "Processed and updated: centralities_1983-11.csv\n",
      "Processed and updated: centralities_1983-05.csv\n",
      "Processed and updated: centralities_1954-07.csv\n",
      "Processed and updated: centralities_1954-06.csv\n",
      "Processed and updated: centralities_1954-12.csv\n",
      "Processed and updated: centralities_1983-04.csv\n",
      "Processed and updated: centralities_1983-10.csv\n",
      "Processed and updated: centralities_1972-02.csv\n",
      "Processed and updated: centralities_1994-08.csv\n",
      "Processed and updated: centralities_1993-01.csv\n",
      "Processed and updated: centralities_1962-07.csv\n",
      "Processed and updated: centralities_1998-08.csv\n",
      "Processed and updated: centralities_1946-12.csv\n",
      "Processed and updated: centralities_1946-06.csv\n",
      "Processed and updated: centralities_1991-10.csv\n",
      "Processed and updated: centralities_1948-03.csv\n",
      "Processed and updated: centralities_1991-04.csv\n",
      "Processed and updated: centralities_1960-02.csv\n",
      "Processed and updated: centralities_1956-03.csv\n",
      "Processed and updated: centralities_1958-12.csv\n",
      "Processed and updated: centralities_1981-01.csv\n",
      "Processed and updated: centralities_1986-08.csv\n",
      "Processed and updated: centralities_1958-06.csv\n",
      "Processed and updated: centralities_1970-07.csv\n",
      "Processed and updated: centralities_1979-09.csv\n",
      "Processed and updated: centralities_1970-05.csv\n",
      "Processed and updated: centralities_1970-11.csv\n",
      "Processed and updated: centralities_1981-03.csv\n",
      "Processed and updated: centralities_1958-10.csv\n",
      "Processed and updated: centralities_1958-04.csv\n",
      "Processed and updated: centralities_1951-08.csv\n",
      "Processed and updated: centralities_1956-01.csv\n",
      "Processed and updated: centralities_1967-09.csv\n",
      "Processed and updated: centralities_1948-01.csv\n",
      "Processed and updated: centralities_1991-12.csv\n",
      "Processed and updated: centralities_1991-06.csv\n",
      "Processed and updated: centralities_1946-10.csv\n",
      "Processed and updated: centralities_1962-11.csv\n",
      "Processed and updated: centralities_1962-05.csv\n",
      "Processed and updated: centralities_1993-03.csv\n",
      "Processed and updated: centralities_1975-09.csv\n",
      "Processed and updated: centralities_1983-06.csv\n",
      "Processed and updated: centralities_1983-12.csv\n",
      "Processed and updated: centralities_1954-04.csv\n",
      "Processed and updated: centralities_2000-09.csv\n",
      "Processed and updated: centralities_1954-10.csv\n",
      "Processed and updated: centralities_2000-08.csv\n",
      "Processed and updated: centralities_1954-11.csv\n",
      "Processed and updated: centralities_1954-05.csv\n",
      "Processed and updated: centralities_1983-07.csv\n",
      "Processed and updated: centralities_1975-08.csv\n",
      "Processed and updated: centralities_1972-01.csv\n",
      "Processed and updated: centralities_1993-02.csv\n",
      "Processed and updated: centralities_1962-04.csv\n",
      "Processed and updated: centralities_1962-10.csv\n",
      "Processed and updated: centralities_1946-05.csv\n",
      "Processed and updated: centralities_1946-11.csv\n",
      "Processed and updated: centralities_1991-07.csv\n",
      "Processed and updated: centralities_1960-01.csv\n",
      "Processed and updated: centralities_1967-08.csv\n",
      "Processed and updated: centralities_1951-09.csv\n",
      "Processed and updated: centralities_1958-05.csv\n",
      "Processed and updated: centralities_1958-11.csv\n",
      "Processed and updated: centralities_1981-02.csv\n",
      "Processed and updated: centralities_1970-10.csv\n",
      "Processed and updated: centralities_1970-04.csv\n",
      "Processed and updated: centralities_1979-08.csv\n",
      "Processed and updated: centralities_1977-09.csv\n",
      "Processed and updated: centralities_1956-04.csv\n",
      "Processed and updated: centralities_2002-09.csv\n",
      "Processed and updated: centralities_1956-10.csv\n",
      "Processed and updated: centralities_1981-06.csv\n",
      "Processed and updated: centralities_1958-01.csv\n",
      "Processed and updated: centralities_1981-12.csv\n",
      "Processed and updated: centralities_1960-11.csv\n",
      "Processed and updated: centralities_1960-05.csv\n",
      "Processed and updated: centralities_1969-09.csv\n",
      "Processed and updated: centralities_1948-04.csv\n",
      "Processed and updated: centralities_1991-03.csv\n",
      "Processed and updated: centralities_1948-10.csv\n",
      "Processed and updated: centralities_1965-09.csv\n",
      "Processed and updated: centralities_1993-12.csv\n",
      "Processed and updated: centralities_1993-06.csv\n",
      "Processed and updated: centralities_1972-05.csv\n",
      "Processed and updated: centralities_1972-11.csv\n",
      "Processed and updated: centralities_1953-08.csv\n",
      "Processed and updated: centralities_1954-01.csv\n",
      "Processed and updated: centralities_1983-03.csv\n",
      "Processed and updated: centralities_1983-02.csv\n",
      "Processed and updated: centralities_1953-09.csv\n",
      "Processed and updated: centralities_1972-10.csv\n",
      "Processed and updated: centralities_1972-04.csv\n",
      "Processed and updated: centralities_1993-07.csv\n",
      "Processed and updated: centralities_1962-01.csv\n",
      "Processed and updated: centralities_1965-08.csv\n",
      "Processed and updated: centralities_1948-11.csv\n",
      "Processed and updated: centralities_1991-02.csv\n",
      "Processed and updated: centralities_1948-05.csv\n",
      "Processed and updated: centralities_1969-08.csv\n",
      "Processed and updated: centralities_1960-04.csv\n",
      "Processed and updated: centralities_1960-10.csv\n",
      "Processed and updated: centralities_1981-07.csv\n",
      "Processed and updated: centralities_2002-08.csv\n",
      "Processed and updated: centralities_1956-11.csv\n",
      "Processed and updated: centralities_1956-05.csv\n",
      "Processed and updated: centralities_1977-08.csv\n",
      "Processed and updated: centralities_1970-01.csv\n",
      "Processed and updated: centralities_1970-03.csv\n",
      "Processed and updated: centralities_1988-09.csv\n",
      "Processed and updated: centralities_1956-07.csv\n",
      "Processed and updated: centralities_1958-02.csv\n",
      "Processed and updated: centralities_1981-11.csv\n",
      "Processed and updated: centralities_1981-05.csv\n",
      "Processed and updated: centralities_1960-06.csv\n",
      "Processed and updated: centralities_1960-12.csv\n",
      "Processed and updated: centralities_1996-09.csv\n",
      "Processed and updated: centralities_1948-07.csv\n",
      "Processed and updated: centralities_1962-03.csv\n",
      "Processed and updated: centralities_1993-05.csv\n",
      "Processed and updated: centralities_1993-11.csv\n",
      "Processed and updated: centralities_1972-12.csv\n",
      "Processed and updated: centralities_1972-06.csv\n",
      "Processed and updated: centralities_1954-02.csv\n",
      "Processed and updated: centralities_1984-09.csv\n",
      "Processed and updated: centralities_1983-01.csv\n",
      "Processed and updated: centralities_1984-08.csv\n",
      "Processed and updated: centralities_1954-03.csv\n",
      "Processed and updated: centralities_1972-07.csv\n",
      "Processed and updated: centralities_1993-10.csv\n",
      "Processed and updated: centralities_1993-04.csv\n",
      "Processed and updated: centralities_1962-02.csv\n",
      "Processed and updated: centralities_1948-06.csv\n",
      "Processed and updated: centralities_1996-08.csv\n",
      "Processed and updated: centralities_1948-12.csv\n",
      "Processed and updated: centralities_1991-01.csv\n",
      "Processed and updated: centralities_1960-07.csv\n",
      "Processed and updated: centralities_1981-04.csv\n",
      "Processed and updated: centralities_1981-10.csv\n",
      "Processed and updated: centralities_1958-03.csv\n",
      "Processed and updated: centralities_1956-06.csv\n",
      "Processed and updated: centralities_1956-12.csv\n",
      "Processed and updated: centralities_1988-08.csv\n",
      "Processed and updated: centralities_1970-02.csv\n"
     ]
    }
   ],
   "source": [
    "folder_path = \"monthly_centralities_csv_new\"\n",
    "\n",
    "# iterate over all CSV files in the folder\n",
    "for file_name in os.listdir(folder_path):\n",
    "    if file_name.endswith(\".csv\"):\n",
    "        file_path = os.path.join(folder_path, file_name)\n",
    "        \n",
    "        df = pd.read_csv(file_path)\n",
    "        \n",
    "        if \"Centrality Type\" in df.columns and \"Score\" in df.columns:\n",
    "            # calculate z-scores for each centrality type\n",
    "            df[\"Z-Score\"] = df.groupby(\"Centrality Type\")[\"Score\"].transform(\n",
    "                lambda x: (x - x.mean()) / x.std()\n",
    "            )\n",
    "            \n",
    "            # resave the updated CSV file\n",
    "            df.to_csv(file_path, index=False)\n",
    "            print(f\"Processed and updated: {file_name}\")\n",
    "        else:\n",
    "            print(f\"Skipped file (missing columns): {file_name}\")\n"
   ]
  },
  {
   "cell_type": "code",
   "execution_count": null,
   "metadata": {},
   "outputs": [
    {
     "name": "stdout",
     "output_type": "stream",
     "text": [
      "                            OLS Regression Results                            \n",
      "==============================================================================\n",
      "Dep. Variable:                  Score   R-squared:                       0.193\n",
      "Model:                            OLS   Adj. R-squared:                  0.193\n",
      "Method:                 Least Squares   F-statistic:                 1.407e+04\n",
      "Date:                Thu, 12 Dec 2024   Prob (F-statistic):               0.00\n",
      "Time:                        01:07:07   Log-Likelihood:            -2.3159e+05\n",
      "No. Observations:              176588   AIC:                         4.632e+05\n",
      "Df Residuals:                  176584   BIC:                         4.632e+05\n",
      "Df Model:                           3                                         \n",
      "Covariance Type:            nonrobust                                         \n",
      "==============================================================================\n",
      "                 coef    std err          t      P>|t|      [0.025      0.975]\n",
      "------------------------------------------------------------------------------\n",
      "Intercept      0.0809      0.003     28.494      0.000       0.075       0.086\n",
      "Post           0.0216      0.004      4.864      0.000       0.013       0.030\n",
      "Group         -2.0681      0.014   -144.092      0.000      -2.096      -2.040\n",
      "Post:Group    -0.3683      0.022    -16.765      0.000      -0.411      -0.325\n",
      "==============================================================================\n",
      "Omnibus:                    18277.388   Durbin-Watson:                   1.988\n",
      "Prob(Omnibus):                  0.000   Jarque-Bera (JB):           123441.471\n",
      "Skew:                          -0.261   Prob(JB):                         0.00\n",
      "Kurtosis:                       7.063   Cond. No.                         12.5\n",
      "==============================================================================\n",
      "\n",
      "Notes:\n",
      "[1] Standard Errors assume that the covariance matrix of the errors is correctly specified.\n"
     ]
    },
    {
     "name": "stderr",
     "output_type": "stream",
     "text": [
      "/var/folders/_q/5qtzmly96cj9fy0rbv42md4m0000gn/T/ipykernel_40432/2513347136.py:77: SettingWithCopyWarning: \n",
      "A value is trying to be set on a copy of a slice from a DataFrame.\n",
      "Try using .loc[row_indexer,col_indexer] = value instead\n",
      "\n",
      "See the caveats in the documentation: https://pandas.pydata.org/pandas-docs/stable/user_guide/indexing.html#returning-a-view-versus-a-copy\n",
      "  post_subset['Time'] = post_subset['Date'].map(pd.Timestamp.toordinal)\n",
      "/var/folders/_q/5qtzmly96cj9fy0rbv42md4m0000gn/T/ipykernel_40432/2513347136.py:77: SettingWithCopyWarning: \n",
      "A value is trying to be set on a copy of a slice from a DataFrame.\n",
      "Try using .loc[row_indexer,col_indexer] = value instead\n",
      "\n",
      "See the caveats in the documentation: https://pandas.pydata.org/pandas-docs/stable/user_guide/indexing.html#returning-a-view-versus-a-copy\n",
      "  post_subset['Time'] = post_subset['Date'].map(pd.Timestamp.toordinal)\n",
      "/var/folders/_q/5qtzmly96cj9fy0rbv42md4m0000gn/T/ipykernel_40432/2513347136.py:77: SettingWithCopyWarning: \n",
      "A value is trying to be set on a copy of a slice from a DataFrame.\n",
      "Try using .loc[row_indexer,col_indexer] = value instead\n",
      "\n",
      "See the caveats in the documentation: https://pandas.pydata.org/pandas-docs/stable/user_guide/indexing.html#returning-a-view-versus-a-copy\n",
      "  post_subset['Time'] = post_subset['Date'].map(pd.Timestamp.toordinal)\n",
      "/var/folders/_q/5qtzmly96cj9fy0rbv42md4m0000gn/T/ipykernel_40432/2513347136.py:77: SettingWithCopyWarning: \n",
      "A value is trying to be set on a copy of a slice from a DataFrame.\n",
      "Try using .loc[row_indexer,col_indexer] = value instead\n",
      "\n",
      "See the caveats in the documentation: https://pandas.pydata.org/pandas-docs/stable/user_guide/indexing.html#returning-a-view-versus-a-copy\n",
      "  post_subset['Time'] = post_subset['Date'].map(pd.Timestamp.toordinal)\n"
     ]
    },
    {
     "data": {
      "image/png": "[encoded data removed]",
      "text/plain": [
       "<Figure size 1200x600 with 1 Axes>"
      ]
     },
     "metadata": {},
     "output_type": "display_data"
    }
   ],
   "source": [
    "input_folder = \"monthly_centralities_csv_new\"\n",
    "centrality_type_to_analyze = \"Closeness Centrality\"\n",
    "\n",
    "# read in the treatment and control nodes\n",
    "female_words = pd.read_csv('female_words.csv')\n",
    "top_words = pd.read_csv('research_dictionary.csv')\n",
    "treatment_nodes = list(set(female_words['token'].tolist()))\n",
    "control_nodes = list(set(top_words['token'].tolist()) - set(treatment_nodes))\n",
    "\n",
    "# set the years and months to analyze\n",
    "analysis_years = range(1972, 1980)\n",
    "analysis_months = range(1, 13)\n",
    "\n",
    "data = []\n",
    "\n",
    "# iterate over all years and months\n",
    "for year in analysis_years:\n",
    "    for month in analysis_months:\n",
    "        file_name = f\"centralities_{year}-{month:02d}.csv\"\n",
    "        file_path = os.path.join(input_folder, file_name)\n",
    "        if os.path.exists(file_path):\n",
    "            df = pd.read_csv(file_path)\n",
    "\n",
    "            df = df[df[\"Centrality Type\"] == centrality_type_to_analyze]\n",
    "\n",
    "            # add the group tagging and time period information\n",
    "            for node in treatment_nodes:\n",
    "                if node in df[\"Node\"].values:\n",
    "                    score = df[df[\"Node\"] == node][\"Z-Score\"].values[0]\n",
    "                    data.append({\"Year\": year, \"Month\": month, \"Node\": node, \"Group\": \"Treatment\", \"Score\": score})\n",
    "            for node in control_nodes:\n",
    "                if node in df[\"Node\"].values:\n",
    "                    score = df[df[\"Node\"] == node][\"Z-Score\"].values[0]\n",
    "                    data.append({\"Year\": year, \"Month\": month, \"Node\": node, \"Group\": \"Control\", \"Score\": score})\n",
    "\n",
    "data_df = pd.DataFrame(data)\n",
    "\n",
    "if data_df.empty:\n",
    "    print(\"No valid data found for the specified parameters.\")\n",
    "else:\n",
    "    # add post column to mark the data after the end of the Cultural Revolution\n",
    "    data_df[\"Post\"] = ((data_df[\"Year\"] > 1976) | ((data_df[\"Year\"] == 1976) & (data_df[\"Month\"] >= 10))).astype(int)\n",
    "    data_df[\"Group\"] = data_df[\"Group\"].map({\"Treatment\": 1, \"Control\": 0})  # transform group to numeric\n",
    "\n",
    "    # DID regression\n",
    "    model = smf.ols(\"Score ~ Post + Group + Post:Group\", data=data_df).fit()\n",
    "    print(model.summary())\n",
    "\n",
    "    # plot the trend of average scores by group\n",
    "    avg_scores = data_df.groupby([\"Year\", \"Month\", \"Group\", \"Post\"])[\"Score\"].mean().reset_index()\n",
    "    avg_scores[\"Date\"] = pd.to_datetime(avg_scores[\"Year\"].astype(str) + '-' + avg_scores[\"Month\"].astype(str).str.zfill(2))\n",
    "\n",
    "    plt.figure(figsize=(12, 6))\n",
    "\n",
    "    treatment_color = \"blue\"\n",
    "    control_color = \"green\"\n",
    "\n",
    "    for group, group_label, color in [(1, \"Treatment Group\", treatment_color), (0, \"Control Group\", control_color)]:\n",
    "        subset = avg_scores[avg_scores[\"Group\"] == group]\n",
    "        plt.plot(subset[\"Date\"], subset[\"Score\"], marker=\"o\", label=group_label, color=color)\n",
    "\n",
    "        # regression lines plotted for each post period and group\n",
    "        for post in [0, 1]:\n",
    "            post_subset = subset[subset[\"Post\"] == post]\n",
    "            post_subset['Time'] = post_subset['Date'].map(pd.Timestamp.toordinal)\n",
    "            coef = np.polyfit(post_subset['Time'], post_subset['Score'], 1)\n",
    "            fit_line = np.polyval(coef, post_subset['Time'])\n",
    "            plt.plot(post_subset['Date'], fit_line, linestyle=\"--\", color=color)\n",
    "\n",
    "    plt.axvline(pd.Timestamp(\"1976-09-01\"), color=\"red\", linestyle=\"--\", label=\"End of Cultural Revolution (1976-09)\")\n",
    "    plt.xlabel(\"Date\", fontsize=14)\n",
    "    plt.ylabel(\"Average Score\", fontsize=14)\n",
    "    plt.legend()\n",
    "    plt.grid(alpha=0.3)\n",
    "    plt.tight_layout()\n",
    "    plt.show()"
   ]
  }
 ],
 "metadata": {
  "kernelspec": {
   "display_name": "Python 3",
   "language": "python",
   "name": "python3"
  },
  "language_info": {
   "codemirror_mode": {
    "name": "ipython",
    "version": 3
   },
   "file_extension": ".py",
   "mimetype": "text/x-python",
   "name": "python",
   "nbconvert_exporter": "python",
   "pygments_lexer": "ipython3",
   "version": "3.9.6"
  }
 },
 "nbformat": 4,
 "nbformat_minor": 2
}
